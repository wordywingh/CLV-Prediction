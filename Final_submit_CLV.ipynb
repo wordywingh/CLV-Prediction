{
 "cells": [
  {
   "cell_type": "markdown",
   "metadata": {
    "id": "GkA9EFyb8Ofy"
   },
   "source": [
    "## Importing Libraries"
   ]
  },
  {
   "cell_type": "code",
   "execution_count": 1,
   "metadata": {
    "id": "AvGnyGZ38VOP"
   },
   "outputs": [],
   "source": [
    "#importing libraries\n",
    "import pandas as pd\n",
    "import numpy as np\n",
    "import matplotlib.pyplot as plt\n",
    "from matplotlib import style\n",
    "import seaborn as sns\n",
    "sns.set(style=\"ticks\")\n",
    "from datetime import date\n",
    "\n",
    "pd.set_option('display.max_columns', 100)\n",
    "np.random.seed(42)\n",
    "\n",
    "%matplotlib inline"
   ]
  },
  {
   "cell_type": "markdown",
   "metadata": {
    "id": "Hkgc7QCnA8pW"
   },
   "source": [
    "## Import datasets"
   ]
  },
  {
   "cell_type": "code",
   "execution_count": 2,
   "metadata": {
    "colab": {
     "base_uri": "https://localhost:8080/",
     "height": 206
    },
    "id": "0iVwm8P1UnFA",
    "outputId": "ff0a78df-4a71-4dfe-98d5-2c1559f44d3a"
   },
   "outputs": [],
   "source": [
    "# Customer data\n",
    "customers = pd.read_csv(\"olist_customers_dataset.csv\")"
   ]
  },
  {
   "cell_type": "code",
   "execution_count": 3,
   "metadata": {
    "colab": {
     "base_uri": "https://localhost:8080/",
     "height": 206
    },
    "id": "tX5zeM8LUnIQ",
    "outputId": "0be96f7f-1731-4387-d67b-04b160bdd3bd"
   },
   "outputs": [],
   "source": [
    "# Orders data\n",
    "orders = pd.read_csv(\"olist_orders_dataset.csv\")"
   ]
  },
  {
   "cell_type": "code",
   "execution_count": 4,
   "metadata": {
    "colab": {
     "base_uri": "https://localhost:8080/",
     "height": 206
    },
    "id": "mL6eF72wUnLw",
    "outputId": "fc1a03f9-6268-459e-b8ea-f1a72ada369e"
   },
   "outputs": [],
   "source": [
    "# Payments data\n",
    "payments = pd.read_csv(\"olist_order_payments_dataset.csv\")"
   ]
  },
  {
   "cell_type": "code",
   "execution_count": 5,
   "metadata": {
    "colab": {
     "base_uri": "https://localhost:8080/",
     "height": 206
    },
    "id": "F59mxSbsUnOh",
    "outputId": "92b89523-9114-432f-bc41-3c076f812a6d"
   },
   "outputs": [],
   "source": [
    "# Items data\n",
    "items = pd.read_csv(\"olist_order_items_dataset.csv\")"
   ]
  },
  {
   "cell_type": "markdown",
   "metadata": {
    "id": "YzMG_Op-kMXc"
   },
   "source": [
    "### Description of the dataset\n",
    "* **order_status** : Reference to the order status (delivered, shipped, etc).\n",
    "* **order_item_id** : sequential number identifying number of items included in the same order.\n",
    "* **freight_value** : item freight value item (if an order has more than one item the freight value is splitted between items)\n",
    "* **payment_sequential** : a customer may pay an order with more than one payment method. If so, a sequence will be created to accommodate all payments.\n",
    "* **payment_installment** : number of installments chosen by the customer.\n",
    "* **payment_value** : transaction value."
   ]
  },
  {
   "cell_type": "markdown",
   "metadata": {
    "id": "Ds8vImZ0KMpU"
   },
   "source": [
    "## Know Our Data Metrics"
   ]
  },
  {
   "cell_type": "code",
   "execution_count": 6,
   "metadata": {
    "colab": {
     "base_uri": "https://localhost:8080/",
     "height": 289
    },
    "id": "188b3cc1",
    "outputId": "5c8945f4-3cc4-47b4-d55b-ac3ec994bfd2"
   },
   "outputs": [],
   "source": [
    "# creating master dataframe\n",
    "df1 = payments.merge(items, on='order_id')\n",
    "df2 = df1.merge(orders, on='order_id')\n",
    "data = df2.merge(customers, on='customer_id')"
   ]
  },
  {
   "cell_type": "code",
   "execution_count": 7,
   "metadata": {
    "colab": {
     "base_uri": "https://localhost:8080/",
     "height": 206
    },
    "id": "9c920ae4",
    "outputId": "42b29482-a03c-4cc0-af4b-3a4ae749a731"
   },
   "outputs": [
    {
     "data": {
      "text/html": [
       "<div>\n",
       "<style scoped>\n",
       "    .dataframe tbody tr th:only-of-type {\n",
       "        vertical-align: middle;\n",
       "    }\n",
       "\n",
       "    .dataframe tbody tr th {\n",
       "        vertical-align: top;\n",
       "    }\n",
       "\n",
       "    .dataframe thead th {\n",
       "        text-align: right;\n",
       "    }\n",
       "</style>\n",
       "<table border=\"1\" class=\"dataframe\">\n",
       "  <thead>\n",
       "    <tr style=\"text-align: right;\">\n",
       "      <th></th>\n",
       "      <th>OrderID</th>\n",
       "      <th>CustomerUniqueID</th>\n",
       "      <th>CustomerID</th>\n",
       "      <th>PurchaseTime</th>\n",
       "      <th>OrderStatus</th>\n",
       "      <th>PaymentValue</th>\n",
       "    </tr>\n",
       "  </thead>\n",
       "  <tbody>\n",
       "    <tr>\n",
       "      <th>0</th>\n",
       "      <td>b81ef226f3fe1789b1e8b2acac839d17</td>\n",
       "      <td>708ab75d2a007f0564aedd11139c7708</td>\n",
       "      <td>0a8556ac6be836b46b3e89920d59291c</td>\n",
       "      <td>2018-04-25 22:01:49</td>\n",
       "      <td>delivered</td>\n",
       "      <td>99.33</td>\n",
       "    </tr>\n",
       "    <tr>\n",
       "      <th>1</th>\n",
       "      <td>a9810da82917af2d9aefd1278f1dcfa0</td>\n",
       "      <td>a8b9d3a27068454b1c98cc67d4e31e6f</td>\n",
       "      <td>f2c7fc58a9de810828715166c672f10a</td>\n",
       "      <td>2018-06-26 11:01:38</td>\n",
       "      <td>delivered</td>\n",
       "      <td>24.39</td>\n",
       "    </tr>\n",
       "    <tr>\n",
       "      <th>2</th>\n",
       "      <td>25e8ea4e93396b6fa0d3dd708e76c1bd</td>\n",
       "      <td>6f70c0b2f7552832ba46eb57b1c5651e</td>\n",
       "      <td>25b14b69de0b6e184ae6fe2755e478f9</td>\n",
       "      <td>2017-12-12 11:19:55</td>\n",
       "      <td>delivered</td>\n",
       "      <td>65.71</td>\n",
       "    </tr>\n",
       "    <tr>\n",
       "      <th>3</th>\n",
       "      <td>ba78997921bbcdc1373bb41e913ab953</td>\n",
       "      <td>87695ed086ebd36f20404c82d20fca87</td>\n",
       "      <td>7a5d8efaaa1081f800628c30d2b0728f</td>\n",
       "      <td>2017-12-06 12:04:06</td>\n",
       "      <td>delivered</td>\n",
       "      <td>107.78</td>\n",
       "    </tr>\n",
       "    <tr>\n",
       "      <th>4</th>\n",
       "      <td>42fdf880ba16b47b59251dd489d4441a</td>\n",
       "      <td>4291db0da71914754618cd789aebcd56</td>\n",
       "      <td>15fd6fb8f8312dbb4674e4518d6fa3b3</td>\n",
       "      <td>2018-05-21 13:59:17</td>\n",
       "      <td>delivered</td>\n",
       "      <td>128.45</td>\n",
       "    </tr>\n",
       "  </tbody>\n",
       "</table>\n",
       "</div>"
      ],
      "text/plain": [
       "                            OrderID                  CustomerUniqueID  \\\n",
       "0  b81ef226f3fe1789b1e8b2acac839d17  708ab75d2a007f0564aedd11139c7708   \n",
       "1  a9810da82917af2d9aefd1278f1dcfa0  a8b9d3a27068454b1c98cc67d4e31e6f   \n",
       "2  25e8ea4e93396b6fa0d3dd708e76c1bd  6f70c0b2f7552832ba46eb57b1c5651e   \n",
       "3  ba78997921bbcdc1373bb41e913ab953  87695ed086ebd36f20404c82d20fca87   \n",
       "4  42fdf880ba16b47b59251dd489d4441a  4291db0da71914754618cd789aebcd56   \n",
       "\n",
       "                         CustomerID         PurchaseTime OrderStatus  \\\n",
       "0  0a8556ac6be836b46b3e89920d59291c  2018-04-25 22:01:49   delivered   \n",
       "1  f2c7fc58a9de810828715166c672f10a  2018-06-26 11:01:38   delivered   \n",
       "2  25b14b69de0b6e184ae6fe2755e478f9  2017-12-12 11:19:55   delivered   \n",
       "3  7a5d8efaaa1081f800628c30d2b0728f  2017-12-06 12:04:06   delivered   \n",
       "4  15fd6fb8f8312dbb4674e4518d6fa3b3  2018-05-21 13:59:17   delivered   \n",
       "\n",
       "   PaymentValue  \n",
       "0         99.33  \n",
       "1         24.39  \n",
       "2         65.71  \n",
       "3        107.78  \n",
       "4        128.45  "
      ]
     },
     "execution_count": 7,
     "metadata": {},
     "output_type": "execute_result"
    }
   ],
   "source": [
    "# creating a new dataframe with only the customer details necessary for calculating metrics\n",
    "\n",
    "df = data.loc[:,['order_id','customer_unique_id','customer_id','order_purchase_timestamp','order_status','payment_value']]\n",
    "df.columns = ['OrderID','CustomerUniqueID','CustomerID','PurchaseTime','OrderStatus','PaymentValue']\n",
    "df.head()"
   ]
  },
  {
   "cell_type": "markdown",
   "metadata": {
    "id": "c5QKB4FLJNMA"
   },
   "source": [
    "**Description of the dataset** <br>\n",
    "**OrderID :** ID of the order placed <br>\n",
    "**CustomerUniqueID :**  Unique ID of a customer <br>\n",
    "**CustomerID :** Customer ID <br>\n",
    "**PurchaseTime :** Datetime of order delivered <br>\n",
    "**OrderStatus :** Reference to the status of order (delivered, shipped, etc) <br>\n",
    "**PaymentValue :** Amount paid by the customer for the order <br>"
   ]
  },
  {
   "cell_type": "markdown",
   "metadata": {
    "id": "TbxK8LM6KaCj"
   },
   "source": [
    "## EDA"
   ]
  },
  {
   "cell_type": "code",
   "execution_count": 8,
   "metadata": {
    "colab": {
     "base_uri": "https://localhost:8080/"
    },
    "id": "402d2284",
    "outputId": "6b00ee25-e958-4dde-e22f-82d771fa22c2"
   },
   "outputs": [
    {
     "name": "stdout",
     "output_type": "stream",
     "text": [
      "<class 'pandas.core.frame.DataFrame'>\n",
      "Int64Index: 117601 entries, 0 to 117600\n",
      "Data columns (total 6 columns):\n",
      " #   Column            Non-Null Count   Dtype  \n",
      "---  ------            --------------   -----  \n",
      " 0   OrderID           117601 non-null  object \n",
      " 1   CustomerUniqueID  117601 non-null  object \n",
      " 2   CustomerID        117601 non-null  object \n",
      " 3   PurchaseTime      117601 non-null  object \n",
      " 4   OrderStatus       117601 non-null  object \n",
      " 5   PaymentValue      117601 non-null  float64\n",
      "dtypes: float64(1), object(5)\n",
      "memory usage: 6.3+ MB\n"
     ]
    }
   ],
   "source": [
    "df.info()"
   ]
  },
  {
   "cell_type": "code",
   "execution_count": 9,
   "metadata": {
    "id": "9c851820"
   },
   "outputs": [],
   "source": [
    "#converting the PurchaseTime Dtype to datetime\n",
    "df['PurchaseTime'] = pd.to_datetime(df['PurchaseTime'] , format='%Y-%m-%d %H:%M:%S')"
   ]
  },
  {
   "cell_type": "code",
   "execution_count": 10,
   "metadata": {
    "colab": {
     "base_uri": "https://localhost:8080/",
     "height": 300
    },
    "id": "6a3c80ac",
    "outputId": "21312740-0a90-4444-f1f1-3645caaa9a1f"
   },
   "outputs": [
    {
     "data": {
      "text/html": [
       "<div>\n",
       "<style scoped>\n",
       "    .dataframe tbody tr th:only-of-type {\n",
       "        vertical-align: middle;\n",
       "    }\n",
       "\n",
       "    .dataframe tbody tr th {\n",
       "        vertical-align: top;\n",
       "    }\n",
       "\n",
       "    .dataframe thead th {\n",
       "        text-align: right;\n",
       "    }\n",
       "</style>\n",
       "<table border=\"1\" class=\"dataframe\">\n",
       "  <thead>\n",
       "    <tr style=\"text-align: right;\">\n",
       "      <th></th>\n",
       "      <th>PaymentValue</th>\n",
       "    </tr>\n",
       "  </thead>\n",
       "  <tbody>\n",
       "    <tr>\n",
       "      <th>count</th>\n",
       "      <td>117601.000000</td>\n",
       "    </tr>\n",
       "    <tr>\n",
       "      <th>mean</th>\n",
       "      <td>172.686752</td>\n",
       "    </tr>\n",
       "    <tr>\n",
       "      <th>std</th>\n",
       "      <td>267.592290</td>\n",
       "    </tr>\n",
       "    <tr>\n",
       "      <th>min</th>\n",
       "      <td>0.000000</td>\n",
       "    </tr>\n",
       "    <tr>\n",
       "      <th>25%</th>\n",
       "      <td>60.870000</td>\n",
       "    </tr>\n",
       "    <tr>\n",
       "      <th>50%</th>\n",
       "      <td>108.210000</td>\n",
       "    </tr>\n",
       "    <tr>\n",
       "      <th>75%</th>\n",
       "      <td>189.260000</td>\n",
       "    </tr>\n",
       "    <tr>\n",
       "      <th>max</th>\n",
       "      <td>13664.080000</td>\n",
       "    </tr>\n",
       "  </tbody>\n",
       "</table>\n",
       "</div>"
      ],
      "text/plain": [
       "        PaymentValue\n",
       "count  117601.000000\n",
       "mean      172.686752\n",
       "std       267.592290\n",
       "min         0.000000\n",
       "25%        60.870000\n",
       "50%       108.210000\n",
       "75%       189.260000\n",
       "max     13664.080000"
      ]
     },
     "execution_count": 10,
     "metadata": {},
     "output_type": "execute_result"
    }
   ],
   "source": [
    "df.describe()"
   ]
  },
  {
   "cell_type": "code",
   "execution_count": 11,
   "metadata": {
    "colab": {
     "base_uri": "https://localhost:8080/",
     "height": 112
    },
    "id": "d3342b42",
    "outputId": "a8739fac-6d53-43e8-e58a-c72748a422a9"
   },
   "outputs": [
    {
     "data": {
      "text/html": [
       "<div>\n",
       "<style scoped>\n",
       "    .dataframe tbody tr th:only-of-type {\n",
       "        vertical-align: middle;\n",
       "    }\n",
       "\n",
       "    .dataframe tbody tr th {\n",
       "        vertical-align: top;\n",
       "    }\n",
       "\n",
       "    .dataframe thead th {\n",
       "        text-align: right;\n",
       "    }\n",
       "</style>\n",
       "<table border=\"1\" class=\"dataframe\">\n",
       "  <thead>\n",
       "    <tr style=\"text-align: right;\">\n",
       "      <th></th>\n",
       "      <th>PaymentValue</th>\n",
       "      <th>OrderStatus</th>\n",
       "      <th>PurchaseTime</th>\n",
       "      <th>CustomerID</th>\n",
       "      <th>CustomerUniqueID</th>\n",
       "      <th>OrderID</th>\n",
       "    </tr>\n",
       "  </thead>\n",
       "  <tbody>\n",
       "    <tr>\n",
       "      <th>Values</th>\n",
       "      <td>0.0</td>\n",
       "      <td>0.0</td>\n",
       "      <td>0.0</td>\n",
       "      <td>0.0</td>\n",
       "      <td>0.0</td>\n",
       "      <td>0.0</td>\n",
       "    </tr>\n",
       "    <tr>\n",
       "      <th>Percentage</th>\n",
       "      <td>0.0</td>\n",
       "      <td>0.0</td>\n",
       "      <td>0.0</td>\n",
       "      <td>0.0</td>\n",
       "      <td>0.0</td>\n",
       "      <td>0.0</td>\n",
       "    </tr>\n",
       "  </tbody>\n",
       "</table>\n",
       "</div>"
      ],
      "text/plain": [
       "            PaymentValue  OrderStatus  PurchaseTime  CustomerID  \\\n",
       "Values               0.0          0.0           0.0         0.0   \n",
       "Percentage           0.0          0.0           0.0         0.0   \n",
       "\n",
       "            CustomerUniqueID  OrderID  \n",
       "Values                   0.0      0.0  \n",
       "Percentage               0.0      0.0  "
      ]
     },
     "execution_count": 11,
     "metadata": {},
     "output_type": "execute_result"
    }
   ],
   "source": [
    "# displaying missing value counts and corresponding percentage against total observations\n",
    "missing_values = df.isnull().sum().sort_values(ascending = False)\n",
    "percentage = (df.isnull().sum()/df.isnull().count()*100).sort_values(ascending = False)\n",
    "pd.concat([missing_values, percentage], axis=1, keys=['Values', 'Percentage']).transpose()\n",
    "\n",
    "#No nan values"
   ]
  },
  {
   "cell_type": "code",
   "execution_count": 12,
   "metadata": {
    "colab": {
     "base_uri": "https://localhost:8080/"
    },
    "id": "e3f40fd7",
    "outputId": "80c8b533-1601-41cd-93b8-a63c8f2a481d"
   },
   "outputs": [
    {
     "name": "stdout",
     "output_type": "stream",
     "text": [
      "Shape before duplicates:  (117601, 6)\n",
      "Shape after duplicates:  (102460, 6)\n"
     ]
    }
   ],
   "source": [
    "# dropping the duplicate entries (which might have been created due to the merged payment details)\n",
    "print('Shape before duplicates: ',df.shape)\n",
    "df.drop_duplicates(inplace=True)\n",
    "print('Shape after duplicates: ',df.shape)"
   ]
  },
  {
   "cell_type": "code",
   "execution_count": 13,
   "metadata": {
    "colab": {
     "base_uri": "https://localhost:8080/"
    },
    "id": "6a106ab0",
    "outputId": "fbb9b2ba-8185-4c52-ce60-9808c7b89431"
   },
   "outputs": [
    {
     "name": "stdout",
     "output_type": "stream",
     "text": [
      "<class 'pandas.core.frame.DataFrame'>\n",
      "Int64Index: 102460 entries, 0 to 117600\n",
      "Data columns (total 6 columns):\n",
      " #   Column            Non-Null Count   Dtype         \n",
      "---  ------            --------------   -----         \n",
      " 0   OrderID           102460 non-null  object        \n",
      " 1   CustomerUniqueID  102460 non-null  object        \n",
      " 2   CustomerID        102460 non-null  object        \n",
      " 3   PurchaseTime      102460 non-null  datetime64[ns]\n",
      " 4   OrderStatus       102460 non-null  object        \n",
      " 5   PaymentValue      102460 non-null  float64       \n",
      "dtypes: datetime64[ns](1), float64(1), object(4)\n",
      "memory usage: 5.5+ MB\n"
     ]
    }
   ],
   "source": [
    "# displaying dataframe info\n",
    "df.info()"
   ]
  },
  {
   "cell_type": "markdown",
   "metadata": {
    "id": "2d505a70"
   },
   "source": [
    "The dataframe **df** constitutes of columns from the 4 independent dataset provided, joined together via unique keys. Only the columns needed for the following metric calculations are retained."
   ]
  },
  {
   "cell_type": "markdown",
   "metadata": {
    "id": "5b1fca18"
   },
   "source": [
    "### Monthly Revenue"
   ]
  },
  {
   "cell_type": "code",
   "execution_count": 14,
   "metadata": {
    "id": "56edb681"
   },
   "outputs": [],
   "source": [
    "month = df.PurchaseTime.apply(lambda x: x.month).astype(str)\n",
    "month = month.apply(lambda x: '0' + x if len(x) == 1 else x)\n",
    "\n",
    "year =  df.PurchaseTime.apply(lambda x: x.year)\n",
    "\n",
    "df['YearMonth'] = year.astype(str) + '-' + month.astype(str)"
   ]
  },
  {
   "cell_type": "code",
   "execution_count": 15,
   "metadata": {
    "colab": {
     "base_uri": "https://localhost:8080/",
     "height": 206
    },
    "id": "d39fd829",
    "outputId": "f4484143-cca5-486e-a707-c1bc989fe4b1"
   },
   "outputs": [
    {
     "data": {
      "text/html": [
       "<div>\n",
       "<style scoped>\n",
       "    .dataframe tbody tr th:only-of-type {\n",
       "        vertical-align: middle;\n",
       "    }\n",
       "\n",
       "    .dataframe tbody tr th {\n",
       "        vertical-align: top;\n",
       "    }\n",
       "\n",
       "    .dataframe thead th {\n",
       "        text-align: right;\n",
       "    }\n",
       "</style>\n",
       "<table border=\"1\" class=\"dataframe\">\n",
       "  <thead>\n",
       "    <tr style=\"text-align: right;\">\n",
       "      <th></th>\n",
       "      <th>OrderID</th>\n",
       "      <th>CustomerUniqueID</th>\n",
       "      <th>CustomerID</th>\n",
       "      <th>PurchaseTime</th>\n",
       "      <th>OrderStatus</th>\n",
       "      <th>PaymentValue</th>\n",
       "      <th>YearMonth</th>\n",
       "    </tr>\n",
       "  </thead>\n",
       "  <tbody>\n",
       "    <tr>\n",
       "      <th>0</th>\n",
       "      <td>b81ef226f3fe1789b1e8b2acac839d17</td>\n",
       "      <td>708ab75d2a007f0564aedd11139c7708</td>\n",
       "      <td>0a8556ac6be836b46b3e89920d59291c</td>\n",
       "      <td>2018-04-25 22:01:49</td>\n",
       "      <td>delivered</td>\n",
       "      <td>99.33</td>\n",
       "      <td>2018-04</td>\n",
       "    </tr>\n",
       "    <tr>\n",
       "      <th>1</th>\n",
       "      <td>a9810da82917af2d9aefd1278f1dcfa0</td>\n",
       "      <td>a8b9d3a27068454b1c98cc67d4e31e6f</td>\n",
       "      <td>f2c7fc58a9de810828715166c672f10a</td>\n",
       "      <td>2018-06-26 11:01:38</td>\n",
       "      <td>delivered</td>\n",
       "      <td>24.39</td>\n",
       "      <td>2018-06</td>\n",
       "    </tr>\n",
       "    <tr>\n",
       "      <th>2</th>\n",
       "      <td>25e8ea4e93396b6fa0d3dd708e76c1bd</td>\n",
       "      <td>6f70c0b2f7552832ba46eb57b1c5651e</td>\n",
       "      <td>25b14b69de0b6e184ae6fe2755e478f9</td>\n",
       "      <td>2017-12-12 11:19:55</td>\n",
       "      <td>delivered</td>\n",
       "      <td>65.71</td>\n",
       "      <td>2017-12</td>\n",
       "    </tr>\n",
       "    <tr>\n",
       "      <th>3</th>\n",
       "      <td>ba78997921bbcdc1373bb41e913ab953</td>\n",
       "      <td>87695ed086ebd36f20404c82d20fca87</td>\n",
       "      <td>7a5d8efaaa1081f800628c30d2b0728f</td>\n",
       "      <td>2017-12-06 12:04:06</td>\n",
       "      <td>delivered</td>\n",
       "      <td>107.78</td>\n",
       "      <td>2017-12</td>\n",
       "    </tr>\n",
       "    <tr>\n",
       "      <th>4</th>\n",
       "      <td>42fdf880ba16b47b59251dd489d4441a</td>\n",
       "      <td>4291db0da71914754618cd789aebcd56</td>\n",
       "      <td>15fd6fb8f8312dbb4674e4518d6fa3b3</td>\n",
       "      <td>2018-05-21 13:59:17</td>\n",
       "      <td>delivered</td>\n",
       "      <td>128.45</td>\n",
       "      <td>2018-05</td>\n",
       "    </tr>\n",
       "  </tbody>\n",
       "</table>\n",
       "</div>"
      ],
      "text/plain": [
       "                            OrderID                  CustomerUniqueID  \\\n",
       "0  b81ef226f3fe1789b1e8b2acac839d17  708ab75d2a007f0564aedd11139c7708   \n",
       "1  a9810da82917af2d9aefd1278f1dcfa0  a8b9d3a27068454b1c98cc67d4e31e6f   \n",
       "2  25e8ea4e93396b6fa0d3dd708e76c1bd  6f70c0b2f7552832ba46eb57b1c5651e   \n",
       "3  ba78997921bbcdc1373bb41e913ab953  87695ed086ebd36f20404c82d20fca87   \n",
       "4  42fdf880ba16b47b59251dd489d4441a  4291db0da71914754618cd789aebcd56   \n",
       "\n",
       "                         CustomerID        PurchaseTime OrderStatus  \\\n",
       "0  0a8556ac6be836b46b3e89920d59291c 2018-04-25 22:01:49   delivered   \n",
       "1  f2c7fc58a9de810828715166c672f10a 2018-06-26 11:01:38   delivered   \n",
       "2  25b14b69de0b6e184ae6fe2755e478f9 2017-12-12 11:19:55   delivered   \n",
       "3  7a5d8efaaa1081f800628c30d2b0728f 2017-12-06 12:04:06   delivered   \n",
       "4  15fd6fb8f8312dbb4674e4518d6fa3b3 2018-05-21 13:59:17   delivered   \n",
       "\n",
       "   PaymentValue YearMonth  \n",
       "0         99.33   2018-04  \n",
       "1         24.39   2018-06  \n",
       "2         65.71   2017-12  \n",
       "3        107.78   2017-12  \n",
       "4        128.45   2018-05  "
      ]
     },
     "execution_count": 15,
     "metadata": {},
     "output_type": "execute_result"
    }
   ],
   "source": [
    "# excluding incomplete 2016 and 2018 data \n",
    "df = df.query(\"YearMonth != '2016-12' and YearMonth != '2016-10' and YearMonth != '2016-09' and YearMonth != '2018-09'\")\n",
    "df.head()"
   ]
  },
  {
   "cell_type": "code",
   "execution_count": 16,
   "metadata": {
    "colab": {
     "base_uri": "https://localhost:8080/",
     "height": 677
    },
    "id": "9e7f2852",
    "outputId": "ef4bcaee-409d-4ad8-bb43-e5a0f9abd492"
   },
   "outputs": [
    {
     "data": {
      "text/html": [
       "<div>\n",
       "<style scoped>\n",
       "    .dataframe tbody tr th:only-of-type {\n",
       "        vertical-align: middle;\n",
       "    }\n",
       "\n",
       "    .dataframe tbody tr th {\n",
       "        vertical-align: top;\n",
       "    }\n",
       "\n",
       "    .dataframe thead th {\n",
       "        text-align: right;\n",
       "    }\n",
       "</style>\n",
       "<table border=\"1\" class=\"dataframe\">\n",
       "  <thead>\n",
       "    <tr style=\"text-align: right;\">\n",
       "      <th></th>\n",
       "      <th>YearMonth</th>\n",
       "      <th>Revenue</th>\n",
       "    </tr>\n",
       "  </thead>\n",
       "  <tbody>\n",
       "    <tr>\n",
       "      <th>0</th>\n",
       "      <td>2017-01</td>\n",
       "      <td>136826.77</td>\n",
       "    </tr>\n",
       "    <tr>\n",
       "      <th>1</th>\n",
       "      <td>2017-02</td>\n",
       "      <td>285776.94</td>\n",
       "    </tr>\n",
       "    <tr>\n",
       "      <th>2</th>\n",
       "      <td>2017-03</td>\n",
       "      <td>431903.90</td>\n",
       "    </tr>\n",
       "    <tr>\n",
       "      <th>3</th>\n",
       "      <td>2017-04</td>\n",
       "      <td>412202.99</td>\n",
       "    </tr>\n",
       "    <tr>\n",
       "      <th>4</th>\n",
       "      <td>2017-05</td>\n",
       "      <td>585163.69</td>\n",
       "    </tr>\n",
       "    <tr>\n",
       "      <th>5</th>\n",
       "      <td>2017-06</td>\n",
       "      <td>502675.07</td>\n",
       "    </tr>\n",
       "    <tr>\n",
       "      <th>6</th>\n",
       "      <td>2017-07</td>\n",
       "      <td>583676.60</td>\n",
       "    </tr>\n",
       "    <tr>\n",
       "      <th>7</th>\n",
       "      <td>2017-08</td>\n",
       "      <td>667851.36</td>\n",
       "    </tr>\n",
       "    <tr>\n",
       "      <th>8</th>\n",
       "      <td>2017-09</td>\n",
       "      <td>718428.68</td>\n",
       "    </tr>\n",
       "    <tr>\n",
       "      <th>9</th>\n",
       "      <td>2017-10</td>\n",
       "      <td>768528.43</td>\n",
       "    </tr>\n",
       "    <tr>\n",
       "      <th>10</th>\n",
       "      <td>2017-11</td>\n",
       "      <td>1178336.70</td>\n",
       "    </tr>\n",
       "    <tr>\n",
       "      <th>11</th>\n",
       "      <td>2017-12</td>\n",
       "      <td>862864.17</td>\n",
       "    </tr>\n",
       "    <tr>\n",
       "      <th>12</th>\n",
       "      <td>2018-01</td>\n",
       "      <td>1107026.23</td>\n",
       "    </tr>\n",
       "    <tr>\n",
       "      <th>13</th>\n",
       "      <td>2018-02</td>\n",
       "      <td>986976.90</td>\n",
       "    </tr>\n",
       "    <tr>\n",
       "      <th>14</th>\n",
       "      <td>2018-03</td>\n",
       "      <td>1154291.89</td>\n",
       "    </tr>\n",
       "    <tr>\n",
       "      <th>15</th>\n",
       "      <td>2018-04</td>\n",
       "      <td>1158790.50</td>\n",
       "    </tr>\n",
       "    <tr>\n",
       "      <th>16</th>\n",
       "      <td>2018-05</td>\n",
       "      <td>1148509.81</td>\n",
       "    </tr>\n",
       "    <tr>\n",
       "      <th>17</th>\n",
       "      <td>2018-06</td>\n",
       "      <td>1021560.11</td>\n",
       "    </tr>\n",
       "    <tr>\n",
       "      <th>18</th>\n",
       "      <td>2018-07</td>\n",
       "      <td>1058218.40</td>\n",
       "    </tr>\n",
       "    <tr>\n",
       "      <th>19</th>\n",
       "      <td>2018-08</td>\n",
       "      <td>1001863.97</td>\n",
       "    </tr>\n",
       "  </tbody>\n",
       "</table>\n",
       "</div>"
      ],
      "text/plain": [
       "   YearMonth     Revenue\n",
       "0    2017-01   136826.77\n",
       "1    2017-02   285776.94\n",
       "2    2017-03   431903.90\n",
       "3    2017-04   412202.99\n",
       "4    2017-05   585163.69\n",
       "5    2017-06   502675.07\n",
       "6    2017-07   583676.60\n",
       "7    2017-08   667851.36\n",
       "8    2017-09   718428.68\n",
       "9    2017-10   768528.43\n",
       "10   2017-11  1178336.70\n",
       "11   2017-12   862864.17\n",
       "12   2018-01  1107026.23\n",
       "13   2018-02   986976.90\n",
       "14   2018-03  1154291.89\n",
       "15   2018-04  1158790.50\n",
       "16   2018-05  1148509.81\n",
       "17   2018-06  1021560.11\n",
       "18   2018-07  1058218.40\n",
       "19   2018-08  1001863.97"
      ]
     },
     "execution_count": 16,
     "metadata": {},
     "output_type": "execute_result"
    }
   ],
   "source": [
    "#calculate Revenue for each row and create a new dataframe with YearMonth - Revenue columns\n",
    "df_revenue = df.groupby(['YearMonth'])['PaymentValue'].sum().reset_index()\n",
    "df_revenue.columns = ['YearMonth','Revenue']\n",
    "df_revenue"
   ]
  },
  {
   "cell_type": "code",
   "execution_count": 17,
   "metadata": {
    "colab": {
     "base_uri": "https://localhost:8080/",
     "height": 518
    },
    "id": "5f64950c",
    "outputId": "50b97e7e-1dfb-4def-c982-4741099873b2"
   },
   "outputs": [
    {
     "data": {
      "image/png": "[encoded data removed]",
      "text/plain": [
       "<Figure size 1440x576 with 1 Axes>"
      ]
     },
     "metadata": {},
     "output_type": "display_data"
    }
   ],
   "source": [
    "sns.set(rc={'figure.figsize':(20,8)})\n",
    "sns.lineplot(data=df_revenue, x=\"YearMonth\", y=\"Revenue\", marker='o')\n",
    "plt.title('Monthly Revenue')\n",
    "plt.show()"
   ]
  },
  {
   "cell_type": "markdown",
   "metadata": {
    "id": "989cdc11"
   },
   "source": [
    "### Monthly Revenue Growth Rate"
   ]
  },
  {
   "cell_type": "code",
   "execution_count": 18,
   "metadata": {
    "colab": {
     "base_uri": "https://localhost:8080/",
     "height": 206
    },
    "id": "87707f44",
    "outputId": "da75d62f-e52d-4022-a603-ec0d90e4046e"
   },
   "outputs": [
    {
     "data": {
      "text/html": [
       "<div>\n",
       "<style scoped>\n",
       "    .dataframe tbody tr th:only-of-type {\n",
       "        vertical-align: middle;\n",
       "    }\n",
       "\n",
       "    .dataframe tbody tr th {\n",
       "        vertical-align: top;\n",
       "    }\n",
       "\n",
       "    .dataframe thead th {\n",
       "        text-align: right;\n",
       "    }\n",
       "</style>\n",
       "<table border=\"1\" class=\"dataframe\">\n",
       "  <thead>\n",
       "    <tr style=\"text-align: right;\">\n",
       "      <th></th>\n",
       "      <th>YearMonth</th>\n",
       "      <th>Revenue</th>\n",
       "      <th>MonthlyGrowth</th>\n",
       "    </tr>\n",
       "  </thead>\n",
       "  <tbody>\n",
       "    <tr>\n",
       "      <th>0</th>\n",
       "      <td>2017-01</td>\n",
       "      <td>136826.77</td>\n",
       "      <td>NaN</td>\n",
       "    </tr>\n",
       "    <tr>\n",
       "      <th>1</th>\n",
       "      <td>2017-02</td>\n",
       "      <td>285776.94</td>\n",
       "      <td>1.088604</td>\n",
       "    </tr>\n",
       "    <tr>\n",
       "      <th>2</th>\n",
       "      <td>2017-03</td>\n",
       "      <td>431903.90</td>\n",
       "      <td>0.511332</td>\n",
       "    </tr>\n",
       "    <tr>\n",
       "      <th>3</th>\n",
       "      <td>2017-04</td>\n",
       "      <td>412202.99</td>\n",
       "      <td>-0.045614</td>\n",
       "    </tr>\n",
       "    <tr>\n",
       "      <th>4</th>\n",
       "      <td>2017-05</td>\n",
       "      <td>585163.69</td>\n",
       "      <td>0.419601</td>\n",
       "    </tr>\n",
       "  </tbody>\n",
       "</table>\n",
       "</div>"
      ],
      "text/plain": [
       "  YearMonth    Revenue  MonthlyGrowth\n",
       "0   2017-01  136826.77            NaN\n",
       "1   2017-02  285776.94       1.088604\n",
       "2   2017-03  431903.90       0.511332\n",
       "3   2017-04  412202.99      -0.045614\n",
       "4   2017-05  585163.69       0.419601"
      ]
     },
     "execution_count": 18,
     "metadata": {},
     "output_type": "execute_result"
    }
   ],
   "source": [
    "df_revenue['MonthlyGrowth'] = df_revenue['Revenue'].pct_change()\n",
    "df_revenue.head()"
   ]
  },
  {
   "cell_type": "code",
   "execution_count": 19,
   "metadata": {
    "colab": {
     "base_uri": "https://localhost:8080/",
     "height": 518
    },
    "id": "c63d714a",
    "outputId": "72b57b4c-0d59-496c-ca6e-76a8ca0048aa"
   },
   "outputs": [
    {
     "data": {
      "image/png": "[encoded data removed]",
      "text/plain": [
       "<Figure size 1440x576 with 1 Axes>"
      ]
     },
     "metadata": {},
     "output_type": "display_data"
    }
   ],
   "source": [
    "sns.lineplot(data=df_revenue, x=\"YearMonth\", y=\"MonthlyGrowth\", marker='o')\n",
    "sns.lineplot(data=df_revenue, x=\"YearMonth\", y=np.zeros(df_revenue.shape[0]))\n",
    "plt.title('Monthly Growth Rate')\n",
    "plt.show()"
   ]
  },
  {
   "cell_type": "markdown",
   "metadata": {
    "id": "5256e5b7"
   },
   "source": [
    "### Monthly Active Customers"
   ]
  },
  {
   "cell_type": "code",
   "execution_count": 20,
   "metadata": {
    "colab": {
     "base_uri": "https://localhost:8080/",
     "height": 502
    },
    "id": "a3d31602",
    "outputId": "b47ebe7e-868e-47c8-c59c-c653491faa3a"
   },
   "outputs": [
    {
     "data": {
      "image/png": "[encoded data removed]",
      "text/plain": [
       "<Figure size 1440x576 with 1 Axes>"
      ]
     },
     "metadata": {},
     "output_type": "display_data"
    }
   ],
   "source": [
    "#creating monthly active customers dataframe by counting unique Customer IDs\n",
    "df_monthly_active = df.groupby('YearMonth')['CustomerUniqueID'].nunique().reset_index()\n",
    "df_monthly_active.columns = ['YearMonth','UniqueCustomer']\n",
    "\n",
    "\n",
    "sns.barplot(x='YearMonth', y='UniqueCustomer', data=df_monthly_active)\n",
    "plt.ylabel('Count of New Customers')\n",
    "plt.xlabel('Year-Month')\n",
    "plt.show()"
   ]
  },
  {
   "cell_type": "markdown",
   "metadata": {
    "id": "9cfacdcc"
   },
   "source": [
    "### Monthly Order Count"
   ]
  },
  {
   "cell_type": "code",
   "execution_count": 21,
   "metadata": {
    "colab": {
     "base_uri": "https://localhost:8080/",
     "height": 502
    },
    "id": "83301cf1",
    "outputId": "ea1090f7-395d-401f-ba4f-341029cef538"
   },
   "outputs": [
    {
     "data": {
      "image/png": "[encoded data removed]",
      "text/plain": [
       "<Figure size 1440x576 with 1 Axes>"
      ]
     },
     "metadata": {},
     "output_type": "display_data"
    }
   ],
   "source": [
    "#creating monthly active customers dataframe by counting unique Customer IDs\n",
    "df_monthly_sales = df.groupby('YearMonth')['OrderStatus'].count().reset_index()\n",
    "df_monthly_sales.columns = ['YearMonth','OrderCount']\n",
    "\n",
    "sns.barplot(x='YearMonth', y='OrderCount', data=df_monthly_sales)\n",
    "plt.ylabel('Order Count')\n",
    "plt.xlabel('Year-Month')\n",
    "plt.show()"
   ]
  },
  {
   "cell_type": "markdown",
   "metadata": {
    "id": "16a6f339"
   },
   "source": [
    "### Average Revenue per Order"
   ]
  },
  {
   "cell_type": "code",
   "execution_count": 22,
   "metadata": {
    "colab": {
     "base_uri": "https://localhost:8080/",
     "height": 502
    },
    "id": "80e75b87",
    "outputId": "e0670c59-3344-473b-d194-a94e64ea0b3f"
   },
   "outputs": [
    {
     "data": {
      "image/png": "[encoded data removed]",
      "text/plain": [
       "<Figure size 1440x576 with 1 Axes>"
      ]
     },
     "metadata": {},
     "output_type": "display_data"
    }
   ],
   "source": [
    "# create a new dataframe for average revenue by taking the mean of it\n",
    "df_monthly_order_avg = df.groupby('YearMonth')['PaymentValue'].mean().reset_index()\n",
    "df_monthly_order_avg.columns = ['YearMonth','AvgRevenuePerOrder']\n",
    "\n",
    "sns.barplot(x='YearMonth', y='AvgRevenuePerOrder', data=df_monthly_order_avg)\n",
    "plt.ylabel('Average Revenue per Order')\n",
    "plt.xlabel('Year-Month')\n",
    "plt.show()"
   ]
  },
  {
   "cell_type": "markdown",
   "metadata": {
    "id": "45648430"
   },
   "source": [
    "### New Customer Ratio"
   ]
  },
  {
   "cell_type": "code",
   "execution_count": 23,
   "metadata": {
    "colab": {
     "base_uri": "https://localhost:8080/",
     "height": 206
    },
    "id": "114f1d4d",
    "outputId": "778f2f4d-f1e8-44e2-e699-003506574f63"
   },
   "outputs": [
    {
     "data": {
      "text/html": [
       "<div>\n",
       "<style scoped>\n",
       "    .dataframe tbody tr th:only-of-type {\n",
       "        vertical-align: middle;\n",
       "    }\n",
       "\n",
       "    .dataframe tbody tr th {\n",
       "        vertical-align: top;\n",
       "    }\n",
       "\n",
       "    .dataframe thead th {\n",
       "        text-align: right;\n",
       "    }\n",
       "</style>\n",
       "<table border=\"1\" class=\"dataframe\">\n",
       "  <thead>\n",
       "    <tr style=\"text-align: right;\">\n",
       "      <th></th>\n",
       "      <th>CustomerUniqueID</th>\n",
       "      <th>MinPurchaseDate</th>\n",
       "    </tr>\n",
       "  </thead>\n",
       "  <tbody>\n",
       "    <tr>\n",
       "      <th>0</th>\n",
       "      <td>0000366f3b9a7992bf8c76cfdf3221e2</td>\n",
       "      <td>201805</td>\n",
       "    </tr>\n",
       "    <tr>\n",
       "      <th>1</th>\n",
       "      <td>0000b849f77a49e4a4ce2b2a4ca5be3f</td>\n",
       "      <td>201805</td>\n",
       "    </tr>\n",
       "    <tr>\n",
       "      <th>2</th>\n",
       "      <td>0000f46a3911fa3c0805444483337064</td>\n",
       "      <td>201703</td>\n",
       "    </tr>\n",
       "    <tr>\n",
       "      <th>3</th>\n",
       "      <td>0000f6ccb0745a6a4b88665a16c9f078</td>\n",
       "      <td>201710</td>\n",
       "    </tr>\n",
       "    <tr>\n",
       "      <th>4</th>\n",
       "      <td>0004aac84e0df4da2b147fca70cf8255</td>\n",
       "      <td>201711</td>\n",
       "    </tr>\n",
       "  </tbody>\n",
       "</table>\n",
       "</div>"
      ],
      "text/plain": [
       "                   CustomerUniqueID  MinPurchaseDate\n",
       "0  0000366f3b9a7992bf8c76cfdf3221e2           201805\n",
       "1  0000b849f77a49e4a4ce2b2a4ca5be3f           201805\n",
       "2  0000f46a3911fa3c0805444483337064           201703\n",
       "3  0000f6ccb0745a6a4b88665a16c9f078           201710\n",
       "4  0004aac84e0df4da2b147fca70cf8255           201711"
      ]
     },
     "execution_count": 23,
     "metadata": {},
     "output_type": "execute_result"
    }
   ],
   "source": [
    "#create a dataframe contaning CustomerID and first purchase date\n",
    "df_min_purchase = df.groupby('CustomerUniqueID').PurchaseTime.min().reset_index()\n",
    "df_min_purchase.columns = ['CustomerUniqueID','MinPurchaseDate']\n",
    "df_min_purchase['MinPurchaseDate'] = df_min_purchase['MinPurchaseDate'].map(lambda date: 100*date.year + date.month)\n",
    "\n",
    "df_min_purchase.head()"
   ]
  },
  {
   "cell_type": "code",
   "execution_count": 24,
   "metadata": {
    "colab": {
     "base_uri": "https://localhost:8080/",
     "height": 206
    },
    "id": "efb306b7",
    "outputId": "486f09a8-664b-45c4-ccfd-858c9620ab84"
   },
   "outputs": [
    {
     "data": {
      "text/html": [
       "<div>\n",
       "<style scoped>\n",
       "    .dataframe tbody tr th:only-of-type {\n",
       "        vertical-align: middle;\n",
       "    }\n",
       "\n",
       "    .dataframe tbody tr th {\n",
       "        vertical-align: top;\n",
       "    }\n",
       "\n",
       "    .dataframe thead th {\n",
       "        text-align: right;\n",
       "    }\n",
       "</style>\n",
       "<table border=\"1\" class=\"dataframe\">\n",
       "  <thead>\n",
       "    <tr style=\"text-align: right;\">\n",
       "      <th></th>\n",
       "      <th>OrderID</th>\n",
       "      <th>CustomerUniqueID</th>\n",
       "      <th>CustomerID</th>\n",
       "      <th>PurchaseTime</th>\n",
       "      <th>OrderStatus</th>\n",
       "      <th>PaymentValue</th>\n",
       "      <th>YearMonth</th>\n",
       "      <th>MinPurchaseDate</th>\n",
       "    </tr>\n",
       "  </thead>\n",
       "  <tbody>\n",
       "    <tr>\n",
       "      <th>0</th>\n",
       "      <td>b81ef226f3fe1789b1e8b2acac839d17</td>\n",
       "      <td>708ab75d2a007f0564aedd11139c7708</td>\n",
       "      <td>0a8556ac6be836b46b3e89920d59291c</td>\n",
       "      <td>2018-04-25 22:01:49</td>\n",
       "      <td>delivered</td>\n",
       "      <td>99.33</td>\n",
       "      <td>2018-04</td>\n",
       "      <td>201804</td>\n",
       "    </tr>\n",
       "    <tr>\n",
       "      <th>1</th>\n",
       "      <td>a9810da82917af2d9aefd1278f1dcfa0</td>\n",
       "      <td>a8b9d3a27068454b1c98cc67d4e31e6f</td>\n",
       "      <td>f2c7fc58a9de810828715166c672f10a</td>\n",
       "      <td>2018-06-26 11:01:38</td>\n",
       "      <td>delivered</td>\n",
       "      <td>24.39</td>\n",
       "      <td>2018-06</td>\n",
       "      <td>201806</td>\n",
       "    </tr>\n",
       "    <tr>\n",
       "      <th>2</th>\n",
       "      <td>25e8ea4e93396b6fa0d3dd708e76c1bd</td>\n",
       "      <td>6f70c0b2f7552832ba46eb57b1c5651e</td>\n",
       "      <td>25b14b69de0b6e184ae6fe2755e478f9</td>\n",
       "      <td>2017-12-12 11:19:55</td>\n",
       "      <td>delivered</td>\n",
       "      <td>65.71</td>\n",
       "      <td>2017-12</td>\n",
       "      <td>201712</td>\n",
       "    </tr>\n",
       "    <tr>\n",
       "      <th>3</th>\n",
       "      <td>ba78997921bbcdc1373bb41e913ab953</td>\n",
       "      <td>87695ed086ebd36f20404c82d20fca87</td>\n",
       "      <td>7a5d8efaaa1081f800628c30d2b0728f</td>\n",
       "      <td>2017-12-06 12:04:06</td>\n",
       "      <td>delivered</td>\n",
       "      <td>107.78</td>\n",
       "      <td>2017-12</td>\n",
       "      <td>201712</td>\n",
       "    </tr>\n",
       "    <tr>\n",
       "      <th>4</th>\n",
       "      <td>42fdf880ba16b47b59251dd489d4441a</td>\n",
       "      <td>4291db0da71914754618cd789aebcd56</td>\n",
       "      <td>15fd6fb8f8312dbb4674e4518d6fa3b3</td>\n",
       "      <td>2018-05-21 13:59:17</td>\n",
       "      <td>delivered</td>\n",
       "      <td>128.45</td>\n",
       "      <td>2018-05</td>\n",
       "      <td>201805</td>\n",
       "    </tr>\n",
       "  </tbody>\n",
       "</table>\n",
       "</div>"
      ],
      "text/plain": [
       "                            OrderID                  CustomerUniqueID  \\\n",
       "0  b81ef226f3fe1789b1e8b2acac839d17  708ab75d2a007f0564aedd11139c7708   \n",
       "1  a9810da82917af2d9aefd1278f1dcfa0  a8b9d3a27068454b1c98cc67d4e31e6f   \n",
       "2  25e8ea4e93396b6fa0d3dd708e76c1bd  6f70c0b2f7552832ba46eb57b1c5651e   \n",
       "3  ba78997921bbcdc1373bb41e913ab953  87695ed086ebd36f20404c82d20fca87   \n",
       "4  42fdf880ba16b47b59251dd489d4441a  4291db0da71914754618cd789aebcd56   \n",
       "\n",
       "                         CustomerID        PurchaseTime OrderStatus  \\\n",
       "0  0a8556ac6be836b46b3e89920d59291c 2018-04-25 22:01:49   delivered   \n",
       "1  f2c7fc58a9de810828715166c672f10a 2018-06-26 11:01:38   delivered   \n",
       "2  25b14b69de0b6e184ae6fe2755e478f9 2017-12-12 11:19:55   delivered   \n",
       "3  7a5d8efaaa1081f800628c30d2b0728f 2017-12-06 12:04:06   delivered   \n",
       "4  15fd6fb8f8312dbb4674e4518d6fa3b3 2018-05-21 13:59:17   delivered   \n",
       "\n",
       "   PaymentValue YearMonth  MinPurchaseDate  \n",
       "0         99.33   2018-04           201804  \n",
       "1         24.39   2018-06           201806  \n",
       "2         65.71   2017-12           201712  \n",
       "3        107.78   2017-12           201712  \n",
       "4        128.45   2018-05           201805  "
      ]
     },
     "execution_count": 24,
     "metadata": {},
     "output_type": "execute_result"
    }
   ],
   "source": [
    "#merge first purchase date column to our main dataframe df\n",
    "df = pd.merge(df, df_min_purchase, on='CustomerUniqueID')\n",
    "df.head()"
   ]
  },
  {
   "cell_type": "code",
   "execution_count": 25,
   "metadata": {
    "colab": {
     "base_uri": "https://localhost:8080/",
     "height": 1000
    },
    "id": "e0401571",
    "outputId": "40364644-425d-4253-ec03-1a00cd32daae"
   },
   "outputs": [
    {
     "data": {
      "text/html": [
       "<div>\n",
       "<style scoped>\n",
       "    .dataframe tbody tr th:only-of-type {\n",
       "        vertical-align: middle;\n",
       "    }\n",
       "\n",
       "    .dataframe tbody tr th {\n",
       "        vertical-align: top;\n",
       "    }\n",
       "\n",
       "    .dataframe thead th {\n",
       "        text-align: right;\n",
       "    }\n",
       "</style>\n",
       "<table border=\"1\" class=\"dataframe\">\n",
       "  <thead>\n",
       "    <tr style=\"text-align: right;\">\n",
       "      <th></th>\n",
       "      <th>YearMonth</th>\n",
       "      <th>UserType</th>\n",
       "      <th>PaymentValue</th>\n",
       "    </tr>\n",
       "  </thead>\n",
       "  <tbody>\n",
       "    <tr>\n",
       "      <th>0</th>\n",
       "      <td>2017-01</td>\n",
       "      <td>New</td>\n",
       "      <td>136826.77</td>\n",
       "    </tr>\n",
       "    <tr>\n",
       "      <th>1</th>\n",
       "      <td>2017-02</td>\n",
       "      <td>Existing</td>\n",
       "      <td>170.83</td>\n",
       "    </tr>\n",
       "    <tr>\n",
       "      <th>2</th>\n",
       "      <td>2017-02</td>\n",
       "      <td>New</td>\n",
       "      <td>285606.11</td>\n",
       "    </tr>\n",
       "    <tr>\n",
       "      <th>3</th>\n",
       "      <td>2017-03</td>\n",
       "      <td>Existing</td>\n",
       "      <td>650.82</td>\n",
       "    </tr>\n",
       "    <tr>\n",
       "      <th>4</th>\n",
       "      <td>2017-03</td>\n",
       "      <td>New</td>\n",
       "      <td>431253.08</td>\n",
       "    </tr>\n",
       "    <tr>\n",
       "      <th>5</th>\n",
       "      <td>2017-04</td>\n",
       "      <td>Existing</td>\n",
       "      <td>2455.30</td>\n",
       "    </tr>\n",
       "    <tr>\n",
       "      <th>6</th>\n",
       "      <td>2017-04</td>\n",
       "      <td>New</td>\n",
       "      <td>409747.69</td>\n",
       "    </tr>\n",
       "    <tr>\n",
       "      <th>7</th>\n",
       "      <td>2017-05</td>\n",
       "      <td>Existing</td>\n",
       "      <td>5039.10</td>\n",
       "    </tr>\n",
       "    <tr>\n",
       "      <th>8</th>\n",
       "      <td>2017-05</td>\n",
       "      <td>New</td>\n",
       "      <td>580124.59</td>\n",
       "    </tr>\n",
       "    <tr>\n",
       "      <th>9</th>\n",
       "      <td>2017-06</td>\n",
       "      <td>Existing</td>\n",
       "      <td>5981.11</td>\n",
       "    </tr>\n",
       "    <tr>\n",
       "      <th>10</th>\n",
       "      <td>2017-06</td>\n",
       "      <td>New</td>\n",
       "      <td>496693.96</td>\n",
       "    </tr>\n",
       "    <tr>\n",
       "      <th>11</th>\n",
       "      <td>2017-07</td>\n",
       "      <td>Existing</td>\n",
       "      <td>9540.91</td>\n",
       "    </tr>\n",
       "    <tr>\n",
       "      <th>12</th>\n",
       "      <td>2017-07</td>\n",
       "      <td>New</td>\n",
       "      <td>574135.69</td>\n",
       "    </tr>\n",
       "    <tr>\n",
       "      <th>13</th>\n",
       "      <td>2017-08</td>\n",
       "      <td>Existing</td>\n",
       "      <td>11273.00</td>\n",
       "    </tr>\n",
       "    <tr>\n",
       "      <th>14</th>\n",
       "      <td>2017-08</td>\n",
       "      <td>New</td>\n",
       "      <td>656578.36</td>\n",
       "    </tr>\n",
       "    <tr>\n",
       "      <th>15</th>\n",
       "      <td>2017-09</td>\n",
       "      <td>Existing</td>\n",
       "      <td>11774.29</td>\n",
       "    </tr>\n",
       "    <tr>\n",
       "      <th>16</th>\n",
       "      <td>2017-09</td>\n",
       "      <td>New</td>\n",
       "      <td>706654.39</td>\n",
       "    </tr>\n",
       "    <tr>\n",
       "      <th>17</th>\n",
       "      <td>2017-10</td>\n",
       "      <td>Existing</td>\n",
       "      <td>13533.45</td>\n",
       "    </tr>\n",
       "    <tr>\n",
       "      <th>18</th>\n",
       "      <td>2017-10</td>\n",
       "      <td>New</td>\n",
       "      <td>754994.98</td>\n",
       "    </tr>\n",
       "    <tr>\n",
       "      <th>19</th>\n",
       "      <td>2017-11</td>\n",
       "      <td>Existing</td>\n",
       "      <td>17930.47</td>\n",
       "    </tr>\n",
       "    <tr>\n",
       "      <th>20</th>\n",
       "      <td>2017-11</td>\n",
       "      <td>New</td>\n",
       "      <td>1160406.23</td>\n",
       "    </tr>\n",
       "    <tr>\n",
       "      <th>21</th>\n",
       "      <td>2017-12</td>\n",
       "      <td>Existing</td>\n",
       "      <td>18636.11</td>\n",
       "    </tr>\n",
       "    <tr>\n",
       "      <th>22</th>\n",
       "      <td>2017-12</td>\n",
       "      <td>New</td>\n",
       "      <td>844228.06</td>\n",
       "    </tr>\n",
       "    <tr>\n",
       "      <th>23</th>\n",
       "      <td>2018-01</td>\n",
       "      <td>Existing</td>\n",
       "      <td>20759.69</td>\n",
       "    </tr>\n",
       "    <tr>\n",
       "      <th>24</th>\n",
       "      <td>2018-01</td>\n",
       "      <td>New</td>\n",
       "      <td>1086266.54</td>\n",
       "    </tr>\n",
       "    <tr>\n",
       "      <th>25</th>\n",
       "      <td>2018-02</td>\n",
       "      <td>Existing</td>\n",
       "      <td>16366.17</td>\n",
       "    </tr>\n",
       "    <tr>\n",
       "      <th>26</th>\n",
       "      <td>2018-02</td>\n",
       "      <td>New</td>\n",
       "      <td>970610.73</td>\n",
       "    </tr>\n",
       "    <tr>\n",
       "      <th>27</th>\n",
       "      <td>2018-03</td>\n",
       "      <td>Existing</td>\n",
       "      <td>20806.46</td>\n",
       "    </tr>\n",
       "    <tr>\n",
       "      <th>28</th>\n",
       "      <td>2018-03</td>\n",
       "      <td>New</td>\n",
       "      <td>1133485.43</td>\n",
       "    </tr>\n",
       "    <tr>\n",
       "      <th>29</th>\n",
       "      <td>2018-04</td>\n",
       "      <td>Existing</td>\n",
       "      <td>26752.62</td>\n",
       "    </tr>\n",
       "    <tr>\n",
       "      <th>30</th>\n",
       "      <td>2018-04</td>\n",
       "      <td>New</td>\n",
       "      <td>1132037.88</td>\n",
       "    </tr>\n",
       "    <tr>\n",
       "      <th>31</th>\n",
       "      <td>2018-05</td>\n",
       "      <td>Existing</td>\n",
       "      <td>28814.91</td>\n",
       "    </tr>\n",
       "    <tr>\n",
       "      <th>32</th>\n",
       "      <td>2018-05</td>\n",
       "      <td>New</td>\n",
       "      <td>1119694.90</td>\n",
       "    </tr>\n",
       "    <tr>\n",
       "      <th>33</th>\n",
       "      <td>2018-06</td>\n",
       "      <td>Existing</td>\n",
       "      <td>30339.52</td>\n",
       "    </tr>\n",
       "    <tr>\n",
       "      <th>34</th>\n",
       "      <td>2018-06</td>\n",
       "      <td>New</td>\n",
       "      <td>991220.59</td>\n",
       "    </tr>\n",
       "    <tr>\n",
       "      <th>35</th>\n",
       "      <td>2018-07</td>\n",
       "      <td>Existing</td>\n",
       "      <td>24669.28</td>\n",
       "    </tr>\n",
       "    <tr>\n",
       "      <th>36</th>\n",
       "      <td>2018-07</td>\n",
       "      <td>New</td>\n",
       "      <td>1033549.12</td>\n",
       "    </tr>\n",
       "    <tr>\n",
       "      <th>37</th>\n",
       "      <td>2018-08</td>\n",
       "      <td>Existing</td>\n",
       "      <td>23216.28</td>\n",
       "    </tr>\n",
       "    <tr>\n",
       "      <th>38</th>\n",
       "      <td>2018-08</td>\n",
       "      <td>New</td>\n",
       "      <td>978647.69</td>\n",
       "    </tr>\n",
       "  </tbody>\n",
       "</table>\n",
       "</div>"
      ],
      "text/plain": [
       "   YearMonth  UserType  PaymentValue\n",
       "0    2017-01       New     136826.77\n",
       "1    2017-02  Existing        170.83\n",
       "2    2017-02       New     285606.11\n",
       "3    2017-03  Existing        650.82\n",
       "4    2017-03       New     431253.08\n",
       "5    2017-04  Existing       2455.30\n",
       "6    2017-04       New     409747.69\n",
       "7    2017-05  Existing       5039.10\n",
       "8    2017-05       New     580124.59\n",
       "9    2017-06  Existing       5981.11\n",
       "10   2017-06       New     496693.96\n",
       "11   2017-07  Existing       9540.91\n",
       "12   2017-07       New     574135.69\n",
       "13   2017-08  Existing      11273.00\n",
       "14   2017-08       New     656578.36\n",
       "15   2017-09  Existing      11774.29\n",
       "16   2017-09       New     706654.39\n",
       "17   2017-10  Existing      13533.45\n",
       "18   2017-10       New     754994.98\n",
       "19   2017-11  Existing      17930.47\n",
       "20   2017-11       New    1160406.23\n",
       "21   2017-12  Existing      18636.11\n",
       "22   2017-12       New     844228.06\n",
       "23   2018-01  Existing      20759.69\n",
       "24   2018-01       New    1086266.54\n",
       "25   2018-02  Existing      16366.17\n",
       "26   2018-02       New     970610.73\n",
       "27   2018-03  Existing      20806.46\n",
       "28   2018-03       New    1133485.43\n",
       "29   2018-04  Existing      26752.62\n",
       "30   2018-04       New    1132037.88\n",
       "31   2018-05  Existing      28814.91\n",
       "32   2018-05       New    1119694.90\n",
       "33   2018-06  Existing      30339.52\n",
       "34   2018-06       New     991220.59\n",
       "35   2018-07  Existing      24669.28\n",
       "36   2018-07       New    1033549.12\n",
       "37   2018-08  Existing      23216.28\n",
       "38   2018-08       New     978647.69"
      ]
     },
     "execution_count": 25,
     "metadata": {},
     "output_type": "execute_result"
    }
   ],
   "source": [
    "#create a column called User Type and assign Existing if User's First Purchase Year Month before the selected Year Month\n",
    "df['UserType'] = 'New'\n",
    "\n",
    "#creating a new col of YearMonth with type int for comparison \n",
    "df['YearMonthInt'] = df['PurchaseTime'].map(lambda date: 100*date.year + date.month)\n",
    "\n",
    "df.loc[df['YearMonthInt']>df['MinPurchaseDate'],'UserType'] = 'Existing'\n",
    "\n",
    "#calculate the Revenue per month for each user type\n",
    "df_user_type_revenue = df.groupby(['YearMonth','UserType'])['PaymentValue'].sum().reset_index()\n",
    "\n",
    "df_user_type_revenue"
   ]
  },
  {
   "cell_type": "code",
   "execution_count": 26,
   "metadata": {
    "colab": {
     "base_uri": "https://localhost:8080/",
     "height": 445
    },
    "id": "6e2eee8c",
    "outputId": "b99f240a-81d3-4d39-b704-c41d0e9a67d0"
   },
   "outputs": [
    {
     "data": {
      "image/png": "[encoded data removed]",
      "text/plain": [
       "<Figure size 1080x432 with 1 Axes>"
      ]
     },
     "metadata": {},
     "output_type": "display_data"
    }
   ],
   "source": [
    "fig, ax = plt.subplots(figsize=(15, 6))\n",
    "sns.set(palette='muted', color_codes=True)\n",
    "ax = sns.lineplot(x='YearMonth', y='PaymentValue', data=df_user_type_revenue.query(\"UserType == 'New'\"), label='New')\n",
    "ax = sns.lineplot(x='YearMonth', y='PaymentValue', data=df_user_type_revenue.query(\"UserType == 'Existing'\"), label='Existing')\n",
    "ax.set_title('Existing vs New Customer Comparison')\n",
    "ax.tick_params(axis='x', labelrotation=90)\n",
    "plt.show()"
   ]
  },
  {
   "cell_type": "code",
   "execution_count": 27,
   "metadata": {
    "colab": {
     "base_uri": "https://localhost:8080/",
     "height": 645
    },
    "id": "3cfdb421",
    "outputId": "89448cd9-27ee-4e19-e215-bfb3e7aeff0f"
   },
   "outputs": [
    {
     "data": {
      "text/html": [
       "<div>\n",
       "<style scoped>\n",
       "    .dataframe tbody tr th:only-of-type {\n",
       "        vertical-align: middle;\n",
       "    }\n",
       "\n",
       "    .dataframe tbody tr th {\n",
       "        vertical-align: top;\n",
       "    }\n",
       "\n",
       "    .dataframe thead th {\n",
       "        text-align: right;\n",
       "    }\n",
       "</style>\n",
       "<table border=\"1\" class=\"dataframe\">\n",
       "  <thead>\n",
       "    <tr style=\"text-align: right;\">\n",
       "      <th></th>\n",
       "      <th>YearMonth</th>\n",
       "      <th>NewCustomerRatio</th>\n",
       "    </tr>\n",
       "  </thead>\n",
       "  <tbody>\n",
       "    <tr>\n",
       "      <th>1</th>\n",
       "      <td>2017-02</td>\n",
       "      <td>568.333333</td>\n",
       "    </tr>\n",
       "    <tr>\n",
       "      <th>2</th>\n",
       "      <td>2017-03</td>\n",
       "      <td>432.500000</td>\n",
       "    </tr>\n",
       "    <tr>\n",
       "      <th>3</th>\n",
       "      <td>2017-04</td>\n",
       "      <td>123.157895</td>\n",
       "    </tr>\n",
       "    <tr>\n",
       "      <th>4</th>\n",
       "      <td>2017-05</td>\n",
       "      <td>127.142857</td>\n",
       "    </tr>\n",
       "    <tr>\n",
       "      <th>5</th>\n",
       "      <td>2017-06</td>\n",
       "      <td>77.850000</td>\n",
       "    </tr>\n",
       "    <tr>\n",
       "      <th>6</th>\n",
       "      <td>2017-07</td>\n",
       "      <td>76.880000</td>\n",
       "    </tr>\n",
       "    <tr>\n",
       "      <th>7</th>\n",
       "      <td>2017-08</td>\n",
       "      <td>66.919355</td>\n",
       "    </tr>\n",
       "    <tr>\n",
       "      <th>8</th>\n",
       "      <td>2017-09</td>\n",
       "      <td>51.784810</td>\n",
       "    </tr>\n",
       "    <tr>\n",
       "      <th>9</th>\n",
       "      <td>2017-10</td>\n",
       "      <td>49.573034</td>\n",
       "    </tr>\n",
       "    <tr>\n",
       "      <th>10</th>\n",
       "      <td>2017-11</td>\n",
       "      <td>58.209677</td>\n",
       "    </tr>\n",
       "    <tr>\n",
       "      <th>11</th>\n",
       "      <td>2017-12</td>\n",
       "      <td>47.321739</td>\n",
       "    </tr>\n",
       "    <tr>\n",
       "      <th>12</th>\n",
       "      <td>2018-01</td>\n",
       "      <td>51.352941</td>\n",
       "    </tr>\n",
       "    <tr>\n",
       "      <th>13</th>\n",
       "      <td>2018-02</td>\n",
       "      <td>55.843478</td>\n",
       "    </tr>\n",
       "    <tr>\n",
       "      <th>14</th>\n",
       "      <td>2018-03</td>\n",
       "      <td>46.945946</td>\n",
       "    </tr>\n",
       "    <tr>\n",
       "      <th>15</th>\n",
       "      <td>2018-04</td>\n",
       "      <td>39.698225</td>\n",
       "    </tr>\n",
       "    <tr>\n",
       "      <th>16</th>\n",
       "      <td>2018-05</td>\n",
       "      <td>34.952381</td>\n",
       "    </tr>\n",
       "    <tr>\n",
       "      <th>17</th>\n",
       "      <td>2018-06</td>\n",
       "      <td>31.908602</td>\n",
       "    </tr>\n",
       "    <tr>\n",
       "      <th>18</th>\n",
       "      <td>2018-07</td>\n",
       "      <td>38.560510</td>\n",
       "    </tr>\n",
       "    <tr>\n",
       "      <th>19</th>\n",
       "      <td>2018-08</td>\n",
       "      <td>36.057803</td>\n",
       "    </tr>\n",
       "  </tbody>\n",
       "</table>\n",
       "</div>"
      ],
      "text/plain": [
       "   YearMonth  NewCustomerRatio\n",
       "1    2017-02        568.333333\n",
       "2    2017-03        432.500000\n",
       "3    2017-04        123.157895\n",
       "4    2017-05        127.142857\n",
       "5    2017-06         77.850000\n",
       "6    2017-07         76.880000\n",
       "7    2017-08         66.919355\n",
       "8    2017-09         51.784810\n",
       "9    2017-10         49.573034\n",
       "10   2017-11         58.209677\n",
       "11   2017-12         47.321739\n",
       "12   2018-01         51.352941\n",
       "13   2018-02         55.843478\n",
       "14   2018-03         46.945946\n",
       "15   2018-04         39.698225\n",
       "16   2018-05         34.952381\n",
       "17   2018-06         31.908602\n",
       "18   2018-07         38.560510\n",
       "19   2018-08         36.057803"
      ]
     },
     "execution_count": 27,
     "metadata": {},
     "output_type": "execute_result"
    }
   ],
   "source": [
    "#create a dataframe that shows new user ratio - we also need to drop NA values (as first month new user  is 0)\n",
    "df_user_ratio = df.query(\"UserType == 'New'\").groupby(['YearMonth'])['CustomerUniqueID'].nunique()/df.query(\"UserType == 'Existing'\").groupby(['YearMonth'])['CustomerUniqueID'].nunique() \n",
    "df_user_ratio = df_user_ratio.reset_index()\n",
    "\n",
    "#dropping nan values that resulted from first and last month\n",
    "df_user_ratio = df_user_ratio.dropna()\n",
    "df_user_ratio.columns = ['YearMonth','NewCustomerRatio']\n",
    "\n",
    "#print the dafaframe\n",
    "df_user_ratio"
   ]
  },
  {
   "cell_type": "code",
   "execution_count": 28,
   "metadata": {
    "colab": {
     "base_uri": "https://localhost:8080/",
     "height": 429
    },
    "id": "2feb2751",
    "outputId": "d237d391-6568-49d0-d2f6-2f49329c8e1f"
   },
   "outputs": [
    {
     "data": {
      "image/png": "[encoded data removed]",
      "text/plain": [
       "<Figure size 864x432 with 1 Axes>"
      ]
     },
     "metadata": {},
     "output_type": "display_data"
    }
   ],
   "source": [
    "fig, ax = plt.subplots(figsize=(12, 6))\n",
    "sns.set(palette='muted', color_codes=True, style='whitegrid')\n",
    "sns.barplot(x='YearMonth', y='NewCustomerRatio', data=df_user_ratio)\n",
    "ax.tick_params(axis='x', labelrotation=90)\n",
    "plt.show()"
   ]
  },
  {
   "cell_type": "markdown",
   "metadata": {
    "id": "5adb65bf"
   },
   "source": [
    "# Monthly Retention Rate"
   ]
  },
  {
   "cell_type": "code",
   "execution_count": 29,
   "metadata": {
    "colab": {
     "base_uri": "https://localhost:8080/",
     "height": 206
    },
    "id": "c306d75c",
    "outputId": "1c0d77a5-13f3-4dea-9ff4-3b648cca25cb"
   },
   "outputs": [
    {
     "data": {
      "text/html": [
       "<div>\n",
       "<style scoped>\n",
       "    .dataframe tbody tr th:only-of-type {\n",
       "        vertical-align: middle;\n",
       "    }\n",
       "\n",
       "    .dataframe tbody tr th {\n",
       "        vertical-align: top;\n",
       "    }\n",
       "\n",
       "    .dataframe thead th {\n",
       "        text-align: right;\n",
       "    }\n",
       "</style>\n",
       "<table border=\"1\" class=\"dataframe\">\n",
       "  <thead>\n",
       "    <tr style=\"text-align: right;\">\n",
       "      <th></th>\n",
       "      <th>CustomerUniqueID</th>\n",
       "      <th>YearMonthInt</th>\n",
       "      <th>PaymentValue</th>\n",
       "    </tr>\n",
       "  </thead>\n",
       "  <tbody>\n",
       "    <tr>\n",
       "      <th>0</th>\n",
       "      <td>0000366f3b9a7992bf8c76cfdf3221e2</td>\n",
       "      <td>201805</td>\n",
       "      <td>141.90</td>\n",
       "    </tr>\n",
       "    <tr>\n",
       "      <th>1</th>\n",
       "      <td>0000b849f77a49e4a4ce2b2a4ca5be3f</td>\n",
       "      <td>201805</td>\n",
       "      <td>27.19</td>\n",
       "    </tr>\n",
       "    <tr>\n",
       "      <th>2</th>\n",
       "      <td>0000f46a3911fa3c0805444483337064</td>\n",
       "      <td>201703</td>\n",
       "      <td>86.22</td>\n",
       "    </tr>\n",
       "    <tr>\n",
       "      <th>3</th>\n",
       "      <td>0000f6ccb0745a6a4b88665a16c9f078</td>\n",
       "      <td>201710</td>\n",
       "      <td>43.62</td>\n",
       "    </tr>\n",
       "    <tr>\n",
       "      <th>4</th>\n",
       "      <td>0004aac84e0df4da2b147fca70cf8255</td>\n",
       "      <td>201711</td>\n",
       "      <td>196.89</td>\n",
       "    </tr>\n",
       "  </tbody>\n",
       "</table>\n",
       "</div>"
      ],
      "text/plain": [
       "                   CustomerUniqueID  YearMonthInt  PaymentValue\n",
       "0  0000366f3b9a7992bf8c76cfdf3221e2        201805        141.90\n",
       "1  0000b849f77a49e4a4ce2b2a4ca5be3f        201805         27.19\n",
       "2  0000f46a3911fa3c0805444483337064        201703         86.22\n",
       "3  0000f6ccb0745a6a4b88665a16c9f078        201710         43.62\n",
       "4  0004aac84e0df4da2b147fca70cf8255        201711        196.89"
      ]
     },
     "execution_count": 29,
     "metadata": {},
     "output_type": "execute_result"
    }
   ],
   "source": [
    "#Monthly Retention Rate = Retained Customers From Prev. Month/Active Customers Total (using crosstab)\n",
    "\n",
    "#identifying active users by looking at their revenue per month\n",
    "df_user_purchase = df.groupby(['CustomerUniqueID','YearMonthInt'])['PaymentValue'].sum().reset_index()\n",
    "df_user_purchase.head()"
   ]
  },
  {
   "cell_type": "code",
   "execution_count": 30,
   "metadata": {
    "colab": {
     "base_uri": "https://localhost:8080/",
     "height": 206
    },
    "id": "deb1c90f",
    "outputId": "63b0ce87-9b4d-4f66-eb22-3f03377451fc"
   },
   "outputs": [
    {
     "data": {
      "text/html": [
       "<div>\n",
       "<style scoped>\n",
       "    .dataframe tbody tr th:only-of-type {\n",
       "        vertical-align: middle;\n",
       "    }\n",
       "\n",
       "    .dataframe tbody tr th {\n",
       "        vertical-align: top;\n",
       "    }\n",
       "\n",
       "    .dataframe thead th {\n",
       "        text-align: right;\n",
       "    }\n",
       "</style>\n",
       "<table border=\"1\" class=\"dataframe\">\n",
       "  <thead>\n",
       "    <tr style=\"text-align: right;\">\n",
       "      <th>YearMonthInt</th>\n",
       "      <th>CustomerUniqueID</th>\n",
       "      <th>201701</th>\n",
       "      <th>201702</th>\n",
       "      <th>201703</th>\n",
       "      <th>201704</th>\n",
       "      <th>201705</th>\n",
       "      <th>201706</th>\n",
       "      <th>201707</th>\n",
       "      <th>201708</th>\n",
       "      <th>201709</th>\n",
       "      <th>201710</th>\n",
       "      <th>201711</th>\n",
       "      <th>201712</th>\n",
       "      <th>201801</th>\n",
       "      <th>201802</th>\n",
       "      <th>201803</th>\n",
       "      <th>201804</th>\n",
       "      <th>201805</th>\n",
       "      <th>201806</th>\n",
       "      <th>201807</th>\n",
       "      <th>201808</th>\n",
       "    </tr>\n",
       "  </thead>\n",
       "  <tbody>\n",
       "    <tr>\n",
       "      <th>0</th>\n",
       "      <td>0000366f3b9a7992bf8c76cfdf3221e2</td>\n",
       "      <td>0</td>\n",
       "      <td>0</td>\n",
       "      <td>0</td>\n",
       "      <td>0</td>\n",
       "      <td>0</td>\n",
       "      <td>0</td>\n",
       "      <td>0</td>\n",
       "      <td>0</td>\n",
       "      <td>0</td>\n",
       "      <td>0</td>\n",
       "      <td>0</td>\n",
       "      <td>0</td>\n",
       "      <td>0</td>\n",
       "      <td>0</td>\n",
       "      <td>0</td>\n",
       "      <td>0</td>\n",
       "      <td>1</td>\n",
       "      <td>0</td>\n",
       "      <td>0</td>\n",
       "      <td>0</td>\n",
       "    </tr>\n",
       "    <tr>\n",
       "      <th>1</th>\n",
       "      <td>0000b849f77a49e4a4ce2b2a4ca5be3f</td>\n",
       "      <td>0</td>\n",
       "      <td>0</td>\n",
       "      <td>0</td>\n",
       "      <td>0</td>\n",
       "      <td>0</td>\n",
       "      <td>0</td>\n",
       "      <td>0</td>\n",
       "      <td>0</td>\n",
       "      <td>0</td>\n",
       "      <td>0</td>\n",
       "      <td>0</td>\n",
       "      <td>0</td>\n",
       "      <td>0</td>\n",
       "      <td>0</td>\n",
       "      <td>0</td>\n",
       "      <td>0</td>\n",
       "      <td>1</td>\n",
       "      <td>0</td>\n",
       "      <td>0</td>\n",
       "      <td>0</td>\n",
       "    </tr>\n",
       "    <tr>\n",
       "      <th>2</th>\n",
       "      <td>0000f46a3911fa3c0805444483337064</td>\n",
       "      <td>0</td>\n",
       "      <td>0</td>\n",
       "      <td>1</td>\n",
       "      <td>0</td>\n",
       "      <td>0</td>\n",
       "      <td>0</td>\n",
       "      <td>0</td>\n",
       "      <td>0</td>\n",
       "      <td>0</td>\n",
       "      <td>0</td>\n",
       "      <td>0</td>\n",
       "      <td>0</td>\n",
       "      <td>0</td>\n",
       "      <td>0</td>\n",
       "      <td>0</td>\n",
       "      <td>0</td>\n",
       "      <td>0</td>\n",
       "      <td>0</td>\n",
       "      <td>0</td>\n",
       "      <td>0</td>\n",
       "    </tr>\n",
       "    <tr>\n",
       "      <th>3</th>\n",
       "      <td>0000f6ccb0745a6a4b88665a16c9f078</td>\n",
       "      <td>0</td>\n",
       "      <td>0</td>\n",
       "      <td>0</td>\n",
       "      <td>0</td>\n",
       "      <td>0</td>\n",
       "      <td>0</td>\n",
       "      <td>0</td>\n",
       "      <td>0</td>\n",
       "      <td>0</td>\n",
       "      <td>1</td>\n",
       "      <td>0</td>\n",
       "      <td>0</td>\n",
       "      <td>0</td>\n",
       "      <td>0</td>\n",
       "      <td>0</td>\n",
       "      <td>0</td>\n",
       "      <td>0</td>\n",
       "      <td>0</td>\n",
       "      <td>0</td>\n",
       "      <td>0</td>\n",
       "    </tr>\n",
       "    <tr>\n",
       "      <th>4</th>\n",
       "      <td>0004aac84e0df4da2b147fca70cf8255</td>\n",
       "      <td>0</td>\n",
       "      <td>0</td>\n",
       "      <td>0</td>\n",
       "      <td>0</td>\n",
       "      <td>0</td>\n",
       "      <td>0</td>\n",
       "      <td>0</td>\n",
       "      <td>0</td>\n",
       "      <td>0</td>\n",
       "      <td>0</td>\n",
       "      <td>1</td>\n",
       "      <td>0</td>\n",
       "      <td>0</td>\n",
       "      <td>0</td>\n",
       "      <td>0</td>\n",
       "      <td>0</td>\n",
       "      <td>0</td>\n",
       "      <td>0</td>\n",
       "      <td>0</td>\n",
       "      <td>0</td>\n",
       "    </tr>\n",
       "  </tbody>\n",
       "</table>\n",
       "</div>"
      ],
      "text/plain": [
       "YearMonthInt                  CustomerUniqueID  201701  201702  201703  \\\n",
       "0             0000366f3b9a7992bf8c76cfdf3221e2       0       0       0   \n",
       "1             0000b849f77a49e4a4ce2b2a4ca5be3f       0       0       0   \n",
       "2             0000f46a3911fa3c0805444483337064       0       0       1   \n",
       "3             0000f6ccb0745a6a4b88665a16c9f078       0       0       0   \n",
       "4             0004aac84e0df4da2b147fca70cf8255       0       0       0   \n",
       "\n",
       "YearMonthInt  201704  201705  201706  201707  201708  201709  201710  201711  \\\n",
       "0                  0       0       0       0       0       0       0       0   \n",
       "1                  0       0       0       0       0       0       0       0   \n",
       "2                  0       0       0       0       0       0       0       0   \n",
       "3                  0       0       0       0       0       0       1       0   \n",
       "4                  0       0       0       0       0       0       0       1   \n",
       "\n",
       "YearMonthInt  201712  201801  201802  201803  201804  201805  201806  201807  \\\n",
       "0                  0       0       0       0       0       1       0       0   \n",
       "1                  0       0       0       0       0       1       0       0   \n",
       "2                  0       0       0       0       0       0       0       0   \n",
       "3                  0       0       0       0       0       0       0       0   \n",
       "4                  0       0       0       0       0       0       0       0   \n",
       "\n",
       "YearMonthInt  201808  \n",
       "0                  0  \n",
       "1                  0  \n",
       "2                  0  \n",
       "3                  0  \n",
       "4                  0  "
      ]
     },
     "execution_count": 30,
     "metadata": {},
     "output_type": "execute_result"
    }
   ],
   "source": [
    "#creating retention matrix with crosstab using df_user_purchase\n",
    "df_retention = pd.crosstab(df_user_purchase['CustomerUniqueID'], df_user_purchase['YearMonthInt']).reset_index()\n",
    "df_retention.head()"
   ]
  },
  {
   "cell_type": "code",
   "execution_count": 31,
   "metadata": {
    "colab": {
     "base_uri": "https://localhost:8080/",
     "height": 614
    },
    "id": "4e695c80",
    "outputId": "f7ae6d05-2155-4de5-d3d5-8fc3d48e039f"
   },
   "outputs": [
    {
     "data": {
      "text/html": [
       "<div>\n",
       "<style scoped>\n",
       "    .dataframe tbody tr th:only-of-type {\n",
       "        vertical-align: middle;\n",
       "    }\n",
       "\n",
       "    .dataframe tbody tr th {\n",
       "        vertical-align: top;\n",
       "    }\n",
       "\n",
       "    .dataframe thead th {\n",
       "        text-align: right;\n",
       "    }\n",
       "</style>\n",
       "<table border=\"1\" class=\"dataframe\">\n",
       "  <thead>\n",
       "    <tr style=\"text-align: right;\">\n",
       "      <th></th>\n",
       "      <th>YearMonth</th>\n",
       "      <th>TotalUserCount</th>\n",
       "      <th>RetainedUserCount</th>\n",
       "      <th>RetentionRate</th>\n",
       "    </tr>\n",
       "  </thead>\n",
       "  <tbody>\n",
       "    <tr>\n",
       "      <th>0</th>\n",
       "      <td>201703</td>\n",
       "      <td>2601</td>\n",
       "      <td>4</td>\n",
       "      <td>0.001538</td>\n",
       "    </tr>\n",
       "    <tr>\n",
       "      <th>1</th>\n",
       "      <td>201704</td>\n",
       "      <td>2359</td>\n",
       "      <td>13</td>\n",
       "      <td>0.005511</td>\n",
       "    </tr>\n",
       "    <tr>\n",
       "      <th>2</th>\n",
       "      <td>201705</td>\n",
       "      <td>3588</td>\n",
       "      <td>14</td>\n",
       "      <td>0.003902</td>\n",
       "    </tr>\n",
       "    <tr>\n",
       "      <th>3</th>\n",
       "      <td>201706</td>\n",
       "      <td>3154</td>\n",
       "      <td>17</td>\n",
       "      <td>0.005390</td>\n",
       "    </tr>\n",
       "    <tr>\n",
       "      <th>4</th>\n",
       "      <td>201707</td>\n",
       "      <td>3894</td>\n",
       "      <td>17</td>\n",
       "      <td>0.004366</td>\n",
       "    </tr>\n",
       "    <tr>\n",
       "      <th>5</th>\n",
       "      <td>201708</td>\n",
       "      <td>4211</td>\n",
       "      <td>23</td>\n",
       "      <td>0.005462</td>\n",
       "    </tr>\n",
       "    <tr>\n",
       "      <th>6</th>\n",
       "      <td>201709</td>\n",
       "      <td>4170</td>\n",
       "      <td>32</td>\n",
       "      <td>0.007674</td>\n",
       "    </tr>\n",
       "    <tr>\n",
       "      <th>7</th>\n",
       "      <td>201710</td>\n",
       "      <td>4501</td>\n",
       "      <td>32</td>\n",
       "      <td>0.007110</td>\n",
       "    </tr>\n",
       "    <tr>\n",
       "      <th>8</th>\n",
       "      <td>201711</td>\n",
       "      <td>7342</td>\n",
       "      <td>37</td>\n",
       "      <td>0.005039</td>\n",
       "    </tr>\n",
       "    <tr>\n",
       "      <th>9</th>\n",
       "      <td>201712</td>\n",
       "      <td>5557</td>\n",
       "      <td>41</td>\n",
       "      <td>0.007378</td>\n",
       "    </tr>\n",
       "    <tr>\n",
       "      <th>10</th>\n",
       "      <td>201801</td>\n",
       "      <td>7120</td>\n",
       "      <td>17</td>\n",
       "      <td>0.002388</td>\n",
       "    </tr>\n",
       "    <tr>\n",
       "      <th>11</th>\n",
       "      <td>201802</td>\n",
       "      <td>6537</td>\n",
       "      <td>28</td>\n",
       "      <td>0.004283</td>\n",
       "    </tr>\n",
       "    <tr>\n",
       "      <th>12</th>\n",
       "      <td>201803</td>\n",
       "      <td>7096</td>\n",
       "      <td>26</td>\n",
       "      <td>0.003664</td>\n",
       "    </tr>\n",
       "    <tr>\n",
       "      <th>13</th>\n",
       "      <td>201804</td>\n",
       "      <td>6878</td>\n",
       "      <td>35</td>\n",
       "      <td>0.005089</td>\n",
       "    </tr>\n",
       "    <tr>\n",
       "      <th>14</th>\n",
       "      <td>201805</td>\n",
       "      <td>6795</td>\n",
       "      <td>45</td>\n",
       "      <td>0.006623</td>\n",
       "    </tr>\n",
       "    <tr>\n",
       "      <th>15</th>\n",
       "      <td>201806</td>\n",
       "      <td>6121</td>\n",
       "      <td>39</td>\n",
       "      <td>0.006372</td>\n",
       "    </tr>\n",
       "    <tr>\n",
       "      <th>16</th>\n",
       "      <td>201807</td>\n",
       "      <td>6211</td>\n",
       "      <td>26</td>\n",
       "      <td>0.004186</td>\n",
       "    </tr>\n",
       "    <tr>\n",
       "      <th>17</th>\n",
       "      <td>201808</td>\n",
       "      <td>6411</td>\n",
       "      <td>37</td>\n",
       "      <td>0.005771</td>\n",
       "    </tr>\n",
       "  </tbody>\n",
       "</table>\n",
       "</div>"
      ],
      "text/plain": [
       "    YearMonth  TotalUserCount  RetainedUserCount  RetentionRate\n",
       "0      201703            2601                  4       0.001538\n",
       "1      201704            2359                 13       0.005511\n",
       "2      201705            3588                 14       0.003902\n",
       "3      201706            3154                 17       0.005390\n",
       "4      201707            3894                 17       0.004366\n",
       "5      201708            4211                 23       0.005462\n",
       "6      201709            4170                 32       0.007674\n",
       "7      201710            4501                 32       0.007110\n",
       "8      201711            7342                 37       0.005039\n",
       "9      201712            5557                 41       0.007378\n",
       "10     201801            7120                 17       0.002388\n",
       "11     201802            6537                 28       0.004283\n",
       "12     201803            7096                 26       0.003664\n",
       "13     201804            6878                 35       0.005089\n",
       "14     201805            6795                 45       0.006623\n",
       "15     201806            6121                 39       0.006372\n",
       "16     201807            6211                 26       0.004186\n",
       "17     201808            6411                 37       0.005771"
      ]
     },
     "execution_count": 31,
     "metadata": {},
     "output_type": "execute_result"
    }
   ],
   "source": [
    "#creating an array of dictionary which keeps Retained & Total User count for each month\n",
    "months = df_retention.columns[2:]\n",
    "retention_array = []\n",
    "for i in range(len(months)-1):\n",
    "    retention_data = {}\n",
    "    selected_month = months[i+1]\n",
    "    prev_month = months[i]\n",
    "    retention_data['YearMonth'] = int(selected_month)\n",
    "    retention_data['TotalUserCount'] = df_retention[selected_month].sum()\n",
    "    retention_data['RetainedUserCount'] = df_retention[(df_retention[selected_month]>0) & (df_retention[prev_month]>0)][selected_month].sum()\n",
    "    retention_array.append(retention_data)\n",
    "    \n",
    "#convert the array to dataframe and calculate Retention Rate\n",
    "df_retention = pd.DataFrame(retention_array)\n",
    "df_retention['RetentionRate'] = df_retention['RetainedUserCount']/df_retention['TotalUserCount']\n",
    "\n",
    "df_retention"
   ]
  },
  {
   "cell_type": "code",
   "execution_count": 32,
   "metadata": {
    "colab": {
     "base_uri": "https://localhost:8080/",
     "height": 425
    },
    "id": "c97bbf40",
    "outputId": "f0a241f6-6e4f-4b7a-dac5-00283f0e7524"
   },
   "outputs": [
    {
     "data": {
      "image/png": "[encoded data removed]",
      "text/plain": [
       "<Figure size 1440x432 with 1 Axes>"
      ]
     },
     "metadata": {},
     "output_type": "display_data"
    }
   ],
   "source": [
    "fig, ax = plt.subplots(figsize=(20, 6))\n",
    "sns.set(palette='muted', color_codes=True, style='whitegrid')\n",
    "sns.lineplot(x=df_retention.YearMonth.astype(str), y=df_retention.RetentionRate, marker='o')\n",
    "ax.tick_params(axis='x', labelrotation=90)\n",
    "plt.show()"
   ]
  },
  {
   "cell_type": "markdown",
   "metadata": {
    "id": "ec89c403"
   },
   "source": [
    "# Cohort Based Retention Rate\n",
    "\n",
    "There is another way of measuring Retention Rate which allows you to see Retention Rate for each cohort. Cohorts are determined as first purchase year-month of the customers. We will be measuring what percentage of the customers retained after their first purchase in each month. This view will help us to see how recent and old cohorts differ regarding retention rate and if recent changes in customer experience affected new customer’s retention or not."
   ]
  },
  {
   "cell_type": "code",
   "execution_count": 33,
   "metadata": {
    "colab": {
     "base_uri": "https://localhost:8080/",
     "height": 270
    },
    "id": "432080e4",
    "outputId": "dc6fcc88-15fd-47b4-9495-be20fea2e089"
   },
   "outputs": [
    {
     "data": {
      "text/html": [
       "<div>\n",
       "<style scoped>\n",
       "    .dataframe tbody tr th:only-of-type {\n",
       "        vertical-align: middle;\n",
       "    }\n",
       "\n",
       "    .dataframe tbody tr th {\n",
       "        vertical-align: top;\n",
       "    }\n",
       "\n",
       "    .dataframe thead th {\n",
       "        text-align: right;\n",
       "    }\n",
       "</style>\n",
       "<table border=\"1\" class=\"dataframe\">\n",
       "  <thead>\n",
       "    <tr style=\"text-align: right;\">\n",
       "      <th></th>\n",
       "      <th>m_CustomerUniqueID</th>\n",
       "      <th>m_201701</th>\n",
       "      <th>m_201702</th>\n",
       "      <th>m_201703</th>\n",
       "      <th>m_201704</th>\n",
       "      <th>m_201705</th>\n",
       "      <th>m_201706</th>\n",
       "      <th>m_201707</th>\n",
       "      <th>m_201708</th>\n",
       "      <th>m_201709</th>\n",
       "      <th>m_201710</th>\n",
       "      <th>m_201711</th>\n",
       "      <th>m_201712</th>\n",
       "      <th>m_201801</th>\n",
       "      <th>m_201802</th>\n",
       "      <th>m_201803</th>\n",
       "      <th>m_201804</th>\n",
       "      <th>m_201805</th>\n",
       "      <th>m_201806</th>\n",
       "      <th>m_201807</th>\n",
       "      <th>m_201808</th>\n",
       "    </tr>\n",
       "  </thead>\n",
       "  <tbody>\n",
       "    <tr>\n",
       "      <th>0</th>\n",
       "      <td>0000366f3b9a7992bf8c76cfdf3221e2</td>\n",
       "      <td>0</td>\n",
       "      <td>0</td>\n",
       "      <td>0</td>\n",
       "      <td>0</td>\n",
       "      <td>0</td>\n",
       "      <td>0</td>\n",
       "      <td>0</td>\n",
       "      <td>0</td>\n",
       "      <td>0</td>\n",
       "      <td>0</td>\n",
       "      <td>0</td>\n",
       "      <td>0</td>\n",
       "      <td>0</td>\n",
       "      <td>0</td>\n",
       "      <td>0</td>\n",
       "      <td>0</td>\n",
       "      <td>1</td>\n",
       "      <td>0</td>\n",
       "      <td>0</td>\n",
       "      <td>0</td>\n",
       "    </tr>\n",
       "    <tr>\n",
       "      <th>1</th>\n",
       "      <td>0000b849f77a49e4a4ce2b2a4ca5be3f</td>\n",
       "      <td>0</td>\n",
       "      <td>0</td>\n",
       "      <td>0</td>\n",
       "      <td>0</td>\n",
       "      <td>0</td>\n",
       "      <td>0</td>\n",
       "      <td>0</td>\n",
       "      <td>0</td>\n",
       "      <td>0</td>\n",
       "      <td>0</td>\n",
       "      <td>0</td>\n",
       "      <td>0</td>\n",
       "      <td>0</td>\n",
       "      <td>0</td>\n",
       "      <td>0</td>\n",
       "      <td>0</td>\n",
       "      <td>1</td>\n",
       "      <td>0</td>\n",
       "      <td>0</td>\n",
       "      <td>0</td>\n",
       "    </tr>\n",
       "    <tr>\n",
       "      <th>2</th>\n",
       "      <td>0000f46a3911fa3c0805444483337064</td>\n",
       "      <td>0</td>\n",
       "      <td>0</td>\n",
       "      <td>1</td>\n",
       "      <td>0</td>\n",
       "      <td>0</td>\n",
       "      <td>0</td>\n",
       "      <td>0</td>\n",
       "      <td>0</td>\n",
       "      <td>0</td>\n",
       "      <td>0</td>\n",
       "      <td>0</td>\n",
       "      <td>0</td>\n",
       "      <td>0</td>\n",
       "      <td>0</td>\n",
       "      <td>0</td>\n",
       "      <td>0</td>\n",
       "      <td>0</td>\n",
       "      <td>0</td>\n",
       "      <td>0</td>\n",
       "      <td>0</td>\n",
       "    </tr>\n",
       "    <tr>\n",
       "      <th>3</th>\n",
       "      <td>0000f6ccb0745a6a4b88665a16c9f078</td>\n",
       "      <td>0</td>\n",
       "      <td>0</td>\n",
       "      <td>0</td>\n",
       "      <td>0</td>\n",
       "      <td>0</td>\n",
       "      <td>0</td>\n",
       "      <td>0</td>\n",
       "      <td>0</td>\n",
       "      <td>0</td>\n",
       "      <td>1</td>\n",
       "      <td>0</td>\n",
       "      <td>0</td>\n",
       "      <td>0</td>\n",
       "      <td>0</td>\n",
       "      <td>0</td>\n",
       "      <td>0</td>\n",
       "      <td>0</td>\n",
       "      <td>0</td>\n",
       "      <td>0</td>\n",
       "      <td>0</td>\n",
       "    </tr>\n",
       "    <tr>\n",
       "      <th>4</th>\n",
       "      <td>0004aac84e0df4da2b147fca70cf8255</td>\n",
       "      <td>0</td>\n",
       "      <td>0</td>\n",
       "      <td>0</td>\n",
       "      <td>0</td>\n",
       "      <td>0</td>\n",
       "      <td>0</td>\n",
       "      <td>0</td>\n",
       "      <td>0</td>\n",
       "      <td>0</td>\n",
       "      <td>0</td>\n",
       "      <td>1</td>\n",
       "      <td>0</td>\n",
       "      <td>0</td>\n",
       "      <td>0</td>\n",
       "      <td>0</td>\n",
       "      <td>0</td>\n",
       "      <td>0</td>\n",
       "      <td>0</td>\n",
       "      <td>0</td>\n",
       "      <td>0</td>\n",
       "    </tr>\n",
       "  </tbody>\n",
       "</table>\n",
       "</div>"
      ],
      "text/plain": [
       "                 m_CustomerUniqueID  m_201701  m_201702  m_201703  m_201704  \\\n",
       "0  0000366f3b9a7992bf8c76cfdf3221e2         0         0         0         0   \n",
       "1  0000b849f77a49e4a4ce2b2a4ca5be3f         0         0         0         0   \n",
       "2  0000f46a3911fa3c0805444483337064         0         0         1         0   \n",
       "3  0000f6ccb0745a6a4b88665a16c9f078         0         0         0         0   \n",
       "4  0004aac84e0df4da2b147fca70cf8255         0         0         0         0   \n",
       "\n",
       "   m_201705  m_201706  m_201707  m_201708  m_201709  m_201710  m_201711  \\\n",
       "0         0         0         0         0         0         0         0   \n",
       "1         0         0         0         0         0         0         0   \n",
       "2         0         0         0         0         0         0         0   \n",
       "3         0         0         0         0         0         1         0   \n",
       "4         0         0         0         0         0         0         1   \n",
       "\n",
       "   m_201712  m_201801  m_201802  m_201803  m_201804  m_201805  m_201806  \\\n",
       "0         0         0         0         0         0         1         0   \n",
       "1         0         0         0         0         0         1         0   \n",
       "2         0         0         0         0         0         0         0   \n",
       "3         0         0         0         0         0         0         0   \n",
       "4         0         0         0         0         0         0         0   \n",
       "\n",
       "   m_201807  m_201808  \n",
       "0         0         0  \n",
       "1         0         0  \n",
       "2         0         0  \n",
       "3         0         0  \n",
       "4         0         0  "
      ]
     },
     "execution_count": 33,
     "metadata": {},
     "output_type": "execute_result"
    }
   ],
   "source": [
    "#create our retention table again with crosstab() - we need to change the column names for using them in .query() function\n",
    "\n",
    "df_retention = pd.crosstab(df_user_purchase['CustomerUniqueID'], df_user_purchase['YearMonthInt']).reset_index()\n",
    "new_column_names = [ 'm_' + str(column) for column in df_retention.columns]\n",
    "df_retention.columns = new_column_names\n",
    "df_retention.head()"
   ]
  },
  {
   "cell_type": "code",
   "execution_count": 34,
   "metadata": {
    "id": "eabb9d3a"
   },
   "outputs": [],
   "source": [
    "#create the array of Retained users for each cohort monthly\n",
    "retention_array = []\n",
    "for i in range(len(months)):\n",
    "    retention_data = {}\n",
    "    selected_month = months[i]\n",
    "    prev_months = months[:i]\n",
    "    next_months = months[i+1:]\n",
    "    for prev_month in prev_months:\n",
    "        retention_data[prev_month] = np.nan\n",
    "        \n",
    "    total_user_count =  retention_data['TotalUserCount'] = df_retention['m_' + str(selected_month)].sum()\n",
    "    retention_data[selected_month] = 1 \n",
    "    \n",
    "    query = \"{} > 0\".format('m_' + str(selected_month))\n",
    "    \n",
    "\n",
    "    for next_month in next_months:\n",
    "        query = query + \" and {} > 0\".format(str('m_' + str(next_month)))\n",
    "        retention_data[next_month] = np.round(df_retention.query(query)['m_' + str(next_month)].sum()/total_user_count,2)\n",
    "    retention_array.append(retention_data)"
   ]
  },
  {
   "cell_type": "code",
   "execution_count": 35,
   "metadata": {
    "colab": {
     "base_uri": "https://localhost:8080/",
     "height": 677
    },
    "id": "d33f012c",
    "outputId": "0925476f-ce01-421a-dce2-828cc4c946ec"
   },
   "outputs": [
    {
     "data": {
      "text/html": [
       "<div>\n",
       "<style scoped>\n",
       "    .dataframe tbody tr th:only-of-type {\n",
       "        vertical-align: middle;\n",
       "    }\n",
       "\n",
       "    .dataframe tbody tr th {\n",
       "        vertical-align: top;\n",
       "    }\n",
       "\n",
       "    .dataframe thead th {\n",
       "        text-align: right;\n",
       "    }\n",
       "</style>\n",
       "<table border=\"1\" class=\"dataframe\">\n",
       "  <thead>\n",
       "    <tr style=\"text-align: right;\">\n",
       "      <th></th>\n",
       "      <th>TotalUserCount</th>\n",
       "      <th>201702</th>\n",
       "      <th>201703</th>\n",
       "      <th>201704</th>\n",
       "      <th>201705</th>\n",
       "      <th>201706</th>\n",
       "      <th>201707</th>\n",
       "      <th>201708</th>\n",
       "      <th>201709</th>\n",
       "      <th>201710</th>\n",
       "      <th>201711</th>\n",
       "      <th>201712</th>\n",
       "      <th>201801</th>\n",
       "      <th>201802</th>\n",
       "      <th>201803</th>\n",
       "      <th>201804</th>\n",
       "      <th>201805</th>\n",
       "      <th>201806</th>\n",
       "      <th>201807</th>\n",
       "      <th>201808</th>\n",
       "    </tr>\n",
       "    <tr>\n",
       "      <th>YearMonthInt</th>\n",
       "      <th></th>\n",
       "      <th></th>\n",
       "      <th></th>\n",
       "      <th></th>\n",
       "      <th></th>\n",
       "      <th></th>\n",
       "      <th></th>\n",
       "      <th></th>\n",
       "      <th></th>\n",
       "      <th></th>\n",
       "      <th></th>\n",
       "      <th></th>\n",
       "      <th></th>\n",
       "      <th></th>\n",
       "      <th></th>\n",
       "      <th></th>\n",
       "      <th></th>\n",
       "      <th></th>\n",
       "      <th></th>\n",
       "      <th></th>\n",
       "    </tr>\n",
       "  </thead>\n",
       "  <tbody>\n",
       "    <tr>\n",
       "      <th>201702</th>\n",
       "      <td>1708</td>\n",
       "      <td>1.0</td>\n",
       "      <td>0.0</td>\n",
       "      <td>0.0</td>\n",
       "      <td>0.00</td>\n",
       "      <td>0.0</td>\n",
       "      <td>0.00</td>\n",
       "      <td>0.00</td>\n",
       "      <td>0.00</td>\n",
       "      <td>0.00</td>\n",
       "      <td>0.00</td>\n",
       "      <td>0.00</td>\n",
       "      <td>0.0</td>\n",
       "      <td>0.0</td>\n",
       "      <td>0.0</td>\n",
       "      <td>0.0</td>\n",
       "      <td>0.00</td>\n",
       "      <td>0.00</td>\n",
       "      <td>0.0</td>\n",
       "      <td>0.00</td>\n",
       "    </tr>\n",
       "    <tr>\n",
       "      <th>201703</th>\n",
       "      <td>2601</td>\n",
       "      <td>NaN</td>\n",
       "      <td>1.0</td>\n",
       "      <td>0.0</td>\n",
       "      <td>0.00</td>\n",
       "      <td>0.0</td>\n",
       "      <td>0.00</td>\n",
       "      <td>0.00</td>\n",
       "      <td>0.00</td>\n",
       "      <td>0.00</td>\n",
       "      <td>0.00</td>\n",
       "      <td>0.00</td>\n",
       "      <td>0.0</td>\n",
       "      <td>0.0</td>\n",
       "      <td>0.0</td>\n",
       "      <td>0.0</td>\n",
       "      <td>0.00</td>\n",
       "      <td>0.00</td>\n",
       "      <td>0.0</td>\n",
       "      <td>0.00</td>\n",
       "    </tr>\n",
       "    <tr>\n",
       "      <th>201704</th>\n",
       "      <td>2359</td>\n",
       "      <td>NaN</td>\n",
       "      <td>NaN</td>\n",
       "      <td>1.0</td>\n",
       "      <td>0.01</td>\n",
       "      <td>0.0</td>\n",
       "      <td>0.00</td>\n",
       "      <td>0.00</td>\n",
       "      <td>0.00</td>\n",
       "      <td>0.00</td>\n",
       "      <td>0.00</td>\n",
       "      <td>0.00</td>\n",
       "      <td>0.0</td>\n",
       "      <td>0.0</td>\n",
       "      <td>0.0</td>\n",
       "      <td>0.0</td>\n",
       "      <td>0.00</td>\n",
       "      <td>0.00</td>\n",
       "      <td>0.0</td>\n",
       "      <td>0.00</td>\n",
       "    </tr>\n",
       "    <tr>\n",
       "      <th>201705</th>\n",
       "      <td>3588</td>\n",
       "      <td>NaN</td>\n",
       "      <td>NaN</td>\n",
       "      <td>NaN</td>\n",
       "      <td>1.00</td>\n",
       "      <td>0.0</td>\n",
       "      <td>0.00</td>\n",
       "      <td>0.00</td>\n",
       "      <td>0.00</td>\n",
       "      <td>0.00</td>\n",
       "      <td>0.00</td>\n",
       "      <td>0.00</td>\n",
       "      <td>0.0</td>\n",
       "      <td>0.0</td>\n",
       "      <td>0.0</td>\n",
       "      <td>0.0</td>\n",
       "      <td>0.00</td>\n",
       "      <td>0.00</td>\n",
       "      <td>0.0</td>\n",
       "      <td>0.00</td>\n",
       "    </tr>\n",
       "    <tr>\n",
       "      <th>201706</th>\n",
       "      <td>3154</td>\n",
       "      <td>NaN</td>\n",
       "      <td>NaN</td>\n",
       "      <td>NaN</td>\n",
       "      <td>NaN</td>\n",
       "      <td>1.0</td>\n",
       "      <td>0.01</td>\n",
       "      <td>0.00</td>\n",
       "      <td>0.00</td>\n",
       "      <td>0.00</td>\n",
       "      <td>0.00</td>\n",
       "      <td>0.00</td>\n",
       "      <td>0.0</td>\n",
       "      <td>0.0</td>\n",
       "      <td>0.0</td>\n",
       "      <td>0.0</td>\n",
       "      <td>0.00</td>\n",
       "      <td>0.00</td>\n",
       "      <td>0.0</td>\n",
       "      <td>0.00</td>\n",
       "    </tr>\n",
       "    <tr>\n",
       "      <th>201707</th>\n",
       "      <td>3894</td>\n",
       "      <td>NaN</td>\n",
       "      <td>NaN</td>\n",
       "      <td>NaN</td>\n",
       "      <td>NaN</td>\n",
       "      <td>NaN</td>\n",
       "      <td>1.00</td>\n",
       "      <td>0.01</td>\n",
       "      <td>0.00</td>\n",
       "      <td>0.00</td>\n",
       "      <td>0.00</td>\n",
       "      <td>0.00</td>\n",
       "      <td>0.0</td>\n",
       "      <td>0.0</td>\n",
       "      <td>0.0</td>\n",
       "      <td>0.0</td>\n",
       "      <td>0.00</td>\n",
       "      <td>0.00</td>\n",
       "      <td>0.0</td>\n",
       "      <td>0.00</td>\n",
       "    </tr>\n",
       "    <tr>\n",
       "      <th>201708</th>\n",
       "      <td>4211</td>\n",
       "      <td>NaN</td>\n",
       "      <td>NaN</td>\n",
       "      <td>NaN</td>\n",
       "      <td>NaN</td>\n",
       "      <td>NaN</td>\n",
       "      <td>NaN</td>\n",
       "      <td>1.00</td>\n",
       "      <td>0.01</td>\n",
       "      <td>0.00</td>\n",
       "      <td>0.00</td>\n",
       "      <td>0.00</td>\n",
       "      <td>0.0</td>\n",
       "      <td>0.0</td>\n",
       "      <td>0.0</td>\n",
       "      <td>0.0</td>\n",
       "      <td>0.00</td>\n",
       "      <td>0.00</td>\n",
       "      <td>0.0</td>\n",
       "      <td>0.00</td>\n",
       "    </tr>\n",
       "    <tr>\n",
       "      <th>201709</th>\n",
       "      <td>4170</td>\n",
       "      <td>NaN</td>\n",
       "      <td>NaN</td>\n",
       "      <td>NaN</td>\n",
       "      <td>NaN</td>\n",
       "      <td>NaN</td>\n",
       "      <td>NaN</td>\n",
       "      <td>NaN</td>\n",
       "      <td>1.00</td>\n",
       "      <td>0.01</td>\n",
       "      <td>0.00</td>\n",
       "      <td>0.00</td>\n",
       "      <td>0.0</td>\n",
       "      <td>0.0</td>\n",
       "      <td>0.0</td>\n",
       "      <td>0.0</td>\n",
       "      <td>0.00</td>\n",
       "      <td>0.00</td>\n",
       "      <td>0.0</td>\n",
       "      <td>0.00</td>\n",
       "    </tr>\n",
       "    <tr>\n",
       "      <th>201710</th>\n",
       "      <td>4501</td>\n",
       "      <td>NaN</td>\n",
       "      <td>NaN</td>\n",
       "      <td>NaN</td>\n",
       "      <td>NaN</td>\n",
       "      <td>NaN</td>\n",
       "      <td>NaN</td>\n",
       "      <td>NaN</td>\n",
       "      <td>NaN</td>\n",
       "      <td>1.00</td>\n",
       "      <td>0.01</td>\n",
       "      <td>0.00</td>\n",
       "      <td>0.0</td>\n",
       "      <td>0.0</td>\n",
       "      <td>0.0</td>\n",
       "      <td>0.0</td>\n",
       "      <td>0.00</td>\n",
       "      <td>0.00</td>\n",
       "      <td>0.0</td>\n",
       "      <td>0.00</td>\n",
       "    </tr>\n",
       "    <tr>\n",
       "      <th>201711</th>\n",
       "      <td>7342</td>\n",
       "      <td>NaN</td>\n",
       "      <td>NaN</td>\n",
       "      <td>NaN</td>\n",
       "      <td>NaN</td>\n",
       "      <td>NaN</td>\n",
       "      <td>NaN</td>\n",
       "      <td>NaN</td>\n",
       "      <td>NaN</td>\n",
       "      <td>NaN</td>\n",
       "      <td>1.00</td>\n",
       "      <td>0.01</td>\n",
       "      <td>0.0</td>\n",
       "      <td>0.0</td>\n",
       "      <td>0.0</td>\n",
       "      <td>0.0</td>\n",
       "      <td>0.00</td>\n",
       "      <td>0.00</td>\n",
       "      <td>0.0</td>\n",
       "      <td>0.00</td>\n",
       "    </tr>\n",
       "    <tr>\n",
       "      <th>201712</th>\n",
       "      <td>5557</td>\n",
       "      <td>NaN</td>\n",
       "      <td>NaN</td>\n",
       "      <td>NaN</td>\n",
       "      <td>NaN</td>\n",
       "      <td>NaN</td>\n",
       "      <td>NaN</td>\n",
       "      <td>NaN</td>\n",
       "      <td>NaN</td>\n",
       "      <td>NaN</td>\n",
       "      <td>NaN</td>\n",
       "      <td>1.00</td>\n",
       "      <td>0.0</td>\n",
       "      <td>0.0</td>\n",
       "      <td>0.0</td>\n",
       "      <td>0.0</td>\n",
       "      <td>0.00</td>\n",
       "      <td>0.00</td>\n",
       "      <td>0.0</td>\n",
       "      <td>0.00</td>\n",
       "    </tr>\n",
       "    <tr>\n",
       "      <th>201801</th>\n",
       "      <td>7120</td>\n",
       "      <td>NaN</td>\n",
       "      <td>NaN</td>\n",
       "      <td>NaN</td>\n",
       "      <td>NaN</td>\n",
       "      <td>NaN</td>\n",
       "      <td>NaN</td>\n",
       "      <td>NaN</td>\n",
       "      <td>NaN</td>\n",
       "      <td>NaN</td>\n",
       "      <td>NaN</td>\n",
       "      <td>NaN</td>\n",
       "      <td>1.0</td>\n",
       "      <td>0.0</td>\n",
       "      <td>0.0</td>\n",
       "      <td>0.0</td>\n",
       "      <td>0.00</td>\n",
       "      <td>0.00</td>\n",
       "      <td>0.0</td>\n",
       "      <td>0.00</td>\n",
       "    </tr>\n",
       "    <tr>\n",
       "      <th>201802</th>\n",
       "      <td>6537</td>\n",
       "      <td>NaN</td>\n",
       "      <td>NaN</td>\n",
       "      <td>NaN</td>\n",
       "      <td>NaN</td>\n",
       "      <td>NaN</td>\n",
       "      <td>NaN</td>\n",
       "      <td>NaN</td>\n",
       "      <td>NaN</td>\n",
       "      <td>NaN</td>\n",
       "      <td>NaN</td>\n",
       "      <td>NaN</td>\n",
       "      <td>NaN</td>\n",
       "      <td>1.0</td>\n",
       "      <td>0.0</td>\n",
       "      <td>0.0</td>\n",
       "      <td>0.00</td>\n",
       "      <td>0.00</td>\n",
       "      <td>0.0</td>\n",
       "      <td>0.00</td>\n",
       "    </tr>\n",
       "    <tr>\n",
       "      <th>201803</th>\n",
       "      <td>7096</td>\n",
       "      <td>NaN</td>\n",
       "      <td>NaN</td>\n",
       "      <td>NaN</td>\n",
       "      <td>NaN</td>\n",
       "      <td>NaN</td>\n",
       "      <td>NaN</td>\n",
       "      <td>NaN</td>\n",
       "      <td>NaN</td>\n",
       "      <td>NaN</td>\n",
       "      <td>NaN</td>\n",
       "      <td>NaN</td>\n",
       "      <td>NaN</td>\n",
       "      <td>NaN</td>\n",
       "      <td>1.0</td>\n",
       "      <td>0.0</td>\n",
       "      <td>0.00</td>\n",
       "      <td>0.00</td>\n",
       "      <td>0.0</td>\n",
       "      <td>0.00</td>\n",
       "    </tr>\n",
       "    <tr>\n",
       "      <th>201804</th>\n",
       "      <td>6878</td>\n",
       "      <td>NaN</td>\n",
       "      <td>NaN</td>\n",
       "      <td>NaN</td>\n",
       "      <td>NaN</td>\n",
       "      <td>NaN</td>\n",
       "      <td>NaN</td>\n",
       "      <td>NaN</td>\n",
       "      <td>NaN</td>\n",
       "      <td>NaN</td>\n",
       "      <td>NaN</td>\n",
       "      <td>NaN</td>\n",
       "      <td>NaN</td>\n",
       "      <td>NaN</td>\n",
       "      <td>NaN</td>\n",
       "      <td>1.0</td>\n",
       "      <td>0.01</td>\n",
       "      <td>0.00</td>\n",
       "      <td>0.0</td>\n",
       "      <td>0.00</td>\n",
       "    </tr>\n",
       "    <tr>\n",
       "      <th>201805</th>\n",
       "      <td>6795</td>\n",
       "      <td>NaN</td>\n",
       "      <td>NaN</td>\n",
       "      <td>NaN</td>\n",
       "      <td>NaN</td>\n",
       "      <td>NaN</td>\n",
       "      <td>NaN</td>\n",
       "      <td>NaN</td>\n",
       "      <td>NaN</td>\n",
       "      <td>NaN</td>\n",
       "      <td>NaN</td>\n",
       "      <td>NaN</td>\n",
       "      <td>NaN</td>\n",
       "      <td>NaN</td>\n",
       "      <td>NaN</td>\n",
       "      <td>NaN</td>\n",
       "      <td>1.00</td>\n",
       "      <td>0.01</td>\n",
       "      <td>0.0</td>\n",
       "      <td>0.00</td>\n",
       "    </tr>\n",
       "    <tr>\n",
       "      <th>201806</th>\n",
       "      <td>6121</td>\n",
       "      <td>NaN</td>\n",
       "      <td>NaN</td>\n",
       "      <td>NaN</td>\n",
       "      <td>NaN</td>\n",
       "      <td>NaN</td>\n",
       "      <td>NaN</td>\n",
       "      <td>NaN</td>\n",
       "      <td>NaN</td>\n",
       "      <td>NaN</td>\n",
       "      <td>NaN</td>\n",
       "      <td>NaN</td>\n",
       "      <td>NaN</td>\n",
       "      <td>NaN</td>\n",
       "      <td>NaN</td>\n",
       "      <td>NaN</td>\n",
       "      <td>NaN</td>\n",
       "      <td>1.00</td>\n",
       "      <td>0.0</td>\n",
       "      <td>0.00</td>\n",
       "    </tr>\n",
       "    <tr>\n",
       "      <th>201807</th>\n",
       "      <td>6211</td>\n",
       "      <td>NaN</td>\n",
       "      <td>NaN</td>\n",
       "      <td>NaN</td>\n",
       "      <td>NaN</td>\n",
       "      <td>NaN</td>\n",
       "      <td>NaN</td>\n",
       "      <td>NaN</td>\n",
       "      <td>NaN</td>\n",
       "      <td>NaN</td>\n",
       "      <td>NaN</td>\n",
       "      <td>NaN</td>\n",
       "      <td>NaN</td>\n",
       "      <td>NaN</td>\n",
       "      <td>NaN</td>\n",
       "      <td>NaN</td>\n",
       "      <td>NaN</td>\n",
       "      <td>NaN</td>\n",
       "      <td>1.0</td>\n",
       "      <td>0.01</td>\n",
       "    </tr>\n",
       "    <tr>\n",
       "      <th>201808</th>\n",
       "      <td>6411</td>\n",
       "      <td>NaN</td>\n",
       "      <td>NaN</td>\n",
       "      <td>NaN</td>\n",
       "      <td>NaN</td>\n",
       "      <td>NaN</td>\n",
       "      <td>NaN</td>\n",
       "      <td>NaN</td>\n",
       "      <td>NaN</td>\n",
       "      <td>NaN</td>\n",
       "      <td>NaN</td>\n",
       "      <td>NaN</td>\n",
       "      <td>NaN</td>\n",
       "      <td>NaN</td>\n",
       "      <td>NaN</td>\n",
       "      <td>NaN</td>\n",
       "      <td>NaN</td>\n",
       "      <td>NaN</td>\n",
       "      <td>NaN</td>\n",
       "      <td>1.00</td>\n",
       "    </tr>\n",
       "  </tbody>\n",
       "</table>\n",
       "</div>"
      ],
      "text/plain": [
       "              TotalUserCount  201702  201703  201704  201705  201706  201707  \\\n",
       "YearMonthInt                                                                   \n",
       "201702                  1708     1.0     0.0     0.0    0.00     0.0    0.00   \n",
       "201703                  2601     NaN     1.0     0.0    0.00     0.0    0.00   \n",
       "201704                  2359     NaN     NaN     1.0    0.01     0.0    0.00   \n",
       "201705                  3588     NaN     NaN     NaN    1.00     0.0    0.00   \n",
       "201706                  3154     NaN     NaN     NaN     NaN     1.0    0.01   \n",
       "201707                  3894     NaN     NaN     NaN     NaN     NaN    1.00   \n",
       "201708                  4211     NaN     NaN     NaN     NaN     NaN     NaN   \n",
       "201709                  4170     NaN     NaN     NaN     NaN     NaN     NaN   \n",
       "201710                  4501     NaN     NaN     NaN     NaN     NaN     NaN   \n",
       "201711                  7342     NaN     NaN     NaN     NaN     NaN     NaN   \n",
       "201712                  5557     NaN     NaN     NaN     NaN     NaN     NaN   \n",
       "201801                  7120     NaN     NaN     NaN     NaN     NaN     NaN   \n",
       "201802                  6537     NaN     NaN     NaN     NaN     NaN     NaN   \n",
       "201803                  7096     NaN     NaN     NaN     NaN     NaN     NaN   \n",
       "201804                  6878     NaN     NaN     NaN     NaN     NaN     NaN   \n",
       "201805                  6795     NaN     NaN     NaN     NaN     NaN     NaN   \n",
       "201806                  6121     NaN     NaN     NaN     NaN     NaN     NaN   \n",
       "201807                  6211     NaN     NaN     NaN     NaN     NaN     NaN   \n",
       "201808                  6411     NaN     NaN     NaN     NaN     NaN     NaN   \n",
       "\n",
       "              201708  201709  201710  201711  201712  201801  201802  201803  \\\n",
       "YearMonthInt                                                                   \n",
       "201702          0.00    0.00    0.00    0.00    0.00     0.0     0.0     0.0   \n",
       "201703          0.00    0.00    0.00    0.00    0.00     0.0     0.0     0.0   \n",
       "201704          0.00    0.00    0.00    0.00    0.00     0.0     0.0     0.0   \n",
       "201705          0.00    0.00    0.00    0.00    0.00     0.0     0.0     0.0   \n",
       "201706          0.00    0.00    0.00    0.00    0.00     0.0     0.0     0.0   \n",
       "201707          0.01    0.00    0.00    0.00    0.00     0.0     0.0     0.0   \n",
       "201708          1.00    0.01    0.00    0.00    0.00     0.0     0.0     0.0   \n",
       "201709           NaN    1.00    0.01    0.00    0.00     0.0     0.0     0.0   \n",
       "201710           NaN     NaN    1.00    0.01    0.00     0.0     0.0     0.0   \n",
       "201711           NaN     NaN     NaN    1.00    0.01     0.0     0.0     0.0   \n",
       "201712           NaN     NaN     NaN     NaN    1.00     0.0     0.0     0.0   \n",
       "201801           NaN     NaN     NaN     NaN     NaN     1.0     0.0     0.0   \n",
       "201802           NaN     NaN     NaN     NaN     NaN     NaN     1.0     0.0   \n",
       "201803           NaN     NaN     NaN     NaN     NaN     NaN     NaN     1.0   \n",
       "201804           NaN     NaN     NaN     NaN     NaN     NaN     NaN     NaN   \n",
       "201805           NaN     NaN     NaN     NaN     NaN     NaN     NaN     NaN   \n",
       "201806           NaN     NaN     NaN     NaN     NaN     NaN     NaN     NaN   \n",
       "201807           NaN     NaN     NaN     NaN     NaN     NaN     NaN     NaN   \n",
       "201808           NaN     NaN     NaN     NaN     NaN     NaN     NaN     NaN   \n",
       "\n",
       "              201804  201805  201806  201807  201808  \n",
       "YearMonthInt                                          \n",
       "201702           0.0    0.00    0.00     0.0    0.00  \n",
       "201703           0.0    0.00    0.00     0.0    0.00  \n",
       "201704           0.0    0.00    0.00     0.0    0.00  \n",
       "201705           0.0    0.00    0.00     0.0    0.00  \n",
       "201706           0.0    0.00    0.00     0.0    0.00  \n",
       "201707           0.0    0.00    0.00     0.0    0.00  \n",
       "201708           0.0    0.00    0.00     0.0    0.00  \n",
       "201709           0.0    0.00    0.00     0.0    0.00  \n",
       "201710           0.0    0.00    0.00     0.0    0.00  \n",
       "201711           0.0    0.00    0.00     0.0    0.00  \n",
       "201712           0.0    0.00    0.00     0.0    0.00  \n",
       "201801           0.0    0.00    0.00     0.0    0.00  \n",
       "201802           0.0    0.00    0.00     0.0    0.00  \n",
       "201803           0.0    0.00    0.00     0.0    0.00  \n",
       "201804           1.0    0.01    0.00     0.0    0.00  \n",
       "201805           NaN    1.00    0.01     0.0    0.00  \n",
       "201806           NaN     NaN    1.00     0.0    0.00  \n",
       "201807           NaN     NaN     NaN     1.0    0.01  \n",
       "201808           NaN     NaN     NaN     NaN    1.00  "
      ]
     },
     "execution_count": 35,
     "metadata": {},
     "output_type": "execute_result"
    }
   ],
   "source": [
    "#create the array of Retained users for each cohort monthly\n",
    "retention_array = []\n",
    "for i in range(len(months)):\n",
    "    retention_data = {}\n",
    "    selected_month = months[i]\n",
    "    prev_months = months[:i]\n",
    "    next_months = months[i+1:]\n",
    "    for prev_month in prev_months:\n",
    "        retention_data[prev_month] = np.nan\n",
    "        \n",
    "    total_user_count =  retention_data['TotalUserCount'] = df_retention['m_' + str(selected_month)].sum()\n",
    "    retention_data[selected_month] = 1 \n",
    "    \n",
    "    query = \"{} > 0\".format('m_' + str(selected_month))\n",
    "    \n",
    "\n",
    "    for next_month in next_months:\n",
    "        query = query + \" and {} > 0\".format(str('m_' + str(next_month)))\n",
    "        retention_data[next_month] = np.round(df_retention.query(query)['m_' + str(next_month)].sum()/total_user_count,2)\n",
    "    retention_array.append(retention_data)\n",
    "    \n",
    "df_retention = pd.DataFrame(retention_array)\n",
    "df_retention.index = months\n",
    "\n",
    "#showing new cohort based retention table\n",
    "df_retention"
   ]
  },
  {
   "cell_type": "markdown",
   "metadata": {
    "id": "e9185161"
   },
   "source": [
    "Note that the retention rate is basically zero. This is more visible from the count of orders from CustomerUniqueID"
   ]
  },
  {
   "cell_type": "code",
   "execution_count": 36,
   "metadata": {
    "colab": {
     "base_uri": "https://localhost:8080/"
    },
    "id": "1da5fbe1",
    "outputId": "395d276d-46b3-4a2d-8e57-897f021fe279"
   },
   "outputs": [
    {
     "data": {
      "text/plain": [
       "1     89527\n",
       "2      4843\n",
       "3       511\n",
       "4       130\n",
       "5        32\n",
       "6        27\n",
       "7        13\n",
       "11        7\n",
       "8         7\n",
       "9         6\n",
       "10        5\n",
       "12        4\n",
       "14        2\n",
       "17        2\n",
       "23        1\n",
       "16        1\n",
       "19        1\n",
       "22        1\n",
       "25        1\n",
       "Name: CustomerUniqueID, dtype: int64"
      ]
     },
     "execution_count": 36,
     "metadata": {},
     "output_type": "execute_result"
    }
   ],
   "source": [
    "count = df[\"CustomerUniqueID\"].value_counts().value_counts()\n",
    "count"
   ]
  },
  {
   "cell_type": "code",
   "execution_count": 37,
   "metadata": {
    "colab": {
     "base_uri": "https://localhost:8080/"
    },
    "id": "jKsXaRFODvd0",
    "outputId": "52a7d430-582a-468d-fbe8-63078926870a"
   },
   "outputs": [
    {
     "data": {
      "text/plain": [
       "0.9411906939582216"
      ]
     },
     "execution_count": 37,
     "metadata": {},
     "output_type": "execute_result"
    }
   ],
   "source": [
    "89527/95121"
   ]
  },
  {
   "cell_type": "markdown",
   "metadata": {
    "id": "VZX5ULdWDvyD"
   },
   "source": [
    "94% of all customers on the platform have only made one transaction. Thus the retention rates are basically 0 almost everywhere."
   ]
  },
  {
   "cell_type": "code",
   "execution_count": 38,
   "metadata": {
    "colab": {
     "base_uri": "https://localhost:8080/",
     "height": 206
    },
    "id": "WoLn-1BBExBO",
    "outputId": "f2797fa4-e3ac-4a12-f1cf-d95dacdc319c"
   },
   "outputs": [
    {
     "data": {
      "text/html": [
       "<div>\n",
       "<style scoped>\n",
       "    .dataframe tbody tr th:only-of-type {\n",
       "        vertical-align: middle;\n",
       "    }\n",
       "\n",
       "    .dataframe tbody tr th {\n",
       "        vertical-align: top;\n",
       "    }\n",
       "\n",
       "    .dataframe thead th {\n",
       "        text-align: right;\n",
       "    }\n",
       "</style>\n",
       "<table border=\"1\" class=\"dataframe\">\n",
       "  <thead>\n",
       "    <tr style=\"text-align: right;\">\n",
       "      <th></th>\n",
       "      <th>OrderID</th>\n",
       "      <th>CustomerUniqueID</th>\n",
       "      <th>CustomerID</th>\n",
       "      <th>PurchaseTime</th>\n",
       "      <th>OrderStatus</th>\n",
       "      <th>PaymentValue</th>\n",
       "      <th>YearMonth</th>\n",
       "      <th>MinPurchaseDate</th>\n",
       "      <th>UserType</th>\n",
       "      <th>YearMonthInt</th>\n",
       "    </tr>\n",
       "  </thead>\n",
       "  <tbody>\n",
       "    <tr>\n",
       "      <th>0</th>\n",
       "      <td>b81ef226f3fe1789b1e8b2acac839d17</td>\n",
       "      <td>708ab75d2a007f0564aedd11139c7708</td>\n",
       "      <td>0a8556ac6be836b46b3e89920d59291c</td>\n",
       "      <td>2018-04-25 22:01:49</td>\n",
       "      <td>delivered</td>\n",
       "      <td>99.33</td>\n",
       "      <td>2018-04</td>\n",
       "      <td>201804</td>\n",
       "      <td>New</td>\n",
       "      <td>201804</td>\n",
       "    </tr>\n",
       "    <tr>\n",
       "      <th>1</th>\n",
       "      <td>a9810da82917af2d9aefd1278f1dcfa0</td>\n",
       "      <td>a8b9d3a27068454b1c98cc67d4e31e6f</td>\n",
       "      <td>f2c7fc58a9de810828715166c672f10a</td>\n",
       "      <td>2018-06-26 11:01:38</td>\n",
       "      <td>delivered</td>\n",
       "      <td>24.39</td>\n",
       "      <td>2018-06</td>\n",
       "      <td>201806</td>\n",
       "      <td>New</td>\n",
       "      <td>201806</td>\n",
       "    </tr>\n",
       "    <tr>\n",
       "      <th>2</th>\n",
       "      <td>25e8ea4e93396b6fa0d3dd708e76c1bd</td>\n",
       "      <td>6f70c0b2f7552832ba46eb57b1c5651e</td>\n",
       "      <td>25b14b69de0b6e184ae6fe2755e478f9</td>\n",
       "      <td>2017-12-12 11:19:55</td>\n",
       "      <td>delivered</td>\n",
       "      <td>65.71</td>\n",
       "      <td>2017-12</td>\n",
       "      <td>201712</td>\n",
       "      <td>New</td>\n",
       "      <td>201712</td>\n",
       "    </tr>\n",
       "    <tr>\n",
       "      <th>3</th>\n",
       "      <td>ba78997921bbcdc1373bb41e913ab953</td>\n",
       "      <td>87695ed086ebd36f20404c82d20fca87</td>\n",
       "      <td>7a5d8efaaa1081f800628c30d2b0728f</td>\n",
       "      <td>2017-12-06 12:04:06</td>\n",
       "      <td>delivered</td>\n",
       "      <td>107.78</td>\n",
       "      <td>2017-12</td>\n",
       "      <td>201712</td>\n",
       "      <td>New</td>\n",
       "      <td>201712</td>\n",
       "    </tr>\n",
       "    <tr>\n",
       "      <th>4</th>\n",
       "      <td>42fdf880ba16b47b59251dd489d4441a</td>\n",
       "      <td>4291db0da71914754618cd789aebcd56</td>\n",
       "      <td>15fd6fb8f8312dbb4674e4518d6fa3b3</td>\n",
       "      <td>2018-05-21 13:59:17</td>\n",
       "      <td>delivered</td>\n",
       "      <td>128.45</td>\n",
       "      <td>2018-05</td>\n",
       "      <td>201805</td>\n",
       "      <td>New</td>\n",
       "      <td>201805</td>\n",
       "    </tr>\n",
       "  </tbody>\n",
       "</table>\n",
       "</div>"
      ],
      "text/plain": [
       "                            OrderID                  CustomerUniqueID  \\\n",
       "0  b81ef226f3fe1789b1e8b2acac839d17  708ab75d2a007f0564aedd11139c7708   \n",
       "1  a9810da82917af2d9aefd1278f1dcfa0  a8b9d3a27068454b1c98cc67d4e31e6f   \n",
       "2  25e8ea4e93396b6fa0d3dd708e76c1bd  6f70c0b2f7552832ba46eb57b1c5651e   \n",
       "3  ba78997921bbcdc1373bb41e913ab953  87695ed086ebd36f20404c82d20fca87   \n",
       "4  42fdf880ba16b47b59251dd489d4441a  4291db0da71914754618cd789aebcd56   \n",
       "\n",
       "                         CustomerID        PurchaseTime OrderStatus  \\\n",
       "0  0a8556ac6be836b46b3e89920d59291c 2018-04-25 22:01:49   delivered   \n",
       "1  f2c7fc58a9de810828715166c672f10a 2018-06-26 11:01:38   delivered   \n",
       "2  25b14b69de0b6e184ae6fe2755e478f9 2017-12-12 11:19:55   delivered   \n",
       "3  7a5d8efaaa1081f800628c30d2b0728f 2017-12-06 12:04:06   delivered   \n",
       "4  15fd6fb8f8312dbb4674e4518d6fa3b3 2018-05-21 13:59:17   delivered   \n",
       "\n",
       "   PaymentValue YearMonth  MinPurchaseDate UserType  YearMonthInt  \n",
       "0         99.33   2018-04           201804      New        201804  \n",
       "1         24.39   2018-06           201806      New        201806  \n",
       "2         65.71   2017-12           201712      New        201712  \n",
       "3        107.78   2017-12           201712      New        201712  \n",
       "4        128.45   2018-05           201805      New        201805  "
      ]
     },
     "execution_count": 38,
     "metadata": {},
     "output_type": "execute_result"
    }
   ],
   "source": [
    "# final dataframe before applying segmentation\n",
    "df.head()"
   ]
  },
  {
   "cell_type": "markdown",
   "metadata": {
    "id": "SsMFAKv4Kkug"
   },
   "source": [
    "# 2 - Customer Segmentation"
   ]
  },
  {
   "cell_type": "markdown",
   "metadata": {
    "id": "1IB9Bo8-btOu"
   },
   "source": [
    "Customers who shop on Olist have different needs and they have their own different profile. We should adapt our actions depending on that.\n",
    "\n",
    "RFM stands for Recency - Frequency - Monetary Value, I will be using this metrics to segment customers. Theoretically we will have segments like below:\n",
    "Low Value: Customers who are less active than others, not very frequent buyer/visitor and generates very low - zero - maybe negative revenue.\n",
    "Mid Value: In the middle of everything. Often using our platform (but not as much as our High Values), fairly frequent and generates moderate revenue.\n",
    "High Value: The group we don’t want to lose. High Revenue, Frequency and low Inactivity."
   ]
  },
  {
   "cell_type": "markdown",
   "metadata": {
    "id": "m0G4ky-db1IH"
   },
   "source": [
    "## Recency\n",
    "\n",
    "To calculate recency, we need to find out most recent purchase date of each customer and see for how many days they are inactive. After having no. of inactive days for each customer, we will apply K-means* clustering to assign customers a recency score."
   ]
  },
  {
   "cell_type": "code",
   "execution_count": 39,
   "metadata": {
    "colab": {
     "base_uri": "https://localhost:8080/",
     "height": 206
    },
    "id": "g1eRGDNMKm9m",
    "outputId": "e832961c-ae51-440e-efdd-bd380f282de1"
   },
   "outputs": [
    {
     "data": {
      "text/html": [
       "<div>\n",
       "<style scoped>\n",
       "    .dataframe tbody tr th:only-of-type {\n",
       "        vertical-align: middle;\n",
       "    }\n",
       "\n",
       "    .dataframe tbody tr th {\n",
       "        vertical-align: top;\n",
       "    }\n",
       "\n",
       "    .dataframe thead th {\n",
       "        text-align: right;\n",
       "    }\n",
       "</style>\n",
       "<table border=\"1\" class=\"dataframe\">\n",
       "  <thead>\n",
       "    <tr style=\"text-align: right;\">\n",
       "      <th></th>\n",
       "      <th>customer_unique_id</th>\n",
       "      <th>Recency</th>\n",
       "    </tr>\n",
       "  </thead>\n",
       "  <tbody>\n",
       "    <tr>\n",
       "      <th>0</th>\n",
       "      <td>708ab75d2a007f0564aedd11139c7708</td>\n",
       "      <td>125</td>\n",
       "    </tr>\n",
       "    <tr>\n",
       "      <th>1</th>\n",
       "      <td>a8b9d3a27068454b1c98cc67d4e31e6f</td>\n",
       "      <td>64</td>\n",
       "    </tr>\n",
       "    <tr>\n",
       "      <th>2</th>\n",
       "      <td>6f70c0b2f7552832ba46eb57b1c5651e</td>\n",
       "      <td>260</td>\n",
       "    </tr>\n",
       "    <tr>\n",
       "      <th>3</th>\n",
       "      <td>87695ed086ebd36f20404c82d20fca87</td>\n",
       "      <td>266</td>\n",
       "    </tr>\n",
       "    <tr>\n",
       "      <th>4</th>\n",
       "      <td>4291db0da71914754618cd789aebcd56</td>\n",
       "      <td>28</td>\n",
       "    </tr>\n",
       "  </tbody>\n",
       "</table>\n",
       "</div>"
      ],
      "text/plain": [
       "                 customer_unique_id  Recency\n",
       "0  708ab75d2a007f0564aedd11139c7708      125\n",
       "1  a8b9d3a27068454b1c98cc67d4e31e6f       64\n",
       "2  6f70c0b2f7552832ba46eb57b1c5651e      260\n",
       "3  87695ed086ebd36f20404c82d20fca87      266\n",
       "4  4291db0da71914754618cd789aebcd56       28"
      ]
     },
     "execution_count": 39,
     "metadata": {},
     "output_type": "execute_result"
    }
   ],
   "source": [
    "#creates a generic user dataframe to keep CustomerID and new segmentation scores\n",
    "df_user = pd.DataFrame(df['CustomerUniqueID'])\n",
    "df_user.columns = ['customer_unique_id']\n",
    "\n",
    "#gets the max purchase date for each customer and create a dataframe with it\n",
    "df_max_purchase = df.groupby('CustomerUniqueID').PurchaseTime.max().reset_index()\n",
    "df_max_purchase.columns = ['customer_unique_id', 'MaxPurchaseDate']\n",
    "\n",
    "#we take our observation point as the max purchase date in our dataset\n",
    "df_max_purchase['Recency'] = (df_max_purchase['MaxPurchaseDate'].max() - df_max_purchase['MaxPurchaseDate']).dt.days\n",
    "\n",
    "#merge this dataframe to our new user dataframe\n",
    "df_user = pd.merge(df_user, df_max_purchase[['customer_unique_id','Recency']], on='customer_unique_id')\n",
    "\n",
    "df_user.head()"
   ]
  },
  {
   "cell_type": "code",
   "execution_count": 40,
   "metadata": {
    "colab": {
     "base_uri": "https://localhost:8080/"
    },
    "id": "hZQbXiU4djpK",
    "outputId": "f28a92c5-190f-4c12-af19-969942128d2e"
   },
   "outputs": [
    {
     "data": {
      "text/plain": [
       "count    102131.000000\n",
       "mean        237.107156\n",
       "std         151.467282\n",
       "min           0.000000\n",
       "25%         114.000000\n",
       "50%         218.000000\n",
       "75%         347.000000\n",
       "max         601.000000\n",
       "Name: Recency, dtype: float64"
      ]
     },
     "execution_count": 40,
     "metadata": {},
     "output_type": "execute_result"
    }
   ],
   "source": [
    "# getting summary statistics of the recency table\n",
    "df_user.Recency.describe()"
   ]
  },
  {
   "cell_type": "code",
   "execution_count": 41,
   "metadata": {
    "colab": {
     "base_uri": "https://localhost:8080/",
     "height": 394
    },
    "id": "jjtDbD32djy-",
    "outputId": "7054a805-0e0f-4bbf-e42b-7166c7d7317c"
   },
   "outputs": [
    {
     "data": {
      "image/png": "[encoded data removed]",
      "text/plain": [
       "<Figure size 864x432 with 1 Axes>"
      ]
     },
     "metadata": {},
     "output_type": "display_data"
    }
   ],
   "source": [
    "# plotting the distribution of the continous feature set\n",
    "sns.set(palette='muted', color_codes=True, style='white')\n",
    "fig, ax = plt.subplots(figsize=(12, 6))\n",
    "sns.despine(left=True)\n",
    "sns.distplot(df_user['Recency'], bins=30)\n",
    "plt.show()"
   ]
  },
  {
   "cell_type": "markdown",
   "metadata": {
    "id": "N0ESta5Qd2kb"
   },
   "source": [
    "I will be applying K-means clustering to assign a recency score to each customer. But there is need to tell how many clusters i need to K-means algorithm. To find this out, I will apply Elbow Method. Elbow Method simply tells the optimal cluster number for optimal inertia."
   ]
  },
  {
   "cell_type": "code",
   "execution_count": 42,
   "metadata": {
    "colab": {
     "base_uri": "https://localhost:8080/",
     "height": 350
    },
    "id": "XqO3wPSMdj1b",
    "outputId": "3a101b77-ba30-434e-91a0-23499e444eb3"
   },
   "outputs": [
    {
     "ename": "AttributeError",
     "evalue": "'NoneType' object has no attribute 'split'",
     "output_type": "error",
     "traceback": [
      "\u001b[1;31m---------------------------------------------------------------------------\u001b[0m",
      "\u001b[1;31mAttributeError\u001b[0m                            Traceback (most recent call last)",
      "\u001b[1;32m<ipython-input-42-0e0fd942be4d>\u001b[0m in \u001b[0;36m<module>\u001b[1;34m\u001b[0m\n\u001b[0;32m      4\u001b[0m \u001b[0mdf_recency\u001b[0m \u001b[1;33m=\u001b[0m \u001b[0mdf_user\u001b[0m\u001b[1;33m[\u001b[0m\u001b[1;33m[\u001b[0m\u001b[1;34m'Recency'\u001b[0m\u001b[1;33m]\u001b[0m\u001b[1;33m]\u001b[0m\u001b[1;33m\u001b[0m\u001b[1;33m\u001b[0m\u001b[0m\n\u001b[0;32m      5\u001b[0m \u001b[1;32mfor\u001b[0m \u001b[0mk\u001b[0m \u001b[1;32min\u001b[0m \u001b[0mrange\u001b[0m\u001b[1;33m(\u001b[0m\u001b[1;36m1\u001b[0m\u001b[1;33m,\u001b[0m \u001b[1;36m10\u001b[0m\u001b[1;33m)\u001b[0m\u001b[1;33m:\u001b[0m\u001b[1;33m\u001b[0m\u001b[1;33m\u001b[0m\u001b[0m\n\u001b[1;32m----> 6\u001b[1;33m     \u001b[0mkmeans\u001b[0m \u001b[1;33m=\u001b[0m \u001b[0mKMeans\u001b[0m\u001b[1;33m(\u001b[0m\u001b[0mn_clusters\u001b[0m\u001b[1;33m=\u001b[0m\u001b[0mk\u001b[0m\u001b[1;33m,\u001b[0m \u001b[0mmax_iter\u001b[0m\u001b[1;33m=\u001b[0m\u001b[1;36m1000\u001b[0m\u001b[1;33m)\u001b[0m\u001b[1;33m.\u001b[0m\u001b[0mfit\u001b[0m\u001b[1;33m(\u001b[0m\u001b[0mdf_recency\u001b[0m\u001b[1;33m)\u001b[0m\u001b[1;33m\u001b[0m\u001b[1;33m\u001b[0m\u001b[0m\n\u001b[0m\u001b[0;32m      7\u001b[0m     \u001b[0mdf_recency\u001b[0m\u001b[1;33m[\u001b[0m\u001b[1;34m\"clusters\"\u001b[0m\u001b[1;33m]\u001b[0m \u001b[1;33m=\u001b[0m \u001b[0mkmeans\u001b[0m\u001b[1;33m.\u001b[0m\u001b[0mlabels_\u001b[0m\u001b[1;33m\u001b[0m\u001b[1;33m\u001b[0m\u001b[0m\n\u001b[0;32m      8\u001b[0m     \u001b[0msse\u001b[0m\u001b[1;33m[\u001b[0m\u001b[0mk\u001b[0m\u001b[1;33m]\u001b[0m \u001b[1;33m=\u001b[0m \u001b[0mkmeans\u001b[0m\u001b[1;33m.\u001b[0m\u001b[0minertia_\u001b[0m\u001b[1;33m\u001b[0m\u001b[1;33m\u001b[0m\u001b[0m\n",
      "\u001b[1;32m~\\anaconda3\\lib\\site-packages\\sklearn\\cluster\\_kmeans.py\u001b[0m in \u001b[0;36mfit\u001b[1;34m(self, X, y, sample_weight)\u001b[0m\n\u001b[0;32m   1184\u001b[0m \u001b[1;33m\u001b[0m\u001b[0m\n\u001b[0;32m   1185\u001b[0m             \u001b[1;31m# run a k-means once\u001b[0m\u001b[1;33m\u001b[0m\u001b[1;33m\u001b[0m\u001b[1;33m\u001b[0m\u001b[0m\n\u001b[1;32m-> 1186\u001b[1;33m             labels, inertia, centers, n_iter_ = kmeans_single(\n\u001b[0m\u001b[0;32m   1187\u001b[0m                 \u001b[0mX\u001b[0m\u001b[1;33m,\u001b[0m\u001b[1;33m\u001b[0m\u001b[1;33m\u001b[0m\u001b[0m\n\u001b[0;32m   1188\u001b[0m                 \u001b[0msample_weight\u001b[0m\u001b[1;33m,\u001b[0m\u001b[1;33m\u001b[0m\u001b[1;33m\u001b[0m\u001b[0m\n",
      "\u001b[1;32m~\\anaconda3\\lib\\site-packages\\sklearn\\cluster\\_kmeans.py\u001b[0m in \u001b[0;36m_kmeans_single_lloyd\u001b[1;34m(X, sample_weight, centers_init, max_iter, verbose, x_squared_norms, tol, n_threads)\u001b[0m\n\u001b[0;32m    623\u001b[0m     \u001b[1;31m# Threadpoolctl context to limit the number of threads in second level of\u001b[0m\u001b[1;33m\u001b[0m\u001b[1;33m\u001b[0m\u001b[1;33m\u001b[0m\u001b[0m\n\u001b[0;32m    624\u001b[0m     \u001b[1;31m# nested parallelism (i.e. BLAS) to avoid oversubsciption.\u001b[0m\u001b[1;33m\u001b[0m\u001b[1;33m\u001b[0m\u001b[1;33m\u001b[0m\u001b[0m\n\u001b[1;32m--> 625\u001b[1;33m     \u001b[1;32mwith\u001b[0m \u001b[0mthreadpool_limits\u001b[0m\u001b[1;33m(\u001b[0m\u001b[0mlimits\u001b[0m\u001b[1;33m=\u001b[0m\u001b[1;36m1\u001b[0m\u001b[1;33m,\u001b[0m \u001b[0muser_api\u001b[0m\u001b[1;33m=\u001b[0m\u001b[1;34m\"blas\"\u001b[0m\u001b[1;33m)\u001b[0m\u001b[1;33m:\u001b[0m\u001b[1;33m\u001b[0m\u001b[1;33m\u001b[0m\u001b[0m\n\u001b[0m\u001b[0;32m    626\u001b[0m         \u001b[1;32mfor\u001b[0m \u001b[0mi\u001b[0m \u001b[1;32min\u001b[0m \u001b[0mrange\u001b[0m\u001b[1;33m(\u001b[0m\u001b[0mmax_iter\u001b[0m\u001b[1;33m)\u001b[0m\u001b[1;33m:\u001b[0m\u001b[1;33m\u001b[0m\u001b[1;33m\u001b[0m\u001b[0m\n\u001b[0;32m    627\u001b[0m             lloyd_iter(\n",
      "\u001b[1;32m~\\anaconda3\\lib\\site-packages\\sklearn\\utils\\fixes.py\u001b[0m in \u001b[0;36mthreadpool_limits\u001b[1;34m(limits, user_api)\u001b[0m\n\u001b[0;32m    312\u001b[0m         \u001b[1;32mreturn\u001b[0m \u001b[0mcontroller\u001b[0m\u001b[1;33m.\u001b[0m\u001b[0mlimit\u001b[0m\u001b[1;33m(\u001b[0m\u001b[0mlimits\u001b[0m\u001b[1;33m=\u001b[0m\u001b[0mlimits\u001b[0m\u001b[1;33m,\u001b[0m \u001b[0muser_api\u001b[0m\u001b[1;33m=\u001b[0m\u001b[0muser_api\u001b[0m\u001b[1;33m)\u001b[0m\u001b[1;33m\u001b[0m\u001b[1;33m\u001b[0m\u001b[0m\n\u001b[0;32m    313\u001b[0m     \u001b[1;32melse\u001b[0m\u001b[1;33m:\u001b[0m\u001b[1;33m\u001b[0m\u001b[1;33m\u001b[0m\u001b[0m\n\u001b[1;32m--> 314\u001b[1;33m         \u001b[1;32mreturn\u001b[0m \u001b[0mthreadpoolctl\u001b[0m\u001b[1;33m.\u001b[0m\u001b[0mthreadpool_limits\u001b[0m\u001b[1;33m(\u001b[0m\u001b[0mlimits\u001b[0m\u001b[1;33m=\u001b[0m\u001b[0mlimits\u001b[0m\u001b[1;33m,\u001b[0m \u001b[0muser_api\u001b[0m\u001b[1;33m=\u001b[0m\u001b[0muser_api\u001b[0m\u001b[1;33m)\u001b[0m\u001b[1;33m\u001b[0m\u001b[1;33m\u001b[0m\u001b[0m\n\u001b[0m\u001b[0;32m    315\u001b[0m \u001b[1;33m\u001b[0m\u001b[0m\n\u001b[0;32m    316\u001b[0m \u001b[1;33m\u001b[0m\u001b[0m\n",
      "\u001b[1;32m~\\anaconda3\\lib\\site-packages\\threadpoolctl.py\u001b[0m in \u001b[0;36m__init__\u001b[1;34m(self, limits, user_api)\u001b[0m\n\u001b[0;32m    169\u001b[0m             \u001b[0mself\u001b[0m\u001b[1;33m.\u001b[0m\u001b[0m_check_params\u001b[0m\u001b[1;33m(\u001b[0m\u001b[0mlimits\u001b[0m\u001b[1;33m,\u001b[0m \u001b[0muser_api\u001b[0m\u001b[1;33m)\u001b[0m\u001b[1;33m\u001b[0m\u001b[1;33m\u001b[0m\u001b[0m\n\u001b[0;32m    170\u001b[0m \u001b[1;33m\u001b[0m\u001b[0m\n\u001b[1;32m--> 171\u001b[1;33m         \u001b[0mself\u001b[0m\u001b[1;33m.\u001b[0m\u001b[0m_original_info\u001b[0m \u001b[1;33m=\u001b[0m \u001b[0mself\u001b[0m\u001b[1;33m.\u001b[0m\u001b[0m_set_threadpool_limits\u001b[0m\u001b[1;33m(\u001b[0m\u001b[1;33m)\u001b[0m\u001b[1;33m\u001b[0m\u001b[1;33m\u001b[0m\u001b[0m\n\u001b[0m\u001b[0;32m    172\u001b[0m \u001b[1;33m\u001b[0m\u001b[0m\n\u001b[0;32m    173\u001b[0m     \u001b[1;32mdef\u001b[0m \u001b[0m__enter__\u001b[0m\u001b[1;33m(\u001b[0m\u001b[0mself\u001b[0m\u001b[1;33m)\u001b[0m\u001b[1;33m:\u001b[0m\u001b[1;33m\u001b[0m\u001b[1;33m\u001b[0m\u001b[0m\n",
      "\u001b[1;32m~\\anaconda3\\lib\\site-packages\\threadpoolctl.py\u001b[0m in \u001b[0;36m_set_threadpool_limits\u001b[1;34m(self)\u001b[0m\n\u001b[0;32m    266\u001b[0m             \u001b[1;32mreturn\u001b[0m \u001b[1;32mNone\u001b[0m\u001b[1;33m\u001b[0m\u001b[1;33m\u001b[0m\u001b[0m\n\u001b[0;32m    267\u001b[0m \u001b[1;33m\u001b[0m\u001b[0m\n\u001b[1;32m--> 268\u001b[1;33m         modules = _ThreadpoolInfo(prefixes=self._prefixes,\n\u001b[0m\u001b[0;32m    269\u001b[0m                                   user_api=self._user_api)\n\u001b[0;32m    270\u001b[0m         \u001b[1;32mfor\u001b[0m \u001b[0mmodule\u001b[0m \u001b[1;32min\u001b[0m \u001b[0mmodules\u001b[0m\u001b[1;33m:\u001b[0m\u001b[1;33m\u001b[0m\u001b[1;33m\u001b[0m\u001b[0m\n",
      "\u001b[1;32m~\\anaconda3\\lib\\site-packages\\threadpoolctl.py\u001b[0m in \u001b[0;36m__init__\u001b[1;34m(self, user_api, prefixes, modules)\u001b[0m\n\u001b[0;32m    338\u001b[0m \u001b[1;33m\u001b[0m\u001b[0m\n\u001b[0;32m    339\u001b[0m             \u001b[0mself\u001b[0m\u001b[1;33m.\u001b[0m\u001b[0mmodules\u001b[0m \u001b[1;33m=\u001b[0m \u001b[1;33m[\u001b[0m\u001b[1;33m]\u001b[0m\u001b[1;33m\u001b[0m\u001b[1;33m\u001b[0m\u001b[0m\n\u001b[1;32m--> 340\u001b[1;33m             \u001b[0mself\u001b[0m\u001b[1;33m.\u001b[0m\u001b[0m_load_modules\u001b[0m\u001b[1;33m(\u001b[0m\u001b[1;33m)\u001b[0m\u001b[1;33m\u001b[0m\u001b[1;33m\u001b[0m\u001b[0m\n\u001b[0m\u001b[0;32m    341\u001b[0m             \u001b[0mself\u001b[0m\u001b[1;33m.\u001b[0m\u001b[0m_warn_if_incompatible_openmp\u001b[0m\u001b[1;33m(\u001b[0m\u001b[1;33m)\u001b[0m\u001b[1;33m\u001b[0m\u001b[1;33m\u001b[0m\u001b[0m\n\u001b[0;32m    342\u001b[0m         \u001b[1;32melse\u001b[0m\u001b[1;33m:\u001b[0m\u001b[1;33m\u001b[0m\u001b[1;33m\u001b[0m\u001b[0m\n",
      "\u001b[1;32m~\\anaconda3\\lib\\site-packages\\threadpoolctl.py\u001b[0m in \u001b[0;36m_load_modules\u001b[1;34m(self)\u001b[0m\n\u001b[0;32m    371\u001b[0m             \u001b[0mself\u001b[0m\u001b[1;33m.\u001b[0m\u001b[0m_find_modules_with_dyld\u001b[0m\u001b[1;33m(\u001b[0m\u001b[1;33m)\u001b[0m\u001b[1;33m\u001b[0m\u001b[1;33m\u001b[0m\u001b[0m\n\u001b[0;32m    372\u001b[0m         \u001b[1;32melif\u001b[0m \u001b[0msys\u001b[0m\u001b[1;33m.\u001b[0m\u001b[0mplatform\u001b[0m \u001b[1;33m==\u001b[0m \u001b[1;34m\"win32\"\u001b[0m\u001b[1;33m:\u001b[0m\u001b[1;33m\u001b[0m\u001b[1;33m\u001b[0m\u001b[0m\n\u001b[1;32m--> 373\u001b[1;33m             \u001b[0mself\u001b[0m\u001b[1;33m.\u001b[0m\u001b[0m_find_modules_with_enum_process_module_ex\u001b[0m\u001b[1;33m(\u001b[0m\u001b[1;33m)\u001b[0m\u001b[1;33m\u001b[0m\u001b[1;33m\u001b[0m\u001b[0m\n\u001b[0m\u001b[0;32m    374\u001b[0m         \u001b[1;32melse\u001b[0m\u001b[1;33m:\u001b[0m\u001b[1;33m\u001b[0m\u001b[1;33m\u001b[0m\u001b[0m\n\u001b[0;32m    375\u001b[0m             \u001b[0mself\u001b[0m\u001b[1;33m.\u001b[0m\u001b[0m_find_modules_with_dl_iterate_phdr\u001b[0m\u001b[1;33m(\u001b[0m\u001b[1;33m)\u001b[0m\u001b[1;33m\u001b[0m\u001b[1;33m\u001b[0m\u001b[0m\n",
      "\u001b[1;32m~\\anaconda3\\lib\\site-packages\\threadpoolctl.py\u001b[0m in \u001b[0;36m_find_modules_with_enum_process_module_ex\u001b[1;34m(self)\u001b[0m\n\u001b[0;32m    483\u001b[0m \u001b[1;33m\u001b[0m\u001b[0m\n\u001b[0;32m    484\u001b[0m                 \u001b[1;31m# Store the module if it is supported and selected\u001b[0m\u001b[1;33m\u001b[0m\u001b[1;33m\u001b[0m\u001b[1;33m\u001b[0m\u001b[0m\n\u001b[1;32m--> 485\u001b[1;33m                 \u001b[0mself\u001b[0m\u001b[1;33m.\u001b[0m\u001b[0m_make_module_from_path\u001b[0m\u001b[1;33m(\u001b[0m\u001b[0mfilepath\u001b[0m\u001b[1;33m)\u001b[0m\u001b[1;33m\u001b[0m\u001b[1;33m\u001b[0m\u001b[0m\n\u001b[0m\u001b[0;32m    486\u001b[0m         \u001b[1;32mfinally\u001b[0m\u001b[1;33m:\u001b[0m\u001b[1;33m\u001b[0m\u001b[1;33m\u001b[0m\u001b[0m\n\u001b[0;32m    487\u001b[0m             \u001b[0mkernel_32\u001b[0m\u001b[1;33m.\u001b[0m\u001b[0mCloseHandle\u001b[0m\u001b[1;33m(\u001b[0m\u001b[0mh_process\u001b[0m\u001b[1;33m)\u001b[0m\u001b[1;33m\u001b[0m\u001b[1;33m\u001b[0m\u001b[0m\n",
      "\u001b[1;32m~\\anaconda3\\lib\\site-packages\\threadpoolctl.py\u001b[0m in \u001b[0;36m_make_module_from_path\u001b[1;34m(self, filepath)\u001b[0m\n\u001b[0;32m    513\u001b[0m             \u001b[1;32mif\u001b[0m \u001b[0mprefix\u001b[0m \u001b[1;32min\u001b[0m \u001b[0mself\u001b[0m\u001b[1;33m.\u001b[0m\u001b[0mprefixes\u001b[0m \u001b[1;32mor\u001b[0m \u001b[0muser_api\u001b[0m \u001b[1;32min\u001b[0m \u001b[0mself\u001b[0m\u001b[1;33m.\u001b[0m\u001b[0muser_api\u001b[0m\u001b[1;33m:\u001b[0m\u001b[1;33m\u001b[0m\u001b[1;33m\u001b[0m\u001b[0m\n\u001b[0;32m    514\u001b[0m                 \u001b[0mmodule_class\u001b[0m \u001b[1;33m=\u001b[0m \u001b[0mglobals\u001b[0m\u001b[1;33m(\u001b[0m\u001b[1;33m)\u001b[0m\u001b[1;33m[\u001b[0m\u001b[0mmodule_class\u001b[0m\u001b[1;33m]\u001b[0m\u001b[1;33m\u001b[0m\u001b[1;33m\u001b[0m\u001b[0m\n\u001b[1;32m--> 515\u001b[1;33m                 \u001b[0mmodule\u001b[0m \u001b[1;33m=\u001b[0m \u001b[0mmodule_class\u001b[0m\u001b[1;33m(\u001b[0m\u001b[0mfilepath\u001b[0m\u001b[1;33m,\u001b[0m \u001b[0mprefix\u001b[0m\u001b[1;33m,\u001b[0m \u001b[0muser_api\u001b[0m\u001b[1;33m,\u001b[0m \u001b[0minternal_api\u001b[0m\u001b[1;33m)\u001b[0m\u001b[1;33m\u001b[0m\u001b[1;33m\u001b[0m\u001b[0m\n\u001b[0m\u001b[0;32m    516\u001b[0m                 \u001b[0mself\u001b[0m\u001b[1;33m.\u001b[0m\u001b[0mmodules\u001b[0m\u001b[1;33m.\u001b[0m\u001b[0mappend\u001b[0m\u001b[1;33m(\u001b[0m\u001b[0mmodule\u001b[0m\u001b[1;33m)\u001b[0m\u001b[1;33m\u001b[0m\u001b[1;33m\u001b[0m\u001b[0m\n\u001b[0;32m    517\u001b[0m \u001b[1;33m\u001b[0m\u001b[0m\n",
      "\u001b[1;32m~\\anaconda3\\lib\\site-packages\\threadpoolctl.py\u001b[0m in \u001b[0;36m__init__\u001b[1;34m(self, filepath, prefix, user_api, internal_api)\u001b[0m\n\u001b[0;32m    604\u001b[0m         \u001b[0mself\u001b[0m\u001b[1;33m.\u001b[0m\u001b[0minternal_api\u001b[0m \u001b[1;33m=\u001b[0m \u001b[0minternal_api\u001b[0m\u001b[1;33m\u001b[0m\u001b[1;33m\u001b[0m\u001b[0m\n\u001b[0;32m    605\u001b[0m         \u001b[0mself\u001b[0m\u001b[1;33m.\u001b[0m\u001b[0m_dynlib\u001b[0m \u001b[1;33m=\u001b[0m \u001b[0mctypes\u001b[0m\u001b[1;33m.\u001b[0m\u001b[0mCDLL\u001b[0m\u001b[1;33m(\u001b[0m\u001b[0mfilepath\u001b[0m\u001b[1;33m,\u001b[0m \u001b[0mmode\u001b[0m\u001b[1;33m=\u001b[0m\u001b[0m_RTLD_NOLOAD\u001b[0m\u001b[1;33m)\u001b[0m\u001b[1;33m\u001b[0m\u001b[1;33m\u001b[0m\u001b[0m\n\u001b[1;32m--> 606\u001b[1;33m         \u001b[0mself\u001b[0m\u001b[1;33m.\u001b[0m\u001b[0mversion\u001b[0m \u001b[1;33m=\u001b[0m \u001b[0mself\u001b[0m\u001b[1;33m.\u001b[0m\u001b[0mget_version\u001b[0m\u001b[1;33m(\u001b[0m\u001b[1;33m)\u001b[0m\u001b[1;33m\u001b[0m\u001b[1;33m\u001b[0m\u001b[0m\n\u001b[0m\u001b[0;32m    607\u001b[0m         \u001b[0mself\u001b[0m\u001b[1;33m.\u001b[0m\u001b[0mnum_threads\u001b[0m \u001b[1;33m=\u001b[0m \u001b[0mself\u001b[0m\u001b[1;33m.\u001b[0m\u001b[0mget_num_threads\u001b[0m\u001b[1;33m(\u001b[0m\u001b[1;33m)\u001b[0m\u001b[1;33m\u001b[0m\u001b[1;33m\u001b[0m\u001b[0m\n\u001b[0;32m    608\u001b[0m         \u001b[0mself\u001b[0m\u001b[1;33m.\u001b[0m\u001b[0m_get_extra_info\u001b[0m\u001b[1;33m(\u001b[0m\u001b[1;33m)\u001b[0m\u001b[1;33m\u001b[0m\u001b[1;33m\u001b[0m\u001b[0m\n",
      "\u001b[1;32m~\\anaconda3\\lib\\site-packages\\threadpoolctl.py\u001b[0m in \u001b[0;36mget_version\u001b[1;34m(self)\u001b[0m\n\u001b[0;32m    644\u001b[0m                              lambda: None)\n\u001b[0;32m    645\u001b[0m         \u001b[0mget_config\u001b[0m\u001b[1;33m.\u001b[0m\u001b[0mrestype\u001b[0m \u001b[1;33m=\u001b[0m \u001b[0mctypes\u001b[0m\u001b[1;33m.\u001b[0m\u001b[0mc_char_p\u001b[0m\u001b[1;33m\u001b[0m\u001b[1;33m\u001b[0m\u001b[0m\n\u001b[1;32m--> 646\u001b[1;33m         \u001b[0mconfig\u001b[0m \u001b[1;33m=\u001b[0m \u001b[0mget_config\u001b[0m\u001b[1;33m(\u001b[0m\u001b[1;33m)\u001b[0m\u001b[1;33m.\u001b[0m\u001b[0msplit\u001b[0m\u001b[1;33m(\u001b[0m\u001b[1;33m)\u001b[0m\u001b[1;33m\u001b[0m\u001b[1;33m\u001b[0m\u001b[0m\n\u001b[0m\u001b[0;32m    647\u001b[0m         \u001b[1;32mif\u001b[0m \u001b[0mconfig\u001b[0m\u001b[1;33m[\u001b[0m\u001b[1;36m0\u001b[0m\u001b[1;33m]\u001b[0m \u001b[1;33m==\u001b[0m \u001b[1;34mb\"OpenBLAS\"\u001b[0m\u001b[1;33m:\u001b[0m\u001b[1;33m\u001b[0m\u001b[1;33m\u001b[0m\u001b[0m\n\u001b[0;32m    648\u001b[0m             \u001b[1;32mreturn\u001b[0m \u001b[0mconfig\u001b[0m\u001b[1;33m[\u001b[0m\u001b[1;36m1\u001b[0m\u001b[1;33m]\u001b[0m\u001b[1;33m.\u001b[0m\u001b[0mdecode\u001b[0m\u001b[1;33m(\u001b[0m\u001b[1;34m\"utf-8\"\u001b[0m\u001b[1;33m)\u001b[0m\u001b[1;33m\u001b[0m\u001b[1;33m\u001b[0m\u001b[0m\n",
      "\u001b[1;31mAttributeError\u001b[0m: 'NoneType' object has no attribute 'split'"
     ]
    }
   ],
   "source": [
    "from sklearn.cluster import KMeans\n",
    "\n",
    "sse={}\n",
    "df_recency = df_user[['Recency']]\n",
    "for k in range(1, 10):\n",
    "    kmeans = KMeans(n_clusters=k, max_iter=1000).fit(df_recency)\n",
    "    df_recency[\"clusters\"] = kmeans.labels_\n",
    "    sse[k] = kmeans.inertia_\n",
    "    \n",
    "plt.figure(figsize=(10, 5))\n",
    "plt.plot(list(sse.keys()), list(sse.values()))\n",
    "plt.xlabel(\"Number of cluster\")\n",
    "plt.show()"
   ]
  },
  {
   "cell_type": "markdown",
   "metadata": {
    "id": "t1bpq1q4eC_I"
   },
   "source": [
    "Here it looks like 4 is the optimal number of clusters. Based on business requirements, I can go ahead with less or more clusters. In tis case i will be selecting 5."
   ]
  },
  {
   "cell_type": "code",
   "execution_count": null,
   "metadata": {
    "id": "5PXP8nO4dj3z"
   },
   "outputs": [],
   "source": [
    "#building 5 clusters for recency and adding it to dataframe\n",
    "kmeans = KMeans(n_clusters=5)\n",
    "kmeans.fit(df_user[['Recency']])\n",
    "df_user['RecencyCluster'] = kmeans.predict(df_user[['Recency']])\n",
    "\n",
    "#function for ordering cluster numbers\n",
    "def order_cluster(cluster_field_name, target_field_name,df,ascending):\n",
    "    new_cluster_field_name = 'new_' + cluster_field_name\n",
    "    df_new = df.groupby(cluster_field_name)[target_field_name].mean().reset_index()\n",
    "    df_new = df_new.sort_values(by=target_field_name,ascending=ascending).reset_index(drop=True)\n",
    "    df_new['index'] = df_new.index\n",
    "    df_final = pd.merge(df,df_new[[cluster_field_name,'index']], on=cluster_field_name)\n",
    "    df_final = df_final.drop([cluster_field_name],axis=1)\n",
    "    df_final = df_final.rename(columns={\"index\":cluster_field_name})\n",
    "    return df_final\n",
    "\n",
    "df_user = order_cluster('RecencyCluster', 'Recency',df_user,False)"
   ]
  },
  {
   "cell_type": "code",
   "execution_count": null,
   "metadata": {
    "colab": {
     "base_uri": "https://localhost:8080/",
     "height": 238
    },
    "id": "yCk0Neludj6O",
    "outputId": "63247cb7-9562-4cc3-d3f0-2ee0b5bd59e8"
   },
   "outputs": [],
   "source": [
    "#displaying the details of each cluster\n",
    "df_user.groupby('RecencyCluster')['Recency'].describe()"
   ]
  },
  {
   "cell_type": "markdown",
   "metadata": {
    "id": "v2hkPElieWjp"
   },
   "source": [
    "From the above table the recency clusters have different characteristics. The customers in Cluster 4 are very recent compared to Cluster 3 and 2.\n",
    "Hence cluster 4 covers the most active customers wheras cluster 0 covers the most inactive"
   ]
  },
  {
   "cell_type": "markdown",
   "metadata": {
    "id": "8EJj8dbwewAg"
   },
   "source": [
    "## Frequency\n",
    "\n",
    "To create frequency clusters, i will need to find total number orders for each customer, after which i cango ahead and place them in various clusters"
   ]
  },
  {
   "cell_type": "code",
   "execution_count": null,
   "metadata": {
    "id": "hTa46TxNdj8n"
   },
   "outputs": [],
   "source": [
    "#get order counts for each user and create a dataframe with it\n",
    "df_frequency = df.groupby('CustomerUniqueID').PurchaseTime.count().reset_index()\n",
    "df_frequency.columns = ['customer_unique_id','Frequency']\n",
    "\n",
    "#add this data to our main dataframe\n",
    "df_user = pd.merge(df_user, df_frequency, on='customer_unique_id')"
   ]
  },
  {
   "cell_type": "code",
   "execution_count": null,
   "metadata": {
    "colab": {
     "base_uri": "https://localhost:8080/"
    },
    "id": "Z9NrhmTqdj_M",
    "outputId": "33cd0af7-4208-4b2e-b10a-002a983ca946"
   },
   "outputs": [],
   "source": [
    "# getting summary statistics of the recency table\n",
    "df_user.Frequency.describe()"
   ]
  },
  {
   "cell_type": "code",
   "execution_count": null,
   "metadata": {
    "colab": {
     "base_uri": "https://localhost:8080/",
     "height": 395
    },
    "id": "dskEfLygdkBt",
    "outputId": "2ca9dd93-0a56-49e4-f066-389a0fa61b9c"
   },
   "outputs": [],
   "source": [
    "# plotting the distribution of the continous feature set\n",
    "sns.set(palette='muted', color_codes=True, style='whitegrid')\n",
    "fig, ax = plt.subplots(figsize=(12, 6))\n",
    "sns.despine(left=True)\n",
    "sns.distplot(df_user['Frequency'], hist=False)\n",
    "plt.show()"
   ]
  },
  {
   "cell_type": "code",
   "execution_count": null,
   "metadata": {
    "colab": {
     "base_uri": "https://localhost:8080/",
     "height": 238
    },
    "id": "Xdm0qc2nfTlw",
    "outputId": "bc8e751d-b39d-453f-fbc4-78139077748b"
   },
   "outputs": [],
   "source": [
    "#k-means\n",
    "kmeans = KMeans(n_clusters=5)\n",
    "kmeans.fit(df_user[['Frequency']])\n",
    "df_user['FrequencyCluster'] = kmeans.predict(df_user[['Frequency']])\n",
    "\n",
    "#order the frequency cluster\n",
    "df_user = order_cluster('FrequencyCluster', 'Frequency',df_user,True)\n",
    "\n",
    "#see details of each cluster\n",
    "df_user.groupby('FrequencyCluster')['Frequency'].describe()"
   ]
  },
  {
   "cell_type": "markdown",
   "metadata": {
    "id": "uMFiTTxFfiia"
   },
   "source": [
    "As the same notation as recency clusters, high frequency number indicates better customers."
   ]
  },
  {
   "cell_type": "markdown",
   "metadata": {
    "id": "yLcyePFPf0M7"
   },
   "source": [
    "## Revenue\n",
    "Let’s see how our customer base looks like when I cluster them based on revenue. I will calculate revenue for each customer, plot a histogram and apply the same clustering method."
   ]
  },
  {
   "cell_type": "code",
   "execution_count": null,
   "metadata": {
    "id": "tPmTiCAtfYC0"
   },
   "outputs": [],
   "source": [
    "#calculate revenue for each customer\n",
    "df_revenue = df.groupby('CustomerUniqueID').PaymentValue.sum().reset_index()\n",
    "df_revenue.columns = ['customer_unique_id','payment_value']\n",
    "\n",
    "#merge it with our main dataframe\n",
    "df_user = pd.merge(df_user, df_revenue, on='customer_unique_id')"
   ]
  },
  {
   "cell_type": "code",
   "execution_count": null,
   "metadata": {
    "colab": {
     "base_uri": "https://localhost:8080/",
     "height": 394
    },
    "id": "r1v5b3lwglvW",
    "outputId": "c8ed415f-62f1-4f7c-93b8-6dfd2525a6f8"
   },
   "outputs": [],
   "source": [
    "# plotting the distribution of the continous feature set\n",
    "sns.set(palette='muted', color_codes=True, style='white')\n",
    "fig, ax = plt.subplots(figsize=(12, 6))\n",
    "sns.despine(left=True)\n",
    "sns.distplot(df_user['payment_value'], hist=False)\n",
    "plt.show()"
   ]
  },
  {
   "cell_type": "code",
   "execution_count": null,
   "metadata": {
    "colab": {
     "base_uri": "https://localhost:8080/",
     "height": 350
    },
    "id": "ciYweBlMhNK4",
    "outputId": "29fedbba-8c3b-4758-f83c-929eedaf4416"
   },
   "outputs": [],
   "source": [
    "sse={}\n",
    "df_revenue = df_user[['payment_value']]\n",
    "for k in range(1, 10):\n",
    "    kmeans = KMeans(n_clusters=k, max_iter=1000).fit(df_revenue)\n",
    "    df_revenue[\"clusters\"] = kmeans.labels_\n",
    "    sse[k] = kmeans.inertia_\n",
    "    \n",
    "plt.figure(figsize=(10, 5))\n",
    "plt.plot(list(sse.keys()), list(sse.values()))\n",
    "plt.xlabel(\"Number of cluster\")\n",
    "plt.show()"
   ]
  },
  {
   "cell_type": "code",
   "execution_count": null,
   "metadata": {
    "colab": {
     "base_uri": "https://localhost:8080/",
     "height": 269
    },
    "id": "l9yLiaXjhNNL",
    "outputId": "a94bf347-2061-4065-d0c9-68a2b0b6eef9"
   },
   "outputs": [],
   "source": [
    "#apply clustering\n",
    "kmeans = KMeans(n_clusters=6)\n",
    "kmeans.fit(df_user[['payment_value']])\n",
    "df_user['RevenueCluster'] = kmeans.predict(df_user[['payment_value']])\n",
    "\n",
    "\n",
    "#order the cluster numbers\n",
    "df_user = order_cluster('RevenueCluster', 'payment_value',df_user,True)\n",
    "\n",
    "#show details of the dataframe\n",
    "df_user.groupby('RevenueCluster')['payment_value'].describe()"
   ]
  },
  {
   "cell_type": "markdown",
   "metadata": {
    "id": "VpDoNynOhbP5"
   },
   "source": [
    "## Overall Score\n",
    "\n",
    "After creating various metric scores (cluster numbers) for recency, frequency & revenue. now i will proceed to create an overall score out of them:"
   ]
  },
  {
   "cell_type": "code",
   "execution_count": null,
   "metadata": {
    "id": "9nH-1hIZhNPi"
   },
   "outputs": [],
   "source": [
    "# #renaming columns\n",
    "# df_user.columns = ['customer_unique_id','Frequency', 'FrequencyCluster', 'Monetary', 'RevenueCluster']\n",
    "# #calculate overall score and use mean() to see details\n",
    "# df_user['OverallScore'] = df_user['FrequencyCluster'] + df_user['RevenueCluster']\n",
    "# df_user.groupby('OverallScore')['Frequency','Monetary'].mean()"
   ]
  },
  {
   "cell_type": "markdown",
   "metadata": {
    "id": "1WlTHyNNhj6L"
   },
   "source": [
    "The scoring above clearly shows us that customers with score 12 is our best customers whereas 0 is the worst.\n",
    "\n",
    "To keep things simple, better we name these scores:\n",
    "- 0 to 4: Low Value\n",
    "- 5 to 7: Mid Value\n",
    "- 8+: High Value"
   ]
  },
  {
   "cell_type": "code",
   "execution_count": null,
   "metadata": {
    "id": "1tguC__FhNR4"
   },
   "outputs": [],
   "source": [
    "# df_user['Segment'] = 'Low-Value'\n",
    "# df_user.loc[df_user['OverallScore']>3,'Segment'] = 'Mid-Value' \n",
    "# df_user.loc[df_user['OverallScore']>6,'Segment'] = 'High-Value' "
   ]
  },
  {
   "cell_type": "code",
   "execution_count": null,
   "metadata": {
    "id": "guHi1Su8hNT_"
   },
   "outputs": [],
   "source": [
    "# df_user.head()"
   ]
  },
  {
   "cell_type": "code",
   "execution_count": null,
   "metadata": {
    "id": "Q97Mg1eGh4gY"
   },
   "outputs": [],
   "source": [
    "# # plotting the distribution of the continous feature set\n",
    "# sns.set(palette='muted', color_codes=True, style='whitegrid')\n",
    "# fig, axs = plt.subplots(1, 3, figsize=(22, 5))\n",
    "# sns.despine(left=True)\n",
    "# sns.scatterplot(x='Recency', y='Frequency', ax=axs[0], hue='Segment', data=df_user, size='Segment', sizes=(50,150), size_order=['High-Value','Mid-Value','Low-Value'])\n",
    "# sns.scatterplot(x='Frequency', y='Monetary', ax=axs[1], hue='Segment', data=df_user, size='Segment' , sizes=(50,150), size_order=['High-Value','Mid-Value','Low-Value'])\n",
    "# sns.scatterplot(x='Recency', y='Monetary', ax=axs[2], hue='Segment', data=df_user, size='Segment' , sizes=(50,150), size_order=['High-Value','Mid-Value','Low-Value'])\n",
    "# axs[0].set_title('Customer Segments by Recency & Frequency')\n",
    "# axs[1].set_title('Customer Segments by Frequency & Monetary')\n",
    "# axs[2].set_title('Customer Segments by Recency & Monetary')\n",
    "# plt.show()"
   ]
  },
  {
   "cell_type": "markdown",
   "metadata": {
    "id": "RXhnCzBWe4zV"
   },
   "source": [
    "# 3 - Customer Lifetime Value"
   ]
  },
  {
   "cell_type": "markdown",
   "metadata": {
    "id": "FubjuZ1M5_H8"
   },
   "source": [
    "### 4months RFM scoring and Clustering \n",
    "- We took 4 months and 6 months of the data.\n",
    "- 4 months of data to calculate RFM scores, and to use it to predict 6 months of data."
   ]
  },
  {
   "cell_type": "code",
   "execution_count": null,
   "metadata": {
    "colab": {
     "base_uri": "https://localhost:8080/",
     "height": 424
    },
    "id": "_NzvJujBfj8i",
    "outputId": "bece7deb-a01d-4436-d611-22716e4ac4fc"
   },
   "outputs": [],
   "source": [
    "# Preparing to separate df into 4 and 6 months\n",
    "clv_df = df[['CustomerUniqueID','PurchaseTime','PaymentValue']]\n",
    "clv_df['PurchaseTime'] = pd.to_datetime(clv_df['PurchaseTime']).dt.date\n",
    "clv_df.columns = ['customer_unique_id','PurchaseTime','Revenue']\n",
    "clv_df"
   ]
  },
  {
   "cell_type": "code",
   "execution_count": null,
   "metadata": {
    "colab": {
     "base_uri": "https://localhost:8080/"
    },
    "id": "uPUFJa63gPM0",
    "outputId": "f9bc481d-c4a5-47d9-b39e-a3b6c4b16d10"
   },
   "outputs": [],
   "source": [
    "clv_df['customer_unique_id'].value_counts()"
   ]
  },
  {
   "cell_type": "code",
   "execution_count": null,
   "metadata": {
    "colab": {
     "base_uri": "https://localhost:8080/"
    },
    "id": "TfOqj1vOgVvK",
    "outputId": "ad79c739-33a4-43ac-bc1c-01b7d335bde6"
   },
   "outputs": [],
   "source": [
    "# Time range of customer purchase\n",
    "maxdate = clv_df['PurchaseTime'].max()\n",
    "mindate = clv_df['PurchaseTime'].min()\n",
    "print(f\"Time range of the transactions are : {mindate} to {maxdate}\")"
   ]
  },
  {
   "cell_type": "code",
   "execution_count": null,
   "metadata": {
    "id": "2w0NU96QgZg-"
   },
   "outputs": [],
   "source": [
    "# Create 4 month and 6 month dataframes\n",
    "df_4m = clv_df[(clv_df.PurchaseTime < date(2018,3,1)) & (clv_df.PurchaseTime >= date(2017,11,1))].reset_index(drop=True)\n",
    "df_6m = clv_df[(clv_df.PurchaseTime >= date(2018,3,1)) & (clv_df.PurchaseTime < date(2018,9,1))].reset_index(drop=True)"
   ]
  },
  {
   "cell_type": "code",
   "execution_count": null,
   "metadata": {
    "colab": {
     "base_uri": "https://localhost:8080/"
    },
    "id": "iwew_ZSOrOzc",
    "outputId": "fbfe8272-9895-41bf-8de3-2df88072990f"
   },
   "outputs": [],
   "source": [
    "# Check and dropping duplicates\n",
    "df_4m = df_4m.drop_duplicates(keep='first')\n",
    "df_4m.duplicated().any()"
   ]
  },
  {
   "cell_type": "code",
   "execution_count": null,
   "metadata": {
    "colab": {
     "base_uri": "https://localhost:8080/"
    },
    "id": "jwm6Jc5AhFD8",
    "outputId": "fb15ec40-7bc0-4a7b-bd85-9a2dd694214e"
   },
   "outputs": [],
   "source": [
    "df_4m['customer_unique_id'].value_counts()"
   ]
  },
  {
   "cell_type": "code",
   "execution_count": null,
   "metadata": {
    "colab": {
     "base_uri": "https://localhost:8080/",
     "height": 350
    },
    "id": "-bnI39JtqtKB",
    "outputId": "0bcde26e-6e56-46ec-ee1c-22fe37a837da"
   },
   "outputs": [],
   "source": [
    "# Calculating revenue for 4 months data \n",
    "df_user_4m = df_4m.groupby('customer_unique_id')['Revenue'].sum().reset_index()\n",
    "\n",
    "\n",
    "# Check number of clusters\n",
    "sse={}\n",
    "df_revenue02 = df_user_4m[['Revenue']]\n",
    "for k in range(1, 10):\n",
    "    kmeans = KMeans(n_clusters=k, max_iter=1000).fit(df_revenue02)\n",
    "    df_revenue02[\"clusters\"] = kmeans.labels_\n",
    "    sse[k] = kmeans.inertia_\n",
    "    \n",
    "plt.figure(figsize=(10, 5))\n",
    "plt.plot(list(sse.keys()), list(sse.values()))\n",
    "plt.xlabel(\"Number of cluster\")\n",
    "plt.show()"
   ]
  },
  {
   "cell_type": "code",
   "execution_count": null,
   "metadata": {
    "id": "KZsUVYxfgRwO"
   },
   "outputs": [],
   "source": [
    "# Creating 3 clusters\n",
    "km = KMeans(n_clusters=3)\n",
    "km.fit(df_user_4m[['Revenue']])\n",
    "df_user_4m['RevenueCluster_4m'] = km.predict(df_user_4m[['Revenue']])\n",
    "\n",
    "# Ordering cluster method\n",
    "df_user_4m = order_cluster('RevenueCluster_4m', 'Revenue',df_user_4m,True)"
   ]
  },
  {
   "cell_type": "code",
   "execution_count": null,
   "metadata": {
    "colab": {
     "base_uri": "https://localhost:8080/",
     "height": 350
    },
    "id": "wXJsyRBPhfIQ",
    "outputId": "dcf41e76-deb2-4dfd-8ced-4b95e8a020fd"
   },
   "outputs": [],
   "source": [
    "# Calculating recency score for 4 months data\n",
    "max_purchase = df_4m.groupby('customer_unique_id').PurchaseTime.max().reset_index()\n",
    "max_purchase.columns = ['customer_unique_id','MaxPurchaseDate']\n",
    "max_purchase['Recency_4m'] = (max_purchase['MaxPurchaseDate'].max() - max_purchase['MaxPurchaseDate']).dt.days\n",
    "df_user_4m = pd.merge(df_user_4m, max_purchase[['customer_unique_id','Recency_4m']], on='customer_unique_id')\n",
    "\n",
    "\n",
    "# Check number of clusters using Elbow Method to get the optimal cluster number for optimal inertia\n",
    "sse={}\n",
    "df_recency02 = df_user_4m[['Recency_4m']]\n",
    "for k in range(1, 10):\n",
    "    kmeans = KMeans(n_clusters=k, max_iter=1000).fit(df_recency02)\n",
    "    df_recency02[\"clusters\"] = kmeans.labels_\n",
    "    sse[k] = kmeans.inertia_\n",
    "    \n",
    "plt.figure(figsize=(10, 5))\n",
    "plt.plot(list(sse.keys()), list(sse.values()))\n",
    "plt.xlabel(\"Number of cluster\")\n",
    "plt.show()"
   ]
  },
  {
   "cell_type": "code",
   "execution_count": null,
   "metadata": {
    "colab": {
     "base_uri": "https://localhost:8080/",
     "height": 206
    },
    "id": "354E0MCRhnuY",
    "outputId": "346c251d-e108-4364-d15d-ad9c0156b45c"
   },
   "outputs": [],
   "source": [
    "# Creating 3 clusters\n",
    "km = KMeans(n_clusters=3)\n",
    "km.fit(df_user_4m[['Recency_4m']])\n",
    "df_user_4m['RecencyCluster_4m'] = km.predict(df_user_4m[['Recency_4m']])\n",
    "\n",
    "# Ordering cluster method\n",
    "df_user_4m = order_cluster('RecencyCluster_4m', 'Recency_4m',df_user_4m,False)\n",
    "df_user_4m.head()"
   ]
  },
  {
   "cell_type": "code",
   "execution_count": null,
   "metadata": {
    "colab": {
     "base_uri": "https://localhost:8080/",
     "height": 339
    },
    "id": "3FMFDHw9iKNJ",
    "outputId": "a33f278a-9ddb-418d-e9b6-f5bf36649fcc"
   },
   "outputs": [],
   "source": [
    "# Calcuate frequency score for 4 months data\n",
    "df_frequency02 = df_4m.groupby('customer_unique_id').PurchaseTime.count().reset_index()\n",
    "df_frequency02.columns = ['customer_unique_id','Frequency_4m']\n",
    "df_user_4m = pd.merge(df_user_4m, df_frequency02, on='customer_unique_id')\n",
    "\n",
    "\n",
    "# Check number of clusters\n",
    "sse={}\n",
    "df_frequency02 = df_user_4m[['Frequency_4m']]\n",
    "for k in range(1, 10):\n",
    "    kmeans = KMeans(n_clusters=k, max_iter=1000).fit(df_frequency02)\n",
    "    df_frequency02[\"clusters\"] = kmeans.labels_\n",
    "    sse[k] = kmeans.inertia_\n",
    "    \n",
    "plt.figure(figsize=(10, 5))\n",
    "plt.plot(list(sse.keys()), list(sse.values()))\n",
    "plt.xlabel(\"Number of cluster\")\n",
    "plt.show()"
   ]
  },
  {
   "cell_type": "code",
   "execution_count": null,
   "metadata": {
    "colab": {
     "base_uri": "https://localhost:8080/",
     "height": 424
    },
    "id": "M_fbq8BtiSod",
    "outputId": "85e73732-d910-495e-af7e-89530e061ee0"
   },
   "outputs": [],
   "source": [
    "# Creating 3 clusters\n",
    "kmeans = KMeans(n_clusters=3)\n",
    "kmeans.fit(df_user_4m[['Frequency_4m']])\n",
    "df_user_4m['FrequencyCluster_4m'] = kmeans.predict(df_user_4m[['Frequency_4m']])\n",
    "\n",
    "# Ordering cluster method\n",
    "df_user_4m = order_cluster('FrequencyCluster_4m', 'Frequency_4m',df_user_4m,True)\n",
    "df_user_4m"
   ]
  },
  {
   "cell_type": "code",
   "execution_count": null,
   "metadata": {
    "colab": {
     "base_uri": "https://localhost:8080/",
     "height": 424
    },
    "id": "dmniFMkAkBKN",
    "outputId": "e18738e9-9ebc-4218-f55d-ee3372cce266"
   },
   "outputs": [],
   "source": [
    "# Dropping recency\n",
    "# df_user_4m = df_user_4m.drop(['Recency_4m','RecencyCluster_4m'], axis=1)\n",
    "df_user_4m"
   ]
  },
  {
   "cell_type": "code",
   "execution_count": null,
   "metadata": {
    "colab": {
     "base_uri": "https://localhost:8080/",
     "height": 300
    },
    "id": "MZ0fh0-CjLek",
    "outputId": "a7818af2-c6f1-4ca5-866d-07734d9bfcc6"
   },
   "outputs": [],
   "source": [
    "# Calculate overall score and use mean() to see details\n",
    "df_user_4m['OverallScore'] = df_user_4m['RecencyCluster_4m'] + df_user_4m['FrequencyCluster_4m'] + df_user_4m['RevenueCluster_4m']\n",
    "df_user_4m.groupby('OverallScore')['Recency_4m','Frequency_4m','Revenue'].mean()"
   ]
  },
  {
   "cell_type": "code",
   "execution_count": null,
   "metadata": {
    "colab": {
     "base_uri": "https://localhost:8080/"
    },
    "id": "jhK60JcOjWuM",
    "outputId": "f415f092-0f8c-4398-96dd-5c8ee5cc5978"
   },
   "outputs": [],
   "source": [
    "# Check each cluster count to determine the segment\n",
    "df_user_4m.groupby('OverallScore')['Revenue'].count()"
   ]
  },
  {
   "cell_type": "markdown",
   "metadata": {
    "id": "6g8Hygq3kSOp"
   },
   "source": [
    "Converting into categorical values:\n",
    "- 0-2: Low Value\n",
    "- 3-4: Mid Value\n",
    "- 5-6: High Value"
   ]
  },
  {
   "cell_type": "code",
   "execution_count": null,
   "metadata": {
    "id": "BBFoXZrdjxer"
   },
   "outputs": [],
   "source": [
    "# Overall scoring\n",
    "df_user_4m['Segment'] = 'Low-Value'\n",
    "df_user_4m.loc[df_user_4m['OverallScore'] > 2,'Segment'] = 'Mid-Value' \n",
    "df_user_4m.loc[df_user_4m['OverallScore'] > 4,'Segment'] = 'High-Value' "
   ]
  },
  {
   "cell_type": "markdown",
   "metadata": {
    "id": "9gTLCCVg6x9b"
   },
   "source": [
    "### Correlations between CLV and 6m cluster"
   ]
  },
  {
   "cell_type": "code",
   "execution_count": null,
   "metadata": {
    "colab": {
     "base_uri": "https://localhost:8080/"
    },
    "id": "CzjPqoaFlmDY",
    "outputId": "352a5968-2fc0-46ee-c894-c13bcc448e32"
   },
   "outputs": [],
   "source": [
    "# 6 months LTV for each customer which we are going to use for training our model\n",
    "df_6m = df_6m.drop_duplicates(keep='first')\n",
    "df_6m['customer_unique_id'].value_counts()"
   ]
  },
  {
   "cell_type": "code",
   "execution_count": null,
   "metadata": {
    "colab": {
     "base_uri": "https://localhost:8080/",
     "height": 424
    },
    "id": "VyUCKDotmHlS",
    "outputId": "6333ac45-ff1a-49a9-cdfb-ce70a8f09841"
   },
   "outputs": [],
   "source": [
    "# Calculating Revenue for 6 months data\n",
    "# Using Revenue as direct CLV \n",
    "df_user_6m = df_6m.groupby('customer_unique_id')['Revenue'].sum().reset_index()\n",
    "df_user_6m"
   ]
  },
  {
   "cell_type": "markdown",
   "metadata": {
    "id": "knQl-N4tx4ev"
   },
   "source": [
    "We will merge our 4 months and 6 months dataframes to see correlations between CLV and the feature set we have."
   ]
  },
  {
   "cell_type": "code",
   "execution_count": null,
   "metadata": {
    "colab": {
     "base_uri": "https://localhost:8080/"
    },
    "id": "6eXQBySUvkKF",
    "outputId": "a5becba3-c99c-4c14-ab6a-e15c8d75b709"
   },
   "outputs": [],
   "source": [
    "# Creating new df with 4 months and 6 months df\n",
    "df_merge02 = pd.merge(df_user_4m, df_user_6m, on='customer_unique_id', how='left', suffixes=['_4m', '_6m'])\n",
    "\n",
    "# treating nan values with replacing into 0\n",
    "df_merge02 = df_merge02.fillna(0)\n",
    "\n",
    "# Mean for each segment\n",
    "df_merge02.groupby('Segment')['Revenue_6m'].mean()\n"
   ]
  },
  {
   "cell_type": "code",
   "execution_count": null,
   "metadata": {
    "colab": {
     "base_uri": "https://localhost:8080/"
    },
    "id": "GojKPmtByZi6",
    "outputId": "42af5704-8eb0-436d-c5d5-46d6dc5695d6"
   },
   "outputs": [],
   "source": [
    "# Count customer who made a purchase in both 4 and 6 months period\n",
    "df_merge02['Revenue_6m'].value_counts()"
   ]
  },
  {
   "cell_type": "code",
   "execution_count": null,
   "metadata": {
    "colab": {
     "base_uri": "https://localhost:8080/"
    },
    "id": "aFFGrrzTXPvg",
    "outputId": "b6e77e3b-daaa-463f-d920-9c860a85afe6"
   },
   "outputs": [],
   "source": [
    "df_merge02.duplicated().sum()"
   ]
  },
  {
   "cell_type": "code",
   "execution_count": null,
   "metadata": {
    "colab": {
     "base_uri": "https://localhost:8080/",
     "height": 350
    },
    "id": "_ORht9C1zF-7",
    "outputId": "832f0aeb-66d6-4d89-ef96-d461aaedaba4"
   },
   "outputs": [],
   "source": [
    "# Check number of clusters\n",
    "sse={}\n",
    "df_revenue_6m = df_merge02[['Revenue_6m']]\n",
    "for k in range(1, 10):\n",
    "    kmeans = KMeans(n_clusters=k, max_iter=1000).fit(df_revenue_6m)\n",
    "    df_revenue_6m[\"clusters\"] = kmeans.labels_\n",
    "    sse[k] = kmeans.inertia_\n",
    "    \n",
    "plt.figure(figsize=(10, 5))\n",
    "plt.plot(list(sse.keys()), list(sse.values()))\n",
    "plt.xlabel(\"Number of cluster\")\n",
    "plt.show()"
   ]
  },
  {
   "cell_type": "code",
   "execution_count": null,
   "metadata": {
    "colab": {
     "base_uri": "https://localhost:8080/",
     "height": 143
    },
    "id": "14xpW26qQMAc",
    "outputId": "71d9ec39-d992-4b02-9559-bf5c3b58a346"
   },
   "outputs": [],
   "source": [
    "#creating 2 clusters\n",
    "km = KMeans(n_clusters=2)\n",
    "km.fit(df_merge02[['Revenue_6m']])\n",
    "df_merge02['CLVCluster'] = km.predict(df_merge02[['Revenue_6m']])\n",
    "\n",
    "\n",
    "# Ordering cluster number based on CLV\n",
    "df_merge02 = order_cluster('CLVCluster', 'Revenue_6m', df_merge02, True)\n",
    "\n",
    "# Check details of the clusters\n",
    "df_merge02.groupby('CLVCluster')['Revenue_6m'].describe()"
   ]
  },
  {
   "cell_type": "markdown",
   "metadata": {
    "id": "92RNGsujQ2wm"
   },
   "source": [
    "With Outlier: \n",
    "\n",
    "Cluster 1 is the best with average 282, whereas Cluster 0 is the worst with 0.6."
   ]
  },
  {
   "cell_type": "code",
   "execution_count": null,
   "metadata": {
    "colab": {
     "base_uri": "https://localhost:8080/",
     "height": 206
    },
    "id": "tgsQEvfYRNXa",
    "outputId": "ce76b86d-7db5-4e23-b889-9d324d068528"
   },
   "outputs": [],
   "source": [
    "# Making a copy of the df - with outlier\n",
    "df_cluster = df_merge02.copy()\n",
    "df_cluster.head()"
   ]
  },
  {
   "cell_type": "markdown",
   "metadata": {
    "id": "3BpE9b2J6jtf"
   },
   "source": [
    "### Feature Engineering"
   ]
  },
  {
   "cell_type": "code",
   "execution_count": null,
   "metadata": {
    "id": "qd3PYtEG2h4J"
   },
   "outputs": [],
   "source": [
    "# Drop customerID column\n",
    "df_cluster = df_cluster.iloc[:, 1:]\n",
    "\n",
    "# Convert categorical variable into dummy/indicator variables\n",
    "df_cluster = pd.get_dummies(df_cluster)"
   ]
  },
  {
   "cell_type": "code",
   "execution_count": null,
   "metadata": {
    "colab": {
     "base_uri": "https://localhost:8080/"
    },
    "id": "7ejflhpD1oTA",
    "outputId": "e8a04ee0-1271-4677-ae5b-04ebe554b986"
   },
   "outputs": [],
   "source": [
    "# Correlation matrix\n",
    "corr_matrix = df_cluster.corr()\n",
    "corr_matrix['CLVCluster'].sort_values(ascending=False)"
   ]
  },
  {
   "cell_type": "code",
   "execution_count": null,
   "metadata": {
    "colab": {
     "base_uri": "https://localhost:8080/",
     "height": 617
    },
    "id": "4k_C9dYcxTnQ",
    "outputId": "8a5aef90-b75a-4de2-ff72-745b01a1be9f"
   },
   "outputs": [],
   "source": [
    "sns.heatmap(corr_matrix, annot=True)"
   ]
  },
  {
   "cell_type": "code",
   "execution_count": null,
   "metadata": {
    "colab": {
     "base_uri": "https://localhost:8080/",
     "height": 424
    },
    "id": "n4ClqyK_tWp9",
    "outputId": "ac1afaa8-3f94-492f-ee92-4f83e4c8f336"
   },
   "outputs": [],
   "source": [
    "# Feature scaling using Robust Scaler\n",
    "from sklearn.preprocessing import RobustScaler\n",
    "scaler = RobustScaler()\n",
    "scaled_df = pd.DataFrame(scaler.fit_transform(df_cluster))\n",
    "scaled_df.columns = df_cluster.columns\n",
    "scaled_df\n",
    "\n",
    "# # Feature scaling using Standard Scaler\n",
    "# from sklearn.preprocessing import StandardScaler\n",
    "# scaler = StandardScaler()\n",
    "# scaled_df = pd.DataFrame(scaler.fit_transform(df_cluster))\n",
    "# scaled_df.columns = df_cluster.columns\n",
    "# scaled_df\n",
    "# # Gives an error: Unknown label type: 'continuous'"
   ]
  },
  {
   "cell_type": "code",
   "execution_count": null,
   "metadata": {
    "id": "I314rGq6SbVm"
   },
   "outputs": [],
   "source": [
    "# Create x (feature set), y (target set) - with outlier\n",
    "x = scaled_df.drop(['CLVCluster','Revenue_6m'],axis=1)\n",
    "y = scaled_df['CLVCluster']\n",
    "\n",
    "\n",
    "# Split training and testing sets\n",
    "from sklearn.model_selection import train_test_split\n",
    "x_train, x_test, y_train, y_test = train_test_split(x, y, test_size=0.25, random_state=1)"
   ]
  },
  {
   "cell_type": "markdown",
   "metadata": {
    "id": "e76mBt3qcdTg"
   },
   "source": [
    "### Random Over sampling"
   ]
  },
  {
   "cell_type": "code",
   "execution_count": null,
   "metadata": {
    "id": "F2T-D6v5cjsM"
   },
   "outputs": [],
   "source": [
    "from imblearn.over_sampling import RandomOverSampler, SMOTE\n",
    "from imblearn.under_sampling import RandomUnderSampler\n",
    "from sklearn.metrics import accuracy_score, classification_report\n",
    "from collections import Counter"
   ]
  },
  {
   "cell_type": "code",
   "execution_count": null,
   "metadata": {
    "id": "PhUj3Zobcjvf"
   },
   "outputs": [],
   "source": [
    "# #printing the #obs of each class before oversampling\n",
    "# print('Before : ',Counter(y_train), '\\n')\n",
    "\n",
    "# #applying SMOTE\n",
    "# smt = SMOTE( sampling_strategy={0:21006,1:21006}, k_neighbors=2, random_state=1)\n",
    "# x_train_over, y_train_over = smt.fit_resample(x_train, y_train)\n",
    "\n",
    "# over = RandomOverSampler()\n",
    "# x_test_over, y_test_over = over.fit_resample(x_test, y_test)\n",
    "\n",
    "# #printing the #obs of each class after oversampling\n",
    "# print('After : ',Counter(y_train_over))\n",
    "# print('After : ',Counter(y_test_over))"
   ]
  },
  {
   "cell_type": "code",
   "execution_count": null,
   "metadata": {
    "id": "bvI3CyNzcj3c"
   },
   "outputs": [],
   "source": [
    "#sns.scatterplot(x_over[:,0], x_over[:,1], x_over[:,2], hue=y_over, alpha=.5)"
   ]
  },
  {
   "cell_type": "code",
   "execution_count": null,
   "metadata": {
    "colab": {
     "base_uri": "https://localhost:8080/"
    },
    "id": "V7vph-mmeANk",
    "outputId": "3de6fe8f-e930-446d-acbe-f102c87a11c1"
   },
   "outputs": [],
   "source": [
    "print('Train Before : ',Counter(y_train))\n",
    "print('Test Before : ',Counter(y_test),'\\n')\n",
    "\n",
    "# Initiating random undersampler\n",
    "under = RandomUnderSampler()\n",
    "# Resampling x, y\n",
    "x_train_under, y_train_under = under.fit_resample(x_train, y_train)\n",
    "x_test_under, y_test_under = under.fit_resample(x_test, y_test)\n",
    "\n",
    "print('Train After : ',Counter(y_train_under))\n",
    "print('Test After : ',Counter(y_test_under))"
   ]
  },
  {
   "cell_type": "code",
   "execution_count": null,
   "metadata": {
    "colab": {
     "base_uri": "https://localhost:8080/"
    },
    "id": "az4roWp9deWB",
    "outputId": "03fb4bd3-92d2-4df1-d6d1-8d6a17a18f36"
   },
   "outputs": [],
   "source": [
    "y_train_under.shape"
   ]
  },
  {
   "cell_type": "markdown",
   "metadata": {
    "id": "5GzrMHmxBF9x"
   },
   "source": [
    "### Model Building"
   ]
  },
  {
   "cell_type": "code",
   "execution_count": null,
   "metadata": {
    "id": "mWbr0m9Q283Q"
   },
   "outputs": [],
   "source": [
    "from xgboost import XGBClassifier\n",
    "from sklearn.ensemble import AdaBoostClassifier, BaggingClassifier, GradientBoostingClassifier\n",
    "from sklearn.ensemble import RandomForestClassifier\n",
    "from sklearn.tree import DecisionTreeClassifier\n",
    "from sklearn.linear_model import LogisticRegression\n",
    "from sklearn.svm import SVC\n",
    "from sklearn.naive_bayes import GaussianNB\n",
    "from sklearn.metrics import accuracy_score, classification_report"
   ]
  },
  {
   "cell_type": "code",
   "execution_count": null,
   "metadata": {
    "id": "BFTbk1Jf3F0f"
   },
   "outputs": [],
   "source": [
    "# # Creating object of the models\n",
    "xg = XGBClassifier(random_state=1, use_label_encoder=False)\n",
    "bc = BaggingClassifier() \n",
    "ada = AdaBoostClassifier()\n",
    "gbc = GradientBoostingClassifier()\n",
    "rf = RandomForestClassifier(n_estimators= 5, criterion=\"entropy\")\n",
    "dt = DecisionTreeClassifier()\n",
    "lg = LogisticRegression()\n",
    "svc = SVC()\n",
    "nb = GaussianNB()"
   ]
  },
  {
   "cell_type": "code",
   "execution_count": null,
   "metadata": {
    "colab": {
     "base_uri": "https://localhost:8080/"
    },
    "id": "ouDYxzj03QVa",
    "outputId": "15fe8ceb-a7bd-4d2a-a123-e12a224c5922"
   },
   "outputs": [],
   "source": [
    "# List of models\n",
    "#models_2 = [rf, dt]\n",
    "models_2 = [xg, bc, ada, gbc, rf, dt, lg, svc]\n",
    "models_2"
   ]
  },
  {
   "cell_type": "code",
   "execution_count": null,
   "metadata": {
    "colab": {
     "base_uri": "https://localhost:8080/"
    },
    "id": "bgM40a4K3n2f",
    "outputId": "05ab9a4a-015c-4fee-9f96-5d4de2e67067"
   },
   "outputs": [],
   "source": [
    "## Classification Report - undersample\n",
    "for i in models_2:\n",
    "\n",
    "  # Model fit to train data\n",
    "  i.fit(x_train_under, y_train_under)\n",
    "  \n",
    "  # Predicting on test\n",
    "  pred_test2 = i.predict(x_test_under)\n",
    "  acc_test2 = accuracy_score(y_test_under, pred_test2)\n",
    "\n",
    "  # Predicting on train\n",
    "  pred_train2 = i.predict(x_train_under)\n",
    "  acc_train2 = accuracy_score(y_train_under, pred_train2)\n",
    "\n",
    "  ##classification report\n",
    "  report_under = classification_report(y_test_under, pred_test2)\n",
    "  print(f\"{i} Classification report on under sampled data\\n\\n\",report_under)\n",
    "\n",
    "\n",
    "  print(f\"Test accuracy for {i} is: {acc_test2}\")\n",
    "  print(f\"Train accuracy for {i} is: {acc_train2}\\n\\n\")"
   ]
  },
  {
   "cell_type": "code",
   "execution_count": null,
   "metadata": {
    "id": "gxmTLiOOYRJ-"
   },
   "outputs": [],
   "source": [
    "import sys\n",
    "\n",
    "print(sys.version)"
   ]
  },
  {
   "cell_type": "code",
   "execution_count": null,
   "metadata": {},
   "outputs": [],
   "source": [
    "from platform import python_version\n",
    "\n",
    "print(python_version())"
   ]
  },
  {
   "cell_type": "code",
   "execution_count": null,
   "metadata": {},
   "outputs": [],
   "source": []
  }
 ],
 "metadata": {
  "colab": {
   "collapsed_sections": [
    "GkA9EFyb8Ofy",
    "Hkgc7QCnA8pW",
    "Ds8vImZ0KMpU",
    "TbxK8LM6KaCj",
    "5adb65bf",
    "ec89c403",
    "SsMFAKv4Kkug",
    "m0G4ky-db1IH",
    "8EJj8dbwewAg",
    "yLcyePFPf0M7",
    "9gTLCCVg6x9b",
    "3BpE9b2J6jtf",
    "e76mBt3qcdTg"
   ],
   "name": "Final-submit CLV.ipynb",
   "provenance": []
  },
  "kernelspec": {
   "display_name": "Python 3",
   "language": "python",
   "name": "python3"
  },
  "language_info": {
   "codemirror_mode": {
    "name": "ipython",
    "version": 3
   },
   "file_extension": ".py",
   "mimetype": "text/x-python",
   "name": "python",
   "nbconvert_exporter": "python",
   "pygments_lexer": "ipython3",
   "version": "3.8.3"
  }
 },
 "nbformat": 4,
 "nbformat_minor": 5
}
